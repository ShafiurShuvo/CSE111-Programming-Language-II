{
  "nbformat": 4,
  "nbformat_minor": 0,
  "metadata": {
    "colab": {
      "provenance": []
    },
    "kernelspec": {
      "name": "python3",
      "display_name": "Python 3"
    },
    "language_info": {
      "name": "python"
    }
  },
  "cells": [
    {
      "cell_type": "markdown",
      "source": [
        "Task - 1"
      ],
      "metadata": {
        "id": "m5CCxT5lEkaP"
      }
    },
    {
      "cell_type": "code",
      "execution_count": null,
      "metadata": {
        "id": "XG2ycSVMEdtm",
        "colab": {
          "base_uri": "https://localhost:8080/"
        },
        "outputId": "93b392cc-136b-43e4-f563-411e5bd3194e"
      },
      "outputs": [
        {
          "output_type": "stream",
          "name": "stdout",
          "text": [
            "Name: A\n",
            "Age: 55\n",
            "Weight: 63.0 kg\n",
            "Height: 158.0 cm\n",
            "BMI: 25.236340330075304\n",
            "====================\n",
            "Name: B\n",
            "Age: 53\n",
            "Weight: 61.0 kg\n",
            "Height: 149.0 cm\n",
            "BMI: 27.476239809017613\n"
          ]
        }
      ],
      "source": [
        "class Patient:\n",
        "    def __init__(self, name, age, weight, height):\n",
        "        self.name = name\n",
        "        self.age = age\n",
        "        self.weight = weight\n",
        "        self.height = height\n",
        "\n",
        "    def printDetails(self):\n",
        "        print(f\"Name: {self.name}\")\n",
        "        print(f\"Age: {self.age}\")\n",
        "        print(f\"Weight: {self.weight} kg\")\n",
        "        print(f\"Height: {self.height} cm\")\n",
        "\n",
        "        BMI = self.weight/(self.height/100) **2\n",
        "        print(f\"BMI: {BMI}\")\n",
        "\n",
        "p1 = Patient(\"A\", 55, 63.0, 158.0)\n",
        "p1.printDetails()\n",
        "print(\"====================\")\n",
        "p2 = Patient(\"B\", 53, 61.0, 149.0)\n",
        "p2.printDetails()"
      ]
    },
    {
      "cell_type": "markdown",
      "source": [
        "Task - 2"
      ],
      "metadata": {
        "id": "eXTOpItCEnWw"
      }
    },
    {
      "cell_type": "code",
      "source": [
        "class Shape:\n",
        "    def __init__(self, shape, x, y):\n",
        "        self.shape = shape\n",
        "        self.x = x\n",
        "        self.y = y\n",
        "\n",
        "    def triangle(self):\n",
        "        triangle = 0.5 * self.x * self.y\n",
        "        print(f\"Area: {triangle}\")\n",
        "    def square(self):\n",
        "        square = self.x * self.y\n",
        "        print(f\"Area: {square}\")\n",
        "    def rhombus(self):\n",
        "        rhombus = 0.5 * self.x * self.y\n",
        "        print(f\"Area: {rhombus}\")\n",
        "    def rectangle(self):\n",
        "        rectangle = self.x * self.y\n",
        "        print(f\"Area: {rectangle}\")\n",
        "\n",
        "    def area(self):\n",
        "        if self.shape == \"Triangle\":\n",
        "            self.triangle()\n",
        "        elif self.shape == \"Square\":\n",
        "            self.square()\n",
        "        elif self.shape == \"Rhombus\":\n",
        "            self.rhombus()\n",
        "        elif self.shape == \"Rectangle\":\n",
        "            self.rectangle()\n",
        "        else:\n",
        "            print(\"Shape unknown\")\n",
        "\n",
        "\n",
        "triangle = Shape(\"Triangle\",10,25)\n",
        "triangle.area()\n",
        "print(\"==========================\")\n",
        "square = Shape(\"Square\",10,10)\n",
        "square.area()\n",
        "print(\"==========================\")\n",
        "rhombus = Shape(\"Rhombus\",18,25)\n",
        "rhombus.area()\n",
        "print(\"==========================\")\n",
        "rectangle = Shape(\"Rectangle\",15,30)\n",
        "rectangle.area()\n",
        "print(\"==========================\")\n",
        "trapezium = Shape(\"Trapezium\",15,30)\n",
        "trapezium.area()"
      ],
      "metadata": {
        "id": "DEdkaRDjEoPo",
        "colab": {
          "base_uri": "https://localhost:8080/"
        },
        "outputId": "7168deee-d147-46e1-a8bc-7063254f1236"
      },
      "execution_count": null,
      "outputs": [
        {
          "output_type": "stream",
          "name": "stdout",
          "text": [
            "Area: 125.0\n",
            "==========================\n",
            "Area: 100\n",
            "==========================\n",
            "Area: 225.0\n",
            "==========================\n",
            "Area: 450\n",
            "==========================\n",
            "Shape unknown\n"
          ]
        }
      ]
    },
    {
      "cell_type": "markdown",
      "source": [
        "Task - 3"
      ],
      "metadata": {
        "id": "LZfsN6P7EnZR"
      }
    },
    {
      "cell_type": "code",
      "source": [
        "class Calculator:\n",
        "    def __init__(self):\n",
        "        print(\"Calculator is ready!\")\n",
        "\n",
        "    def calculate(self, value1, value2, operator):\n",
        "        self.value1 = value1\n",
        "        self.value2 = value2\n",
        "        self.operator = operator\n",
        "\n",
        "\n",
        "        if operator == \"+\":\n",
        "            self.result = value1 + value2\n",
        "        elif operator == \"-\":\n",
        "            self.result = value1 - value2\n",
        "        elif operator == \"*\":\n",
        "            self.result = value1 * value2\n",
        "        elif operator == \"/\":\n",
        "            self.result = value1 / value2\n",
        "        return self.result\n",
        "\n",
        "    def showCalculation(self):\n",
        "        print(f\"{self.value1} {self.operator} {self.value2} = {self.result}\")\n",
        "\n",
        "\n",
        "\n",
        "c1 = Calculator()\n",
        "print(\"==================\")\n",
        "val = c1.calculate(10, 20, '+')\n",
        "print(\"Returned value:\", val)\n",
        "c1.showCalculation()\n",
        "print(\"==================\")\n",
        "val = c1.calculate(val, 10, '-')\n",
        "print(\"Returned value:\", val)\n",
        "c1.showCalculation()\n",
        "print(\"==================\")\n",
        "val = c1.calculate(val, 5, '*')\n",
        "print(\"Returned value:\", val)\n",
        "c1.showCalculation()\n",
        "print(\"==================\")\n",
        "val = c1.calculate(val, 16, '/')\n",
        "print(\"Returned value:\", val)\n",
        "c1.showCalculation()"
      ],
      "metadata": {
        "colab": {
          "base_uri": "https://localhost:8080/"
        },
        "id": "WjTXO99sFecD",
        "outputId": "252de6ad-7b15-4c67-9663-adfbfc447907"
      },
      "execution_count": null,
      "outputs": [
        {
          "output_type": "stream",
          "name": "stdout",
          "text": [
            "Calculatot is ready!\n",
            "==================\n",
            "Returned value: 30\n",
            "10 + 20 = 30\n",
            "==================\n",
            "Returned value: 20\n",
            "30 - 10 = 20\n",
            "==================\n",
            "Returned value: 100\n",
            "20 * 5 = 100\n",
            "==================\n",
            "Returned value: 6.25\n",
            "100 / 16 = 6.25\n"
          ]
        }
      ]
    },
    {
      "cell_type": "markdown",
      "source": [
        "Task - 4"
      ],
      "metadata": {
        "id": "KxXNy90OEnbr"
      }
    },
    {
      "cell_type": "code",
      "source": [
        "class Programmer:\n",
        "    def __init__(self, name, language, experience):\n",
        "        self.name = name\n",
        "        self.language = language\n",
        "        self.experience = experience\n",
        "        print(\"Horray! A new programmer is born\")\n",
        "\n",
        "    def printDetails(self):\n",
        "        print(f\"Name: {self.name}\")\n",
        "        print(f\"Language: {self.language}\")\n",
        "        print(f\"Experience {self.experience}\")\n",
        "\n",
        "    def addExp(self, experience):\n",
        "        print(f\"Updating experience of {self.name}\")\n",
        "        self.experience += experience\n",
        "\n",
        "\n",
        "p1 = Programmer(\"Ethen Hunt\", \"Java\", 10)\n",
        "p1.printDetails()\n",
        "print('--------------------------')\n",
        "p2 = Programmer(\"James Bond\", \"C++\", 7)\n",
        "p2.printDetails()\n",
        "print('--------------------------')\n",
        "p3 = Programmer(\"Jon Snow\", \"Python\", 4)\n",
        "p3.printDetails()\n",
        "p3.addExp(5)\n",
        "p3.printDetails()"
      ],
      "metadata": {
        "colab": {
          "base_uri": "https://localhost:8080/"
        },
        "id": "L6VP3HIJ1od2",
        "outputId": "d953bad9-f36e-4c31-bf67-683ba5d47259"
      },
      "execution_count": null,
      "outputs": [
        {
          "output_type": "stream",
          "name": "stdout",
          "text": [
            "Horray! A new programmer is born\n",
            "Name: Ethen Hunt\n",
            "Language: Java\n",
            "Experience 10\n",
            "--------------------------\n",
            "Horray! A new programmer is born\n",
            "Name: James Bond\n",
            "Language: C++\n",
            "Experience 7\n",
            "--------------------------\n",
            "Horray! A new programmer is born\n",
            "Name: Jon Snow\n",
            "Language: Python\n",
            "Experience 4\n",
            "Updating experience of Jon Snow\n",
            "Name: Jon Snow\n",
            "Language: Python\n",
            "Experience 9\n"
          ]
        }
      ]
    },
    {
      "cell_type": "markdown",
      "source": [
        "Task - 5"
      ],
      "metadata": {
        "id": "HPc1qOTJEneI"
      }
    },
    {
      "cell_type": "code",
      "source": [
        "class UberEats:\n",
        "    def __init__(self, name, phone, address):\n",
        "        self.name = name\n",
        "        self.phone = phone\n",
        "        self.address = address\n",
        "        print(f\"{self.name}, welcome to UberEats!\")\n",
        "\n",
        "\n",
        "\n",
        "    def add_items(self, item1, item2, price1, price2):\n",
        "        self.menu = {item1: price1, item2: price2}\n",
        "        self.total_price = price1 + price2\n",
        "\n",
        "\n",
        "    def print_order_detail(self):\n",
        "        print(f\"User details: Name: {self.name}, Phone: {self.phone}, Address: {self.address}\")\n",
        "        print(f\"Orders: {self.menu}\")\n",
        "\n",
        "        return(f\"Total Paid Ammount: {self.total_price}\")\n",
        "\n",
        "order1 = UberEats(\"Shakib\", \"01719658xxx\", \"Mohakhali\")\n",
        "print(\"=========================\")\n",
        "order1.add_items(\"Burger\", \"Coca Cola\", 220, 50)\n",
        "print(\"=========================\")\n",
        "print(order1.print_order_detail())\n",
        "print(\"=========================\")\n",
        "order2 = UberEats (\"Siam\", \"01719659xxx\", \"Uttara\")\n",
        "print(\"=========================\")\n",
        "order2.add_items(\"Pineapple\", \"Dairy Milk\", 80, 70)\n",
        "print(\"=========================\")\n",
        "print(order2.print_order_detail())"
      ],
      "metadata": {
        "colab": {
          "base_uri": "https://localhost:8080/"
        },
        "id": "BOorXnSl4-uE",
        "outputId": "f96823b4-bb56-48a6-85b5-f2326b62777a"
      },
      "execution_count": null,
      "outputs": [
        {
          "output_type": "stream",
          "name": "stdout",
          "text": [
            "Shakib, welcome to UberEats!\n",
            "=========================\n",
            "=========================\n",
            "User details: Name: Shakib, Phone: 01719658xxx, Address: Mohakhali\n",
            "Orders: {'Burger': 220, 'Coca Cola': 50}\n",
            "Total Paid Ammount: 270\n",
            "=========================\n",
            "Siam, welcome to UberEats!\n",
            "=========================\n",
            "=========================\n",
            "User details: Name: Siam, Phone: 01719659xxx, Address: Uttara\n",
            "Orders: {'Pineapple': 80, 'Dairy Milk': 70}\n",
            "Total Paid Ammount: 150\n"
          ]
        }
      ]
    },
    {
      "cell_type": "markdown",
      "source": [
        "Task - 6"
      ],
      "metadata": {
        "id": "mKGHeipqEng3"
      }
    },
    {
      "cell_type": "code",
      "source": [
        "class Customer:\n",
        "    def __init__(self, name):\n",
        "        self.name = name\n",
        "\n",
        "    def greet(self, name = None):\n",
        "        if name == None:\n",
        "            print(f\"Hello!\")\n",
        "        else:\n",
        "            print(f\"Hello {name}!\")\n",
        "\n",
        "    def purchase(self, *items):\n",
        "        print(f\"{self.name}, you purchased {len(items)} item(s):\")\n",
        "        # print(*items, sep= \"\\n\")\n",
        "\n",
        "        for item in items:\n",
        "            print(item)\n",
        "\n",
        "\n",
        "customer_1 = Customer(\"Sam\")\n",
        "customer_1.greet()\n",
        "customer_1.purchase(\"chips\", \"chocolate\", \"orange juice\")\n",
        "print(\"-----------------------------\")\n",
        "customer_2 = Customer(\"David\")\n",
        "customer_2.greet(\"David\")\n",
        "customer_2.purchase(\"orange juice\")"
      ],
      "metadata": {
        "colab": {
          "base_uri": "https://localhost:8080/"
        },
        "id": "vhWDDX-mFOot",
        "outputId": "9d6de241-2c8a-4550-bc82-9cad8c0da9f5"
      },
      "execution_count": null,
      "outputs": [
        {
          "output_type": "stream",
          "name": "stdout",
          "text": [
            "Hello!\n",
            "Sam, you purchased 3 item(s):\n",
            "chips\n",
            "chocolate\n",
            "orange juice\n",
            "-----------------------------\n",
            "Hello David!\n",
            "David, you purchased 1 item(s):\n",
            "orange juice\n"
          ]
        }
      ]
    },
    {
      "cell_type": "markdown",
      "source": [
        "Task - 7"
      ],
      "metadata": {
        "id": "w3HxnoXGEnjl"
      }
    },
    {
      "cell_type": "code",
      "source": [
        "class Cat:\n",
        "    def __init__(self, color = \"White\", position = \"Sitting\"):\n",
        "        self. color = color\n",
        "        self.position = position\n",
        "\n",
        "    def printCat(self):\n",
        "        print(f\"{self.color} cat is {self.position}\")\n",
        "\n",
        "    def changeColor(self, c):\n",
        "        self.color = c\n",
        "\n",
        "\n",
        "c1 = Cat()\n",
        "c2 = Cat(\"Black\")\n",
        "c3 = Cat(\"Brown\", \"jumping\")\n",
        "c4 = Cat(\"Red\", \"purring\")\n",
        "c1.printCat()\n",
        "c2.printCat()\n",
        "c3.printCat()\n",
        "c4.printCat()\n",
        "c1.changeColor(\"Blue\")\n",
        "c3.changeColor(\"Purple\")\n",
        "c1.printCat()\n",
        "c3.printCat()"
      ],
      "metadata": {
        "colab": {
          "base_uri": "https://localhost:8080/"
        },
        "id": "xeF6oFIynHPO",
        "outputId": "630c0c70-65bc-4369-9657-89658c0d440c"
      },
      "execution_count": null,
      "outputs": [
        {
          "output_type": "stream",
          "name": "stdout",
          "text": [
            "White cat is Sitting\n",
            "Black cat is Sitting\n",
            "Brown cat is jumping\n",
            "Red cat is purring\n",
            "Blue cat is Sitting\n",
            "Purple cat is jumping\n"
          ]
        }
      ]
    },
    {
      "cell_type": "markdown",
      "source": [
        "Task - 8"
      ],
      "metadata": {
        "id": "xHNEPkOREnmF"
      }
    },
    {
      "cell_type": "code",
      "source": [
        "class Student:\n",
        "    def __init__(self, name, id, department = \"CSE\"):\n",
        "        self.name = name\n",
        "        self.id = id\n",
        "        self.department = department\n",
        "\n",
        "    def dailyEffort(self, hour):\n",
        "        self.effort = hour\n",
        "\n",
        "    def printDetails(self):\n",
        "        print(f\"Name: {self.name}\")\n",
        "        print(f\"ID: {self.id}\")\n",
        "        print(f\"Department: {self.department}\")\n",
        "        print(f\"Daily Effort: {self.effort} hour(s)\")\n",
        "\n",
        "        if self.effort <= 2:\n",
        "            print(f\"Suggestion: Should give more effort!\")\n",
        "        elif self.effort > 2 and self.effort <= 4:\n",
        "            print(f\"Suggestion: Keep up the good work!\")\n",
        "        else:\n",
        "            print(f\"Suggestion: Excellent! Now motivate others.\")\n",
        "\n",
        "harry = Student('Harry Potter', 123)\n",
        "harry.dailyEffort(3)\n",
        "harry.printDetails()\n",
        "print('========================')\n",
        "john = Student(\"John Wick\", 456, \"BBA\")\n",
        "john.dailyEffort(2)\n",
        "john.printDetails()\n",
        "print('========================')\n",
        "naruto = Student(\"Naruto Uzumaki\", 777, \"Ninja\")\n",
        "naruto.dailyEffort(6)\n",
        "naruto.printDetails()"
      ],
      "metadata": {
        "colab": {
          "base_uri": "https://localhost:8080/"
        },
        "id": "MQUPXw6GgMwf",
        "outputId": "4922f718-1f85-43a5-b54c-4ab7a97dcec2"
      },
      "execution_count": null,
      "outputs": [
        {
          "output_type": "stream",
          "name": "stdout",
          "text": [
            "Name: Harry Potter\n",
            "ID: 123\n",
            "Department: CSE\n",
            "Daily Effort: 3 hour(s)\n",
            "Suggestion: Keep up the good work!\n",
            "========================\n",
            "Name: John Wick\n",
            "ID: 456\n",
            "Department: BBA\n",
            "Daily Effort: 2 hour(s)\n",
            "Suggestion: Should give more effort!\n",
            "========================\n",
            "Name: Naruto Uzumaki\n",
            "ID: 777\n",
            "Department: Ninja\n",
            "Daily Effort: 6 hour(s)\n",
            "Suggestion: Excellent! Now motivate others.\n"
          ]
        }
      ]
    },
    {
      "cell_type": "markdown",
      "source": [
        "Task - 9"
      ],
      "metadata": {
        "id": "h_1R91kJE1zT"
      }
    },
    {
      "cell_type": "code",
      "source": [
        "class Batsman:\n",
        "    def __init__(self, *info):\n",
        "        self.info = info\n",
        "\n",
        "        if len(info) == 3:\n",
        "            self.name = info[0]\n",
        "            self.run = info[1]\n",
        "            self.ball = info[2]\n",
        "        else:\n",
        "            self.name = \"New Batsman\"\n",
        "            self.run = info[0]\n",
        "            self.ball = info[1]\n",
        "\n",
        "    def battingStrikeRate(self):\n",
        "        self.sr = (self.run / self.ball) * 100\n",
        "        return self.sr\n",
        "\n",
        "    def printCareerStatistics(self):\n",
        "        print(f\"Name: {self.name}\")\n",
        "        print(f\"Runs Scored: {self.run} , Balls Faced: {self.ball}\")\n",
        "        #print(self.s/r)\n",
        "\n",
        "    def setName(self, name):\n",
        "        self.name = name\n",
        "\n",
        "\n",
        "b1 = Batsman(6101, 7380)\n",
        "b1.printCareerStatistics()\n",
        "print(\"============================\")\n",
        "b2 = Batsman(\"Liton Das\", 678, 773)\n",
        "b2.printCareerStatistics()\n",
        "print(\"----------------------------\")\n",
        "print(b2.battingStrikeRate())\n",
        "print(\"============================\")\n",
        "b1.setName(\"Shakib Al Hasan\")\n",
        "b1.printCareerStatistics()\n",
        "print(\"----------------------------\")\n",
        "print(b1.battingStrikeRate())"
      ],
      "metadata": {
        "id": "pw9PrMENFosl",
        "colab": {
          "base_uri": "https://localhost:8080/"
        },
        "outputId": "4aa48c92-34dd-41a5-d345-8c6f478f95b8"
      },
      "execution_count": null,
      "outputs": [
        {
          "output_type": "stream",
          "name": "stdout",
          "text": [
            "Name: New Batsman\n",
            "Runs Scored: 6101 , Balls Faced: 7380\n",
            "============================\n",
            "Name: Liton Das\n",
            "Runs Scored: 678 , Balls Faced: 773\n",
            "----------------------------\n",
            "87.71021992238033\n",
            "============================\n",
            "Name: Shakib Al Hasan\n",
            "Runs Scored: 6101 , Balls Faced: 7380\n",
            "----------------------------\n",
            "82.66937669376694\n"
          ]
        }
      ]
    },
    {
      "cell_type": "markdown",
      "source": [
        "Task - 10"
      ],
      "metadata": {
        "id": "mMe8I61CE1-5"
      }
    },
    {
      "cell_type": "code",
      "source": [
        "class Author :\n",
        "    def __init__(self, name = None, *books):\n",
        "        if name == None:\n",
        "            self.name = \"Default\"\n",
        "        else:\n",
        "            self.name = name\n",
        "\n",
        "        self.books = list(books)\n",
        "\n",
        "    def addBooks(self, *books):\n",
        "        self.books += list(books)\n",
        "\n",
        "    def printDetails(self):\n",
        "        print(f\"Author Name: {self.name}\")\n",
        "        print(\"--------\")\n",
        "        print(\"List of books:\")\n",
        "        for i in self.books:\n",
        "            print(i)\n",
        "\n",
        "    def changeName(self, n):\n",
        "        self.name = n\n",
        "\n",
        "\n",
        "auth1 = Author('Humayun Ahmed')\n",
        "auth1.addBooks('Deyal', 'Megher Opor Bari')\n",
        "auth1.printDetails()\n",
        "print(\"===================\")\n",
        "auth2 = Author()\n",
        "print(auth2.name)\n",
        "auth2.changeName('Mario Puzo')\n",
        "auth2.addBooks('The Godfather', 'Omerta', 'The Sicilian')\n",
        "print(\"===================\")\n",
        "auth2.printDetails()\n",
        "print(\"===================\")\n",
        "auth3 = Author('Paolo Coelho', 'The Alchemist', 'The Fifth Mountain')\n",
        "auth3.printDetails()"
      ],
      "metadata": {
        "colab": {
          "base_uri": "https://localhost:8080/"
        },
        "id": "-84TZEMra8mC",
        "outputId": "b3993cc3-a1c9-4f46-9bfc-7c6c5f46c563"
      },
      "execution_count": null,
      "outputs": [
        {
          "output_type": "stream",
          "name": "stdout",
          "text": [
            "Author Name: Humayun Ahmed\n",
            "--------\n",
            "List of books:\n",
            "Deyal\n",
            "Megher Opor Bari\n",
            "===================\n",
            "Default\n",
            "===================\n",
            "Author Name: Mario Puzo\n",
            "--------\n",
            "List of books:\n",
            "The Godfather\n",
            "Omerta\n",
            "The Sicilian\n",
            "===================\n",
            "Author Name: Paolo Coelho\n",
            "--------\n",
            "List of books:\n",
            "The Alchemist\n",
            "The Fifth Mountain\n"
          ]
        }
      ]
    },
    {
      "cell_type": "markdown",
      "source": [
        "Task - 11"
      ],
      "metadata": {
        "id": "CagE2B2ODFuH"
      }
    },
    {
      "cell_type": "code",
      "source": [
        "class TaxiLagbe:\n",
        "    def __init__(self, number, place):\n",
        "        self.number = number\n",
        "        self.place = place\n",
        "\n",
        "        #self.count = 0\n",
        "        self.passenger_list = []\n",
        "        self.fare_list = []\n",
        "\n",
        "\n",
        "    def addPassenger(self, *passengers):\n",
        "        self.passengers = passengers\n",
        "\n",
        "        if len(self.passenger_list) >= 4:\n",
        "            print(\"Taxi Full! No more passengers can be added.\")\n",
        "        else:\n",
        "            for i in self.passengers:\n",
        "                i = i.split(\"_\")\n",
        "\n",
        "                self.passenger_list.append(i[0])\n",
        "                print(f\"Dear {i[0]}! Welcome to TaxiLagbe.\")\n",
        "                self.fare_list.append(int(i[1]))\n",
        "\n",
        "\n",
        "    def printDetails(self):\n",
        "        print(f\"Trip info for Taxi number: {self.number}\")\n",
        "        print(f\"This taxi can cover only {self.place} area.\")\n",
        "        print(f\"Total passengers: {len(self.passenger_list)}\")\n",
        "\n",
        "        #for p in self.passenger_list:\n",
        "        #   pas += p\n",
        "        #   print(pas, sep = \", \")\n",
        "\n",
        "\n",
        "        x = \"\"\n",
        "        for name in self.passenger_list:\n",
        "            x += name + \", \"\n",
        "        print('Passenger lists:')\n",
        "        print(x[:-2])\n",
        "\n",
        "        y = 0\n",
        "        for fare in self.fare_list:\n",
        "            y += fare\n",
        "        print(f\"Total collected fare: {y} Taka\")\n",
        "\n",
        "\n",
        "\n",
        "taxi1 = TaxiLagbe('1010-01', 'Dhaka')\n",
        "print('-------------------------------')\n",
        "taxi1.addPassenger('Walker_100', 'Wood_200')\n",
        "taxi1.addPassenger('Matt_100')\n",
        "taxi1.addPassenger('Wilson_105')\n",
        "print('-------------------------------')\n",
        "taxi1.printDetails()\n",
        "print('-------------------------------')\n",
        "taxi1.addPassenger('Karen_200')\n",
        "print('-------------------------------')\n",
        "taxi1.printDetails()\n",
        "print('-------------------------------')\n",
        "taxi2 = TaxiLagbe('1010-02', 'Khulna')\n",
        "taxi2.addPassenger('Ronald_115')\n",
        "taxi2.addPassenger('Parker_215')\n",
        "print('-------------------------------')\n",
        "taxi2.printDetails()"
      ],
      "metadata": {
        "colab": {
          "base_uri": "https://localhost:8080/"
        },
        "id": "jKAeEP4fDRnO",
        "outputId": "7006697e-3a50-4a40-e3cb-82963b4ec26f"
      },
      "execution_count": null,
      "outputs": [
        {
          "output_type": "stream",
          "name": "stdout",
          "text": [
            "-------------------------------\n",
            "Dear Walker! Welcome to TaxiLagbe.\n",
            "Dear Wood! Welcome to TaxiLagbe.\n",
            "Dear Matt! Welcome to TaxiLagbe.\n",
            "Dear Wilson! Welcome to TaxiLagbe.\n",
            "-------------------------------\n",
            "Trip info for Taxi number: 1010-01\n",
            "This taxi can cover only Dhaka area.\n",
            "Total passengers: 4\n",
            "Passenger lists:\n",
            "Walker, Wood, Matt, Wilson\n",
            "Total collected fare: 505 Taka\n",
            "-------------------------------\n",
            "Taxi Full! No more passengers can be added.\n",
            "-------------------------------\n",
            "Trip info for Taxi number: 1010-01\n",
            "This taxi can cover only Dhaka area.\n",
            "Total passengers: 4\n",
            "Passenger lists:\n",
            "Walker, Wood, Matt, Wilson\n",
            "Total collected fare: 505 Taka\n",
            "-------------------------------\n",
            "Dear Ronald! Welcome to TaxiLagbe.\n",
            "Dear Parker! Welcome to TaxiLagbe.\n",
            "-------------------------------\n",
            "Trip info for Taxi number: 1010-02\n",
            "This taxi can cover only Khulna area.\n",
            "Total passengers: 2\n",
            "Passenger lists:\n",
            "Ronald, Parker\n",
            "Total collected fare: 330 Taka\n"
          ]
        }
      ]
    },
    {
      "cell_type": "markdown",
      "source": [
        "Task - 12"
      ],
      "metadata": {
        "id": "CD5kTSLPDF1A"
      }
    },
    {
      "cell_type": "code",
      "source": [
        "class Account:\n",
        "    def __init__(self, name = \"Default Account\", balance = 0.0):\n",
        "        self.name = name\n",
        "        self.balance = balance\n",
        "\n",
        "    def details(self):\n",
        "        #return f\"{self.name}\\n{float(self.balance)}\"\n",
        "        return f\"{self.name}\\n{self.balance}\"\n",
        "\n",
        "    def withdraw(self, withdraw_ammount):\n",
        "        self.withdraw_ammount = withdraw_ammount\n",
        "        self.new_balance = self.balance - self.withdraw_ammount\n",
        "        if self.new_balance <=3070:\n",
        "            print(f\"Sorry, Withdraw unsuccessful! The account balance after deducting withdraw amount is equal to or less than minimum.\")\n",
        "        else:\n",
        "            print(f\"Withdraw successful! New balance is: {self.new_balance}\")\n",
        "\n",
        "a1 = Account()\n",
        "print(a1.details())\n",
        "print(\"------------------------\")\n",
        "a1.name = \"Oliver\"\n",
        "a1.balance = 10000.0\n",
        "print(a1.details())\n",
        "print(\"------------------------\")\n",
        "a2 = Account(\"Liam\")\n",
        "print(a2.details())\n",
        "print(\"------------------------\")\n",
        "a3 = Account(\"Noah\",400)\n",
        "print(a3.details())\n",
        "print(\"------------------------\")\n",
        "a1.withdraw(6930)\n",
        "print(\"------------------------\")\n",
        "a2.withdraw(600)\n",
        "print(\"------------------------\")\n",
        "a1.withdraw(6929)"
      ],
      "metadata": {
        "colab": {
          "base_uri": "https://localhost:8080/"
        },
        "id": "mviCwwC-HK2E",
        "outputId": "240e781d-9475-4670-872c-e2f3485bfde9"
      },
      "execution_count": null,
      "outputs": [
        {
          "output_type": "stream",
          "name": "stdout",
          "text": [
            "Default Account\n",
            "0.0\n",
            "------------------------\n",
            "Oliver\n",
            "10000.0\n",
            "------------------------\n",
            "Liam\n",
            "0.0\n",
            "------------------------\n",
            "Noah\n",
            "400\n",
            "------------------------\n",
            "Sorry, Withdraw unsuccessful! The account balance after deducting withdraw amount is equal to or less than minimum.\n",
            "------------------------\n",
            "Sorry, Withdraw unsuccessful! The account balance after deducting withdraw amount is equal to or less than minimum.\n",
            "------------------------\n",
            "Withdraw successful! New balance is: 3071.0\n"
          ]
        }
      ]
    },
    {
      "cell_type": "markdown",
      "source": [
        "Task - 13"
      ],
      "metadata": {
        "id": "5Xuu-DsIDF4S"
      }
    },
    {
      "cell_type": "code",
      "source": [
        "class StudentDatabase:\n",
        "    def __init__(self, name, id):\n",
        "        self.name = name\n",
        "        self.id = int(id)\n",
        "        self.grades = {}\n",
        "\n",
        "    def calculateGPA(self, course, semester):\n",
        "        cgpa = 0\n",
        "        courses = []\n",
        "        for i in course:\n",
        "            i = i.split(\": \")\n",
        "            courses.append(i[0])\n",
        "            cgpa += float(i[1])\n",
        "\n",
        "        gpa = round(cgpa / len(courses), 2)\n",
        "        course_summary = {}\n",
        "        course_summary[tuple(courses)] = gpa\n",
        "        self.grades[semester] = course_summary\n",
        "\n",
        "\n",
        "    def printDetails(self):\n",
        "        print(f\"Name: {self.name}\")\n",
        "        print(f\"ID: {self.id}\")\n",
        "        for sem, cou in self.grades.items():\n",
        "            print(f\"Courses taken in {sem}:\")\n",
        "            for sub, cg in cou.items():\n",
        "                for res in sub:\n",
        "                    print(res)\n",
        "\n",
        "                print(f\"GPA: {cg}\")\n",
        "\n",
        "\n",
        "s1 = StudentDatabase('Pietro', '10101222')\n",
        "s1.calculateGPA(['CSE230: 4.0', 'CSE220: 4.0', 'MAT110: 4.0'], 'Summer2020')\n",
        "s1.calculateGPA(['CSE250: 3.7', 'CSE330: 4.0'], 'Summer2021')\n",
        "print(f'Grades for {s1.name}\\n{s1.grades}')\n",
        "print('------------------------------------------------------')\n",
        "s1.printDetails()\n",
        "s2 = StudentDatabase('Wanda', '10103332')\n",
        "s2.calculateGPA(['CSE111: 3.7', 'CSE260: 3.7', 'ENG101: 4.0'], 'Summer2022')\n",
        "print('------------------------------------------------------')\n",
        "print(f'Grades for {s2.name}\\n{s2.grades}')\n",
        "print('------------------------------------------------------')\n",
        "s2.printDetails()"
      ],
      "metadata": {
        "id": "ReHxld7jRKq0",
        "colab": {
          "base_uri": "https://localhost:8080/"
        },
        "outputId": "aacf4cee-a451-4071-b68b-112dbe55c17f"
      },
      "execution_count": null,
      "outputs": [
        {
          "output_type": "stream",
          "name": "stdout",
          "text": [
            "Grades for Pietro\n",
            "{'Summer2020': {('CSE230', 'CSE220', 'MAT110'): 4.0}, 'Summer2021': {('CSE250', 'CSE330'): 3.85}}\n",
            "------------------------------------------------------\n",
            "Name: Pietro\n",
            "ID: 10101222\n",
            "Courses taken in Summer2020:\n",
            "CSE230\n",
            "CSE220\n",
            "MAT110\n",
            "GPA: 4.0\n",
            "Courses taken in Summer2021:\n",
            "CSE250\n",
            "CSE330\n",
            "GPA: 3.85\n",
            "------------------------------------------------------\n",
            "Grades for Wanda\n",
            "{'Summer2022': {('CSE111', 'CSE260', 'ENG101'): 3.8}}\n",
            "------------------------------------------------------\n",
            "Name: Wanda\n",
            "ID: 10103332\n",
            "Courses taken in Summer2022:\n",
            "CSE111\n",
            "CSE260\n",
            "ENG101\n",
            "GPA: 3.8\n"
          ]
        }
      ]
    },
    {
      "cell_type": "markdown",
      "source": [
        "# Ungraded Task"
      ],
      "metadata": {
        "id": "DkrkCZihXMpl"
      }
    },
    {
      "cell_type": "markdown",
      "source": [
        "Task- 20"
      ],
      "metadata": {
        "id": "31pk2oWZXREW"
      }
    },
    {
      "cell_type": "code",
      "source": [
        "class Student:\n",
        "    def __init__(self, name = None, dept = None):\n",
        "        self.name = name\n",
        "        self.dept = dept\n",
        "\n",
        "        if self.name == None:\n",
        "            print(\"Student name and department need to be set\")\n",
        "        elif self.dept == None:\n",
        "            print(f\"Department for {self.name} needs to be set\")\n",
        "        else:\n",
        "            print(f\"{self.name} is from {self.dept} department\")\n",
        "\n",
        "    def update_name(self, n):\n",
        "        self.name = n\n",
        "\n",
        "    def update_department(self, department):\n",
        "        self.dept = department\n",
        "\n",
        "\n",
        "    def enroll(self, *courses):\n",
        "        self.courses = courses\n",
        "\n",
        "\n",
        "    def printDetail(self):\n",
        "        print(f\"Name: {self.name}\")\n",
        "        print(f\"Department: {self.dept}\")\n",
        "\n",
        "        print(f\"{self.name} enrolled in {len(self.courses)} course(s):\")\n",
        "        x = \"\"\n",
        "        for ele in self.courses:\n",
        "            x += ele + \", \"\n",
        "        print(x[:-2])\n",
        "\n",
        "\n",
        "s1 = Student()\n",
        "print(\"=========================\")\n",
        "s2 = Student(\"Carol\")\n",
        "print(\"=========================\")\n",
        "s3 = Student(\"Jon\", \"EEE\")\n",
        "print(\"=========================\")\n",
        "s1.update_name(\"Bob\")\n",
        "s1.update_department(\"CSE\")\n",
        "s2.update_department(\"BBA\")\n",
        "s1.enroll(\"CSE110\", \"MAT110\", \"ENG091\")\n",
        "s2.enroll(\"BUS101\")\n",
        "s3.enroll(\"MAT110\", \"PHY111\")\n",
        "print(\"###########################\")\n",
        "s1.printDetail()\n",
        "print(\"=========================\")\n",
        "s2.printDetail()\n",
        "print(\"=========================\")\n",
        "s3.printDetail()"
      ],
      "metadata": {
        "colab": {
          "base_uri": "https://localhost:8080/"
        },
        "id": "5OAoImk5XPmh",
        "outputId": "2bdefa30-29ff-44b4-8a40-59a2df7d16c0"
      },
      "execution_count": null,
      "outputs": [
        {
          "output_type": "stream",
          "name": "stdout",
          "text": [
            "Student name and department need to be set\n",
            "=========================\n",
            "Department for Carol needs to be set\n",
            "=========================\n",
            "Jon is from EEE department\n",
            "=========================\n",
            "###########################\n",
            "Name: Bob\n",
            "Department: CSE\n",
            "Bob enrolled in 3 course(s):\n",
            "CSE110, MAT110, ENG091\n",
            "=========================\n",
            "Name: Carol\n",
            "Department: BBA\n",
            "Carol enrolled in 1 course(s):\n",
            "BUS101\n",
            "=========================\n",
            "Name: Jon\n",
            "Department: EEE\n",
            "Jon enrolled in 2 course(s):\n",
            "MAT110, PHY111\n"
          ]
        }
      ]
    },
    {
      "cell_type": "markdown",
      "source": [
        "Task - 21"
      ],
      "metadata": {
        "id": "UlbGOX2Id98r"
      }
    },
    {
      "cell_type": "code",
      "source": [
        "class Student:\n",
        "    def __init__(self, name, id, dept):\n",
        "        self.name = name\n",
        "        self.id = id\n",
        "        self.dept = dept\n",
        "\n",
        "    def details(self):\n",
        "        #print(f\"Name: {self.name\")\n",
        "        #print(f\"ID: {self.id}\")\n",
        "        return f\"Name: {self.name}\\nID: {self.id}\\nDepartment: {self.dept}\"\n",
        "\n",
        "    def advise(self, *courses):\n",
        "        self.courses = courses\n",
        "\n",
        "        credit = 0.0\n",
        "        credit += len(courses) * 3\n",
        "        print(f\"{self.name}, you have taken {credit} credits\")\n",
        "\n",
        "        course = \"\"\n",
        "        for c in self.courses:\n",
        "            course += c + \", \"\n",
        "\n",
        "        print(f\"List of courses: {course[:-2]}\")\n",
        "\n",
        "\n",
        "        if credit in range(9, 12):\n",
        "            print(f\"Status: OK\")\n",
        "\n",
        "        elif credit == 3:\n",
        "            print(f\"Status: You have to take at least 2 more course.\")\n",
        "        elif credit == 6:\n",
        "            print(f\"Status: You have to take at least 1 more course.\")\n",
        "\n",
        "\n",
        "        elif credit == 18:\n",
        "            print(f\"Status: You have to drop at least 2 course.\")\n",
        "        elif credit == 15:\n",
        "            print(f\"Status: You have to drop at least 1 course.\")\n",
        "\n",
        "\n",
        "\n",
        "s1 = Student(\"Alice\",\"20103012\",\"CSE\")\n",
        "s2 = Student(\"Bob\", \"18301254\",\"EEE\")\n",
        "s3 = Student(\"Carol\", \"17101238\",\"CSE\")\n",
        "print(\"##########################\")\n",
        "print(s1.details())\n",
        "print(\"##########################\")\n",
        "print(s2.details())\n",
        "print(\"##########################\")\n",
        "s1.advise(\"CSE110\", \"MAT110\", \"PHY111\")\n",
        "print(\"##########################\")\n",
        "s2.advise(\"BUS101\", \"MAT120\")\n",
        "print(\"##########################\")\n",
        "s3.advise(\"MAT110\", \"PHY111\", \"ENG102\", \"CSE111\", \"CSE230\")\n",
        "# s3.advise(\"MAT110\", \"PHY111\", \"ENG102\", \"CSE111\", \"CSE230\", \"CSE260\")\n",
        "# s3.advise(\"MAT110\")"
      ],
      "metadata": {
        "colab": {
          "base_uri": "https://localhost:8080/"
        },
        "id": "Zn8YLfMLd_9a",
        "outputId": "25a8fa43-943b-4266-aa95-a3c3f2f30e91"
      },
      "execution_count": null,
      "outputs": [
        {
          "output_type": "stream",
          "name": "stdout",
          "text": [
            "##########################\n",
            "Name: Alice\n",
            "ID: 20103012\n",
            "Department: CSE\n",
            "##########################\n",
            "Name: Bob\n",
            "ID: 18301254\n",
            "Department: EEE\n",
            "##########################\n",
            "Alice, you have taken 9.0 credits\n",
            "List of courses: CSE110, MAT110, PHY111\n",
            "Status: OK\n",
            "##########################\n",
            "Bob, you have taken 6.0 credits\n",
            "List of courses: BUS101, MAT120\n",
            "Status: You have to take at least 1 more course.\n",
            "##########################\n",
            "Carol, you have taken 15.0 credits\n",
            "List of courses: MAT110, PHY111, ENG102, CSE111, CSE230\n",
            "Status: You have to drop at least 1 course.\n"
          ]
        }
      ]
    },
    {
      "cell_type": "markdown",
      "source": [
        "Task- 22"
      ],
      "metadata": {
        "id": "h-0Lecy-nWKY"
      }
    },
    {
      "cell_type": "code",
      "source": [
        "class Hotel:\n",
        "    def __init__(self, h_name):\n",
        "        self.h_name = h_name\n",
        "        self.stuff_id = 0\n",
        "        self.guest_id = 0\n",
        "        self.stuff_dict = {}\n",
        "        self.guest_dict = {}\n",
        "\n",
        "    def addStuff(self, name, age, phone = \"000\"):\n",
        "        self.stuff_id += 1\n",
        "        self.stuff_dict[self.stuff_id] = [name, age, phone]\n",
        "        print(f\"Staff With ID {self.stuff_id} is added\")\n",
        "    def getStuffById(self, id):\n",
        "        return f\"Staff ID: {id}\\nName: {self.stuff_dict[id][0]}\\nAge: {self.stuff_dict[id][1]}\\nPhone no: {self.stuff_dict[id][2]}\"\n",
        "\n",
        "    def addGuest(self, name, age, phone):\n",
        "        self.guest_id += 1\n",
        "        self.guest_dict[self.guest_id] = [name, age, phone]\n",
        "        print(f\"Guest With ID {self.guest_id} is created\")\n",
        "    def getGuestById(self, id):\n",
        "        return f\"Guest ID: {id}\\nName: {self.guest_dict[id][0]}\\nAge: {self.guest_dict[id][1]}\\nPhone no: {self.guest_dict[id][2]}\"\n",
        "\n",
        "    def allStaffs(self):\n",
        "        print(f\"All Staffs:\\nNumber of Staff: {self.stuff_id}\")\n",
        "        for key, value in self.stuff_dict.items():\n",
        "            print(f\"Staff ID: {key} Name: {value[0]} Age: {value[1]} Phone no.: {value[2]}\")\n",
        "\n",
        "    def allGuest(self):\n",
        "        print(f\"All Guest:\\nNumber of Guest: {self.guest_id}\")\n",
        "        for key, value in self.guest_dict.items():\n",
        "            print(f\"Guest ID: {key} Name: {value[0]} Age: {value[1]} Phone no.: {value[2]}\")\n",
        "\n",
        "h = Hotel(\"Lakeshore\")\n",
        "h.addStuff( \"Adam\", 26)\n",
        "print(\"=================================\")\n",
        "print(h.getStuffById(1))\n",
        "print(\"=================================\")\n",
        "h.addGuest(\"Carol\",35,\"123\")\n",
        "print(\"=================================\")\n",
        "print(h.getGuestById(1))\n",
        "print(\"=================================\")\n",
        "h.addGuest(\"Diana\", 32, \"431\")\n",
        "print(\"=================================\")\n",
        "print(h.getGuestById(2))\n",
        "print(\"=================================\")\n",
        "h.allStaffs()\n",
        "print(\"=================================\")\n",
        "h.allGuest()"
      ],
      "metadata": {
        "colab": {
          "base_uri": "https://localhost:8080/"
        },
        "id": "KVEWUoD_1TFj",
        "outputId": "8053ed93-fffe-45fb-a793-23a6e8acf022"
      },
      "execution_count": null,
      "outputs": [
        {
          "output_type": "stream",
          "name": "stdout",
          "text": [
            "Staff With ID 1 is added\n",
            "=================================\n",
            "Staff ID: 1\n",
            "Name: Adam\n",
            "Age: 26\n",
            "Phone no: 000\n",
            "=================================\n",
            "Guest With ID 1 is created\n",
            "=================================\n",
            "Guest ID: 1\n",
            "Name: Carol\n",
            "Age: 35\n",
            "Phone no: 123\n",
            "=================================\n",
            "Guest With ID 2 is created\n",
            "=================================\n",
            "Guest ID: 2\n",
            "Name: Diana\n",
            "Age: 32\n",
            "Phone no: 431\n",
            "=================================\n",
            "All Staffs:\n",
            "Number of Staff: 1\n",
            "Staff ID: 1 Name: Adam Age: 26 Phone no.: 000\n",
            "=================================\n",
            "All Guest:\n",
            "Number of Guest: 2\n",
            "Guest ID: 1 Name: Carol Age: 35 Phone no.: 123\n",
            "Guest ID: 2 Name: Diana Age: 32 Phone no.: 431\n"
          ]
        }
      ]
    },
    {
      "cell_type": "markdown",
      "source": [
        "Task- 23"
      ],
      "metadata": {
        "id": "uF868Ntu54jb"
      }
    },
    {
      "cell_type": "code",
      "source": [
        "class Author:\n",
        "    def __init__(self, name = None):\n",
        "        self.name = name\n",
        "        self.cat_list = {}\n",
        "\n",
        "    def addBook(self, b_name, category):\n",
        "        self.b_name = b_name\n",
        "        self.category = category\n",
        "\n",
        "        if self.name == None:\n",
        "            print(\"A book can not be added without author name\")\n",
        "\n",
        "        else:\n",
        "            if self.category not in self.cat_list:\n",
        "                self.cat_list[self.category] = [self.b_name]\n",
        "            else:\n",
        "                self.cat_list[self.category].append(self.b_name)\n",
        "\n",
        "\n",
        "    def setName(self, name):\n",
        "        self.name = name\n",
        "\n",
        "    def printDetail(self):\n",
        "        num_books = 0\n",
        "        for key, val in self.cat_list.items():\n",
        "            num_books += len(val)\n",
        "\n",
        "        print(f\"Number of Book(s): {num_books}\")\n",
        "        print(f\"Author Name: {self.name}\")\n",
        "\n",
        "        for key, val in self.cat_list.items():\n",
        "            st = \"\"\n",
        "            for i in val:\n",
        "                st += i + \", \"\n",
        "            st = st[:-2]\n",
        "\n",
        "            print(f\"{key}: {st}\")\n",
        "\n",
        "            # print(f\"{key}: {', '.join(val)}\")\n",
        "\n",
        "\n",
        "\n",
        "a1 = Author()\n",
        "print(\"=================================\")\n",
        "a1.addBook(\"Ice\", \"Science Fiction\")\n",
        "print(\"=================================\")\n",
        "a1.setName(\"Anna Kavan\")\n",
        "a1.addBook(\"Ice\", \"Science Fiction\")\n",
        "a1.printDetail()\n",
        "print(\"=================================\")\n",
        "a2 = Author(\"Humayun Ahmed\")\n",
        "a2.addBook(\"Onnobhubon\", \"Science Fiction\")\n",
        "a2.addBook(\"Megher Upor Bari\", \"Horror\")\n",
        "print(\"=================================\")\n",
        "a2.printDetail()\n",
        "a2.addBook(\"Ireena\", \"Science Fiction\")\n",
        "print(\"=================================\")\n",
        "a2.printDetail()\n",
        "print(\"=================================\")"
      ],
      "metadata": {
        "colab": {
          "base_uri": "https://localhost:8080/"
        },
        "id": "bD-NqVUF5hXl",
        "outputId": "e3fe626c-4f2f-4279-e9ec-2961e86f6e87"
      },
      "execution_count": null,
      "outputs": [
        {
          "output_type": "stream",
          "name": "stdout",
          "text": [
            "=================================\n",
            "A book can not be added without author name\n",
            "=================================\n",
            "Number of Book(s): 1\n",
            "Author Name: Anna Kavan\n",
            "Science Fiction: Ice\n",
            "=================================\n",
            "=================================\n",
            "Number of Book(s): 2\n",
            "Author Name: Humayun Ahmed\n",
            "Science Fiction: Onnobhubon\n",
            "Horror: Megher Upor Bari\n",
            "=================================\n",
            "Number of Book(s): 3\n",
            "Author Name: Humayun Ahmed\n",
            "Science Fiction: Onnobhubon, Ireena\n",
            "Horror: Megher Upor Bari\n",
            "=================================\n"
          ]
        }
      ]
    },
    {
      "cell_type": "markdown",
      "source": [
        "Task- 24"
      ],
      "metadata": {
        "id": "Hb51igy-569q"
      }
    },
    {
      "cell_type": "code",
      "source": [
        "class Hospital:\n",
        "    doctor = {}\n",
        "    patient = {}\n",
        "\n",
        "    def __init__(self, h_name):\n",
        "        self.h_name = h_name\n",
        "\n",
        "    def addDoctor(self, doc):\n",
        "        self.doctor[doc.id] = [doc.name, doc.spec]\n",
        "\n",
        "    def getDoctorByID(self, id):\n",
        "        return f\"Doctor's ID: {id}\\nName: {self.doctor[id][0]}\\nSpeciality: {self.doctor[id][1]}\"\n",
        "\n",
        "\n",
        "    def addPatient(self, pat):\n",
        "        self.patient[pat.id] = [pat.name, pat.age, pat.phone]\n",
        "\n",
        "    def getPatientByID(self, id):\n",
        "        return f\"Patient's ID: {id}\\nName: {self.patient[id][0]}\\nAge: {self.patient[id][1]}\\nPhone no.: {self.patient[id][2]}\"\n",
        "\n",
        "\n",
        "    def allDoctors(self):\n",
        "        print(f\"All Doctors:\\nNumber of Doctors: {len(self.doctor)}\")\n",
        "        print(self.doctor)\n",
        "\n",
        "    def allPatients(self):\n",
        "        print(f\"All Patients:\\nNumber of Patients: {len(self.patient)}\")\n",
        "        print(self.patient)\n",
        "\n",
        "class Doctor:\n",
        "    def __init__(self, id, doc, name, spec):\n",
        "        self.id = id\n",
        "        self.doc = doc\n",
        "        self.name = name\n",
        "        self.spec = spec\n",
        "\n",
        "\n",
        "class Patient:\n",
        "    def __init__(self, id, pat, name, age, phone):\n",
        "        self.id = id\n",
        "        self.pat = pat\n",
        "        self.name = name\n",
        "        self.age = age\n",
        "        self.phone = phone\n",
        "\n",
        "\n",
        "h = Hospital(\"Evercare\")\n",
        "d1 = Doctor(\"1d\",\"Doctor\", \"Samar Kumar\", \"Neurologist\")\n",
        "h.addDoctor(d1)\n",
        "print(\"=================================\")\n",
        "print(h.getDoctorByID(\"1d\"))\n",
        "print(\"=================================\")\n",
        "p1 = Patient(\"1p\",\"Patient\", \"Kashem Ahmed\", 35, 12345)\n",
        "h.addPatient(p1)\n",
        "print(\"=================================\")\n",
        "print(h.getPatientByID(\"1p\"))\n",
        "print(\"=================================\")\n",
        "p2 = Patient (\"2p\",\"Patient\", \"Tanina Haque\", 26, 33456)\n",
        "h.addPatient(p2)\n",
        "print(\"=================================\")\n",
        "print(h.getPatientByID(\"2p\"))\n",
        "print(\"=================================\")\n",
        "h.allDoctors()\n",
        "h.allPatients()"
      ],
      "metadata": {
        "id": "DMxGVOAh58Yu",
        "colab": {
          "base_uri": "https://localhost:8080/"
        },
        "outputId": "d44aad85-ac92-4184-8211-8e9cc858681f"
      },
      "execution_count": null,
      "outputs": [
        {
          "output_type": "stream",
          "name": "stdout",
          "text": [
            "=================================\n",
            "Doctor's ID: 1d\n",
            "Name: Samar Kumar\n",
            "Speciality: Neurologist\n",
            "=================================\n",
            "=================================\n",
            "Patient's ID: 1p\n",
            "Name: Kashem Ahmed\n",
            "Age: 35\n",
            "Phone no.: 12345\n",
            "=================================\n",
            "=================================\n",
            "Patient's ID: 2p\n",
            "Name: Tanina Haque\n",
            "Age: 26\n",
            "Phone no.: 33456\n",
            "=================================\n",
            "All Doctors:\n",
            "Number of Doctors: 1\n",
            "{'1d': ['Samar Kumar', 'Neurologist']}\n",
            "All Patients:\n",
            "Number of Patients: 2\n",
            "{'1p': ['Kashem Ahmed', 35, 12345], '2p': ['Tanina Haque', 26, 33456]}\n"
          ]
        }
      ]
    },
    {
      "cell_type": "markdown",
      "source": [
        "Task- 25"
      ],
      "metadata": {
        "id": "9gPsbxen58n7"
      }
    },
    {
      "cell_type": "code",
      "source": [
        "class Vaccine:\n",
        "    def __init__(self, v_name, country, second_dose):\n",
        "        self.v_name = v_name\n",
        "        self.country = country\n",
        "        self.second_dose = second_dose\n",
        "\n",
        "class Person:\n",
        "    def __init__(self, name, age, profession = \"General Citizen\"):\n",
        "        self.name =  name\n",
        "        self.age = age\n",
        "        self.profession = profession\n",
        "        self.vaccine_taken = \"\"\n",
        "\n",
        "    def pushVaccine(self, var, dose = None):\n",
        "        self.var = var\n",
        "        self.dose = dose\n",
        "\n",
        "        if self.dose == None:\n",
        "            self.vaccine_taken += self.var.v_name\n",
        "\n",
        "        if self.profession == \"Student\" or self.age > 25:\n",
        "            if self.dose == None:\n",
        "                print(f\"1st dose done for {self.name}\")\n",
        "            elif self.dose != None and self.vaccine_taken != self.var.v_name:\n",
        "                print(f\"Sorry {self.name}, you can’t take 2 different vaccines\")\n",
        "            elif self.dose != None and self.vaccine_taken == self.var.v_name:\n",
        "                print(f\"2nd dose done for {self.name}\")\n",
        "\n",
        "        elif self.age < 25:\n",
        "            print(f\"Sorry {self.name}, Minimum age for taking vaccines is 25 years now.\")\n",
        "\n",
        "\n",
        "    def showDetail(self):\n",
        "        print(f\"Name: {self.name} Age: {self.age} Type: {self.profession}\")\n",
        "        print(f\"Vaccine name: {self.var.v_name}\")\n",
        "\n",
        "        if self.dose == None:\n",
        "            print(f\"1st dose: Given\")\n",
        "            print(f\"2nd dose: Please come after {self.var.second_dose} days\")\n",
        "        elif self.dose == \"2nd Dose\":\n",
        "            print(f\"1st dose: Given\")\n",
        "            print(f\"2nd dose: Given\")\n",
        "\n",
        "\n",
        "astra = Vaccine(\"AstraZeneca\", \"UK\", 60)\n",
        "modr = Vaccine(\"Moderna\", \"UK\", 30)\n",
        "sin = Vaccine(\"Sinopharm\", \"China\", 30)\n",
        "p1 = Person(\"Bob\", 21, \"Student\")\n",
        "print(\"=================================\")\n",
        "p1.pushVaccine(astra)\n",
        "print(\"=================================\")\n",
        "p1.showDetail()\n",
        "print(\"=================================\")\n",
        "p1.pushVaccine(sin, \"2nd Dose\")\n",
        "print(\"=================================\")\n",
        "p1.pushVaccine(astra, \"2nd Dose\")\n",
        "print(\"=================================\")\n",
        "p1.showDetail()\n",
        "print(\"=================================\")\n",
        "p2 = Person(\"Carol\", 23, \"Actor\")\n",
        "print(\"=================================\")\n",
        "p2.pushVaccine(sin)\n",
        "print(\"=================================\")\n",
        "p3 = Person(\"David\", 34)\n",
        "print(\"=================================\")\n",
        "p3.pushVaccine(modr)\n",
        "print(\"=================================\")\n",
        "p3.showDetail()\n",
        "print(\"=================================\")\n",
        "p3.pushVaccine(modr, \"2nd Dose\")"
      ],
      "metadata": {
        "colab": {
          "base_uri": "https://localhost:8080/"
        },
        "id": "9INXY7sktoJF",
        "outputId": "b489bf25-66a1-464c-b622-c64b60adf253"
      },
      "execution_count": null,
      "outputs": [
        {
          "output_type": "stream",
          "name": "stdout",
          "text": [
            "=================================\n",
            "1st dose done for Bob\n",
            "=================================\n",
            "Name: Bob Age: 21 Type: Student\n",
            "Vaccine name: AstraZeneca\n",
            "1st dose: Given\n",
            "2nd dose: Please come after 60 days\n",
            "=================================\n",
            "Sorry Bob, you can’t take 2 different vaccines\n",
            "=================================\n",
            "2nd dose done for Bob\n",
            "=================================\n",
            "Name: Bob Age: 21 Type: Student\n",
            "Vaccine name: AstraZeneca\n",
            "1st dose: Given\n",
            "2nd dose: Given\n",
            "=================================\n",
            "=================================\n",
            "Sorry Carol, Minimum age for taking vaccines is 25 years now.\n",
            "=================================\n",
            "=================================\n",
            "1st dose done for David\n",
            "=================================\n",
            "Name: David Age: 34 Type: General Citizen\n",
            "Vaccine name: Moderna\n",
            "1st dose: Given\n",
            "2nd dose: Please come after 30 days\n",
            "=================================\n",
            "2nd dose done for David\n"
          ]
        }
      ]
    }
  ]
}
