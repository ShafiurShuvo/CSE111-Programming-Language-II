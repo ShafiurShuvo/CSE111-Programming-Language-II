{
  "nbformat": 4,
  "nbformat_minor": 0,
  "metadata": {
    "colab": {
      "provenance": []
    },
    "kernelspec": {
      "name": "python3",
      "display_name": "Python 3"
    },
    "language_info": {
      "name": "python"
    }
  },
  "cells": [
    {
      "cell_type": "markdown",
      "source": [
        "# Task - 1"
      ],
      "metadata": {
        "id": "iAHViECNILuk"
      }
    },
    {
      "cell_type": "code",
      "source": [
        "class Student:\n",
        "    ID = 0\n",
        "    def __init__(self, name, dept, age, cgpa):\n",
        "        self.name = name\n",
        "        self.dept = dept\n",
        "        self.age = age\n",
        "        self.cgpa = cgpa\n",
        "        Student.ID += 1\n",
        "\n",
        "    def showDetails(self):\n",
        "        print(f\"ID: {Student.ID}\")\n",
        "        print(f\"Name: {self.name}\")\n",
        "        print(f\"Department: {self.dept}\")\n",
        "        print(f\"Age: {self.age}\")\n",
        "        print(f\"CGPA: {self.cgpa}\")\n",
        "\n",
        "    @classmethod\n",
        "    def from_String(stu, info):\n",
        "        stu.info = info.split(\"-\")\n",
        "        name = stu.info[0]\n",
        "        dept = stu.info[1]\n",
        "        age = stu.info[2]\n",
        "        cgpa = stu.info[3]\n",
        "\n",
        "        return Student(name, dept, age, cgpa)\n",
        "\n",
        "\n",
        "s1 = Student(\"Samin\", \"CSE\", 21, 3.91)\n",
        "s1.showDetails()\n",
        "print(\"-----------------------\")\n",
        "s2 = Student(\"Fahim\", \"ECE\", 21, 3.85)\n",
        "s2.showDetails()\n",
        "print(\"-----------------------\")\n",
        "s3 = Student(\"Tahura\", \"EEE\", 22, 3.01)\n",
        "s3.showDetails()\n",
        "print(\"-----------------------\")\n",
        "s4 = Student.from_String(\"Sumaiya-BBA-23-3.96\")\n",
        "s4.showDetails()\n",
        "\n",
        "# Write the answer of subtask 5 here\n",
        "print(\"-----------------------\")\n",
        "print(\"Subtask - 5:\")\n",
        "print(\"A class variable is shared among all instances of a class, while an instance variable is unique to each instance\")\n",
        "\n",
        "# Write the answer of subtask 6 here\n",
        "print(\"-----------------------\")\n",
        "print(\"Subtask - 6:\")\n",
        "print(\"An instance method operates on a single instance of a class, while a class method operates on the class itself\")\n"
      ],
      "metadata": {
        "colab": {
          "base_uri": "https://localhost:8080/"
        },
        "id": "Ykv8nRj8DBAY",
        "outputId": "9c0b7e5e-7864-41aa-e3fe-4cc775bb1f94"
      },
      "execution_count": 1,
      "outputs": [
        {
          "output_type": "stream",
          "name": "stdout",
          "text": [
            "ID: 1\n",
            "Name: Samin\n",
            "Department: CSE\n",
            "Age: 21\n",
            "CGPA: 3.91\n",
            "-----------------------\n",
            "ID: 2\n",
            "Name: Fahim\n",
            "Department: ECE\n",
            "Age: 21\n",
            "CGPA: 3.85\n",
            "-----------------------\n",
            "ID: 3\n",
            "Name: Tahura\n",
            "Department: EEE\n",
            "Age: 22\n",
            "CGPA: 3.01\n",
            "-----------------------\n",
            "ID: 4\n",
            "Name: Sumaiya\n",
            "Department: BBA\n",
            "Age: 23\n",
            "CGPA: 3.96\n",
            "-----------------------\n",
            "Subtask - 5:\n",
            "A class variable is shared among all instances of a class, while an instance variable is unique to each instance\n",
            "-----------------------\n",
            "Subtask - 6:\n",
            "An instance method operates on a single instance of a class, while a class method operates on the class itself\n"
          ]
        }
      ]
    },
    {
      "cell_type": "markdown",
      "source": [
        "# Task - 2\n",
        "### Two types"
      ],
      "metadata": {
        "id": "kk2MKBlP_Uzd"
      }
    },
    {
      "cell_type": "code",
      "source": [
        "class Assassin:\n",
        "    count = 0\n",
        "    def __init__(self, name, rate):\n",
        "        self.name = name\n",
        "        self.rate = rate\n",
        "        Assassin.count += 1\n",
        "\n",
        "    @classmethod\n",
        "    def failureRate(cls, name, rate):\n",
        "        return Assassin(name, 100 - rate)\n",
        "\n",
        "    @classmethod\n",
        "    def failurePercentage(cls, name, rate):\n",
        "        return cls.failureRate(name, int(rate[:-1]))\n",
        "        # name = name\n",
        "        # rate = 100 - rate\n",
        "        # return Assassin(name, rate)\n",
        "\n",
        "    def printDetails(self):\n",
        "        print(f\"Name: {self.name}\")\n",
        "        print(f\"Success rate: {self.rate}%\")\n",
        "        print(f\"Total number of Assassin: {Assassin.count}\")\n",
        "\n",
        "john_wick = Assassin('John Wick', 100)\n",
        "john_wick.printDetails()\n",
        "print('================================')\n",
        "nagisa = Assassin.failureRate(\"Nagisa\", 20)\n",
        "nagisa.printDetails()\n",
        "print('================================')\n",
        "akabane = Assassin.failurePercentage(\"Akabane\", \"10%\")\n",
        "akabane.printDetails()"
      ],
      "metadata": {
        "colab": {
          "base_uri": "https://localhost:8080/"
        },
        "id": "VXRmrMLu_Y-7",
        "outputId": "67858665-a79f-4bc8-b24b-3aec752f9f79"
      },
      "execution_count": 2,
      "outputs": [
        {
          "output_type": "stream",
          "name": "stdout",
          "text": [
            "Name: John Wick\n",
            "Success rate: 100%\n",
            "Total number of Assassin: 1\n",
            "================================\n",
            "Name: Nagisa\n",
            "Success rate: 80%\n",
            "Total number of Assassin: 2\n",
            "================================\n",
            "Name: Akabane\n",
            "Success rate: 90%\n",
            "Total number of Assassin: 3\n"
          ]
        }
      ]
    },
    {
      "cell_type": "code",
      "source": [
        "class Assassin:\n",
        "    count = 1\n",
        "    def __init__(self, name, s_rate):\n",
        "        self.name = name\n",
        "        self.s_rate = s_rate\n",
        "\n",
        "    def printDetails(self):\n",
        "        print(f\"Name: {self.name}\")\n",
        "        print(f\"Success rate: {self.s_rate}%\")\n",
        "        print(f\"Total number of Assassin: {Assassin.count}\")\n",
        "        Assassin.count += 1\n",
        "\n",
        "    @classmethod\n",
        "    def failureRate(cls, name, f_rate):\n",
        "        s_rate = 100 - f_rate\n",
        "        return Assassin(name, s_rate)\n",
        "\n",
        "    @classmethod\n",
        "    def failurePercentage(cls, name, percentage):\n",
        "        s_rate = 100 - int(percentage[:-1])\n",
        "        return Assassin(name, s_rate)\n",
        "\n",
        "\n",
        "john_wick = Assassin('John Wick', 100)\n",
        "john_wick.printDetails()\n",
        "print('================================')\n",
        "nagisa = Assassin.failureRate(\"Nagisa\", 20)\n",
        "nagisa.printDetails()\n",
        "print('================================')\n",
        "akabane = Assassin.failurePercentage(\"Akabane\", \"10%\")\n",
        "akabane.printDetails()"
      ],
      "metadata": {
        "colab": {
          "base_uri": "https://localhost:8080/"
        },
        "id": "sXmoTChRLh2K",
        "outputId": "e8376426-fd42-4909-de87-534445c1eabf"
      },
      "execution_count": null,
      "outputs": [
        {
          "output_type": "stream",
          "name": "stdout",
          "text": [
            "Name: John Wick\n",
            "Success rate: 100%\n",
            "Total number of Assassin: 1\n",
            "================================\n",
            "Name: Nagisa\n",
            "Success rate: 80%\n",
            "Total number of Assassin: 2\n",
            "================================\n",
            "Name: Akabane\n",
            "Success rate: 90%\n",
            "Total number of Assassin: 3\n"
          ]
        }
      ]
    },
    {
      "cell_type": "markdown",
      "source": [
        "# Task 3"
      ],
      "metadata": {
        "id": "W99x-mwx_aDI"
      }
    },
    {
      "cell_type": "code",
      "source": [
        "class Passenger:\n",
        "    count = 0\n",
        "    def __init__(self, name):\n",
        "        self.name = name\n",
        "        self.fare = 450\n",
        "\n",
        "    def set_bag_weight(self, weight):\n",
        "        self.weight = weight\n",
        "        if self.weight <= 20:\n",
        "            self.fare += 0\n",
        "        elif 20 < self.weight <= 50:\n",
        "            self.fare += 50\n",
        "        elif self.weight > 50:\n",
        "            self.fare += 100\n",
        "\n",
        "    def printDetail(self):\n",
        "        print(f\"Name: {self.name}\")\n",
        "        print(f\"Bus Fare: {self.fare} taka\")\n",
        "        Passenger.count += 1\n",
        "\n",
        "\n",
        "print(\"Total Passenger:\", Passenger.count)\n",
        "p1 = Passenger(\"Jack\")\n",
        "p1.set_bag_weight(90)\n",
        "p2 = Passenger(\"Carol\")\n",
        "p2.set_bag_weight(10)\n",
        "p3 = Passenger(\"Mike\")\n",
        "p3.set_bag_weight(25)\n",
        "print(\"=========================\")\n",
        "p1.printDetail()\n",
        "print(\"=========================\")\n",
        "p2.printDetail()\n",
        "print(\"=========================\")\n",
        "p3.printDetail()\n",
        "print(\"=========================\")\n",
        "print(\"Total Passenger:\", Passenger.count)"
      ],
      "metadata": {
        "colab": {
          "base_uri": "https://localhost:8080/"
        },
        "id": "MhQ3wRalqvgi",
        "outputId": "159c09a7-dce2-4f64-e403-9f540d1a77b1"
      },
      "execution_count": null,
      "outputs": [
        {
          "output_type": "stream",
          "name": "stdout",
          "text": [
            "Total Passenger: 0\n",
            "=========================\n",
            "Name: Jack\n",
            "Bus Fare: 550 taka\n",
            "=========================\n",
            "Name: Carol\n",
            "Bus Fare: 450 taka\n",
            "=========================\n",
            "Name: Mike\n",
            "Bus Fare: 500 taka\n",
            "=========================\n",
            "Total Passenger: 3\n"
          ]
        }
      ]
    },
    {
      "cell_type": "markdown",
      "source": [
        "# Task - 4"
      ],
      "metadata": {
        "id": "ZnJVwMcJBGPr"
      }
    },
    {
      "cell_type": "code",
      "source": [
        "class Travel:\n",
        "    count = 0\n",
        "    def __init__(self, sou, des):\n",
        "        self.source = sou\n",
        "        self.destination = des\n",
        "        self.time = \"1:00\"\n",
        "        Travel.count += 1\n",
        "\n",
        "    def display_travel_info(self):\n",
        "        return f\"Source: {self.source}\\nDestination:{self.destination}\\nFlight Time:{self.time}\"\n",
        "\n",
        "    def set_time(self, time):\n",
        "        self.time = str(time) + \":00\"\n",
        "\n",
        "    def set_destination(self, des1):\n",
        "        self.destination = des1\n",
        "\n",
        "    def set_source(self, sou1):\n",
        "        self.source = sou1\n",
        "\n",
        "\n",
        "print(\"No. of Traveller =\", Travel.count)\n",
        "print(\"=======================\")\n",
        "t1 = Travel(\"Dhaka\",\"India\")\n",
        "print(t1.display_travel_info())\n",
        "print(\"=======================\")\n",
        "t2 = Travel(\"Kuala Lampur\",\"Dhaka\")\n",
        "t2.set_time(23)\n",
        "print(t2.display_travel_info())\n",
        "print(\"=======================\")\n",
        "t3 = Travel(\"Dhaka\",\"New_Zealand\")\n",
        "t3.set_time(15)\n",
        "t3.set_destination(\"Germany\")\n",
        "print(t3.display_travel_info())\n",
        "print(\"=======================\")\n",
        "t4 = Travel(\"Dhaka\",\"India\")\n",
        "t4.set_time(9)\n",
        "t4.set_source(\"Malaysia\")\n",
        "t4.set_destination(\"Canada\")\n",
        "print(t4.display_travel_info())\n",
        "print(\"=======================\")\n",
        "print(\"No. of Traveller =\", Travel.count)"
      ],
      "metadata": {
        "colab": {
          "base_uri": "https://localhost:8080/"
        },
        "id": "-GW4b6gfBLOy",
        "outputId": "15aa177f-f484-41f4-eb93-c930a0dab8bc"
      },
      "execution_count": null,
      "outputs": [
        {
          "output_type": "stream",
          "name": "stdout",
          "text": [
            "No. of Traveller = 0\n",
            "=======================\n",
            "Source: Dhaka\n",
            "Destination:India\n",
            "Flight Time:1:00\n",
            "=======================\n",
            "Source: Kuala Lampur\n",
            "Destination:Dhaka\n",
            "Flight Time:23:00\n",
            "=======================\n",
            "Source: Dhaka\n",
            "Destination:Germany\n",
            "Flight Time:15:00\n",
            "=======================\n",
            "Source: Malaysia\n",
            "Destination:Canada\n",
            "Flight Time:9:00\n",
            "=======================\n",
            "No. of Traveller = 4\n"
          ]
        }
      ]
    },
    {
      "cell_type": "markdown",
      "source": [
        "# Task 5"
      ],
      "metadata": {
        "id": "JI6kmuWr_eK1"
      }
    },
    {
      "cell_type": "code",
      "source": [
        "class Employee:\n",
        "    def __init__(self, name, workingPeriod):\n",
        "        self.name = name\n",
        "        self.workingPeriod = workingPeriod\n",
        "\n",
        "    @classmethod\n",
        "    def employeeByJoiningYear(cls, name, year):\n",
        "        workingPeriod = 2022 - year\n",
        "        return Employee(name, workingPeriod)\n",
        "\n",
        "    @staticmethod\n",
        "    def experienceCheck(workingPeriod, gender):\n",
        "        if workingPeriod < 3 and gender == \"male\":\n",
        "            return \"He is not experienced\"\n",
        "        elif workingPeriod < 3 and gender == \"female\":\n",
        "            return \"She is not experienced\"\n",
        "        elif workingPeriod >= 3 and gender == \"male\":\n",
        "            return \"He is experienced\"\n",
        "        elif workingPeriod >= 3 and gender == \"female\":\n",
        "            return \"She is not experienced\"\n",
        "\n",
        "\n",
        "employee1 = Employee('Dororo', 3)\n",
        "employee2 = Employee.employeeByJoiningYear('Harry', 2016)\n",
        "print(employee1.workingPeriod)\n",
        "print(employee2.workingPeriod)\n",
        "print(employee1.name)\n",
        "print(employee2.name)\n",
        "print(Employee.experienceCheck(2, \"male\"))\n",
        "print(Employee.experienceCheck(3, \"female\"))"
      ],
      "metadata": {
        "colab": {
          "base_uri": "https://localhost:8080/"
        },
        "id": "dFkU0-E3EqNp",
        "outputId": "3d91ac97-d9c3-40d5-b63d-c9f217972fcf"
      },
      "execution_count": null,
      "outputs": [
        {
          "output_type": "stream",
          "name": "stdout",
          "text": [
            "3\n",
            "6\n",
            "Dororo\n",
            "Harry\n",
            "He is not experienced\n",
            "She is not experienced\n"
          ]
        }
      ]
    },
    {
      "cell_type": "markdown",
      "source": [
        "# Task - 6"
      ],
      "metadata": {
        "id": "4rDxVMUNFr7Q"
      }
    },
    {
      "cell_type": "code",
      "source": [
        "class Laptop:\n",
        "    laptopCount = 0\n",
        "    def __init__(self, name, count):\n",
        "        self.name = name\n",
        "        self.count = int(count)\n",
        "\n",
        "        Laptop.laptopCount += self.count\n",
        "\n",
        "    @staticmethod\n",
        "    def advantage():\n",
        "        print(\"Laptops are portable\")\n",
        "\n",
        "    @staticmethod\n",
        "    def resetCount():\n",
        "        Laptop.laptopCount = 0\n",
        "\n",
        "\n",
        "lenovo = Laptop(\"Lenovo\", 5);\n",
        "dell = Laptop(\"Dell\", 7);\n",
        "print(lenovo.name, lenovo.count)\n",
        "print(dell.name, dell.count)\n",
        "print(\"Total number of Laptops\", Laptop.laptopCount)\n",
        "Laptop.advantage()\n",
        "Laptop.resetCount()\n",
        "print(\"Total number of Laptops\", Laptop.laptopCount)"
      ],
      "metadata": {
        "colab": {
          "base_uri": "https://localhost:8080/"
        },
        "id": "5YrWAQJaFzM_",
        "outputId": "4a785f26-7f7a-4f7d-b95d-1bc69f9a9366"
      },
      "execution_count": null,
      "outputs": [
        {
          "output_type": "stream",
          "name": "stdout",
          "text": [
            "Lenovo 5\n",
            "Dell 7\n",
            "Total number of Laptops 12\n",
            "Laptops are portable\n",
            "Total number of Laptops 0\n"
          ]
        }
      ]
    },
    {
      "cell_type": "markdown",
      "source": [
        "# Task - 7\n",
        "### *Using classmethod*\n",
        "\n"
      ],
      "metadata": {
        "id": "Lhiefx1cLW93"
      }
    },
    {
      "cell_type": "code",
      "source": [
        "class Cat:\n",
        "    Number_of_cats = 0\n",
        "    def __init__(self, col, pos):\n",
        "        self.col = col\n",
        "        self.pos = pos\n",
        "        Cat.Number_of_cats += 1\n",
        "\n",
        "    @classmethod\n",
        "    def no_parameter(cls, col = \"White\", pos = \"sitting\"):\n",
        "        return Cat(col, pos)\n",
        "\n",
        "    @classmethod\n",
        "    def first_parameter(cls, col, pos = \"sitting\"):\n",
        "        return Cat(col, pos)\n",
        "\n",
        "    @classmethod\n",
        "    def second_parameter(cls, pos, col = \"Grey\"):\n",
        "        return Cat(col, pos)\n",
        "\n",
        "    def printCat(self):\n",
        "        print(f\"{self.col} cat is {self.pos}\")\n",
        "\n",
        "    def changeColor(self, col1):\n",
        "        self.col = col1\n",
        "\n",
        "\n",
        "print(\"Total number of cats:\", Cat.Number_of_cats)\n",
        "c1 = Cat.no_parameter()\n",
        "c2 = Cat.first_parameter(\"Black\")\n",
        "c3 = Cat(\"Brown\", \"jumping\")\n",
        "c4 = Cat(\"Red\", \"purring\")\n",
        "c5 = Cat.second_parameter(\"playing\")\n",
        "print(\"=======================\")\n",
        "c1.printCat()\n",
        "c2.printCat()\n",
        "c3.printCat()\n",
        "c4.printCat()\n",
        "c5.printCat()\n",
        "c1.changeColor(\"Blue\")\n",
        "c3.changeColor(\"Purple\")\n",
        "c1.printCat()\n",
        "c3.printCat()\n",
        "print(\"=======================\")\n",
        "print(\"Total number of cats:\", Cat.Number_of_cats)"
      ],
      "metadata": {
        "colab": {
          "base_uri": "https://localhost:8080/"
        },
        "id": "We41Uc-YJv0U",
        "outputId": "da8dba87-071b-4404-a72d-8719586b8556"
      },
      "execution_count": 3,
      "outputs": [
        {
          "output_type": "stream",
          "name": "stdout",
          "text": [
            "Total number of cats: 0\n",
            "=======================\n",
            "White cat is sitting\n",
            "Black cat is sitting\n",
            "Brown cat is jumping\n",
            "Red cat is purring\n",
            "Grey cat is playing\n",
            "Blue cat is sitting\n",
            "Purple cat is jumping\n",
            "=======================\n",
            "Total number of cats: 5\n"
          ]
        }
      ]
    },
    {
      "cell_type": "markdown",
      "source": [
        "### *Using staticmethod*\n",
        "\n"
      ],
      "metadata": {
        "id": "N2Uqu-E9S0y-"
      }
    },
    {
      "cell_type": "code",
      "source": [
        "class Cat:\n",
        "    Number_of_cats = 0\n",
        "    def __init__(self, color, action):\n",
        "        self.color = color\n",
        "        self.action = action\n",
        "        Cat.Number_of_cats += 1\n",
        "\n",
        "    @staticmethod\n",
        "    def no_parameter():\n",
        "        color = \"White\"\n",
        "        action = \"sitting\"\n",
        "        return Cat(color, action)\n",
        "\n",
        "    @staticmethod\n",
        "    def first_parameter(color):\n",
        "        action = \"sitting\"\n",
        "        return Cat(color, action)\n",
        "\n",
        "    @staticmethod\n",
        "    def second_parameter(action):\n",
        "        color = \"Grey\"\n",
        "        return Cat(color, action)\n",
        "\n",
        "    def printCat(self):\n",
        "       print(f\"{self.color} cat is {self.action}\")\n",
        "\n",
        "    def changeColor(self, color):\n",
        "        self.color = color\n",
        "\n",
        "\n",
        "print(\"Total number of cats:\", Cat.Number_of_cats)\n",
        "c1 = Cat.no_parameter()\n",
        "c2 = Cat.first_parameter(\"Black\")\n",
        "c3 = Cat(\"Brown\", \"jumping\")\n",
        "c4 = Cat(\"Red\", \"purring\")\n",
        "c5 = Cat.second_parameter(\"playing\")\n",
        "print(\"=======================\")\n",
        "c1.printCat()\n",
        "c2.printCat()\n",
        "c3.printCat()\n",
        "c4.printCat()\n",
        "c5.printCat()\n",
        "c1.changeColor(\"Blue\")\n",
        "c3.changeColor(\"Purple\")\n",
        "c1.printCat()\n",
        "c3.printCat()\n",
        "print(\"=======================\")\n",
        "print(\"Total number of cats:\", Cat.Number_of_cats)"
      ],
      "metadata": {
        "colab": {
          "base_uri": "https://localhost:8080/"
        },
        "id": "66AXQ1MhLYun",
        "outputId": "8bd08e18-c3a8-4b11-dade-4cacad64b843"
      },
      "execution_count": 5,
      "outputs": [
        {
          "output_type": "stream",
          "name": "stdout",
          "text": [
            "Total number of cats: 0\n",
            "=======================\n",
            "White cat is sitting\n",
            "Black cat is sitting\n",
            "Brown cat is jumping\n",
            "Red cat is purring\n",
            "Grey cat is playing\n",
            "Blue cat is sitting\n",
            "Purple cat is jumping\n",
            "=======================\n",
            "Total number of cats: 5\n"
          ]
        }
      ]
    },
    {
      "cell_type": "markdown",
      "source": [
        "# Task - 8"
      ],
      "metadata": {
        "id": "HC0x_HRPOkFf"
      }
    },
    {
      "cell_type": "code",
      "source": [
        "import math\n",
        "class Cylinder:\n",
        "    radius, height = 5, 18\n",
        "    def __init__(self, radius, height):\n",
        "        print(f\"Default radius={Cylinder.radius} and height={Cylinder.height}.\")\n",
        "        Cylinder.radius = radius\n",
        "        Cylinder.height = height\n",
        "        print(f\"Updated: radius={Cylinder.radius} and height={Cylinder.height}.\")\n",
        "\n",
        "    @classmethod\n",
        "    def swap(cls, hei, rad):\n",
        "        return Cylinder(rad, hei)  #swapping the values\n",
        "\n",
        "    @classmethod\n",
        "    def changeFormat(cls, word):\n",
        "        word = word.split(\"-\")\n",
        "        r = float(word[0])\n",
        "        h = float(word[1])\n",
        "        return Cylinder(r, h)\n",
        "\n",
        "    @staticmethod\n",
        "    def area(rad, hei):\n",
        "        area = 2*math.pi*rad**2 + 2*math.pi*rad*hei\n",
        "        print(f\"Area: {area}\")\n",
        "\n",
        "    @staticmethod\n",
        "    def volume(rad, hei):\n",
        "        vol = math.pi*rad**2*hei\n",
        "        print(f\"Volume: {vol}\")\n",
        "\n",
        "\n",
        "c1 = Cylinder(0,0)\n",
        "Cylinder.area(c1.radius,c1.height)\n",
        "Cylinder.volume(c1.radius,c1.height)\n",
        "print(\"===============================\")\n",
        "c2 = Cylinder.swap(8,3)\n",
        "c2.area(c2.radius,c2.height)\n",
        "c2.volume(c2.radius,c2.height)\n",
        "print(\"===============================\")\n",
        "c3 = Cylinder.changeFormat(\"7-13\")\n",
        "c3.area(c3.radius,c3.height)\n",
        "c3.volume(c3.radius,c3.height)\n",
        "print(\"===============================\")\n",
        "Cylinder(0.3,5.56).area(Cylinder.radius,Cylinder.height)\n",
        "print(\"===============================\")\n",
        "Cylinder(3,5).volume(Cylinder.radius,Cylinder.height)"
      ],
      "metadata": {
        "colab": {
          "base_uri": "https://localhost:8080/"
        },
        "id": "lUsTKfepOCgD",
        "outputId": "f75ec3e6-ff85-4a65-8a93-fb3c74df203b"
      },
      "execution_count": null,
      "outputs": [
        {
          "output_type": "stream",
          "name": "stdout",
          "text": [
            "Default radius=5 and height=18.\n",
            "Updated: radius=0 and height=0.\n",
            "Area: 0.0\n",
            "Volume: 0.0\n",
            "===============================\n",
            "Default radius=0 and height=0.\n",
            "Updated: radius=3 and height=8.\n",
            "Area: 207.34511513692635\n",
            "Volume: 226.1946710584651\n",
            "===============================\n",
            "Default radius=3 and height=8.\n",
            "Updated: radius=7.0 and height=13.0.\n",
            "Area: 879.645943005142\n",
            "Volume: 2001.1945203366981\n",
            "===============================\n",
            "Default radius=7.0 and height=13.0.\n",
            "Updated: radius=0.3 and height=5.56.\n",
            "Area: 11.045839770021713\n",
            "===============================\n",
            "Default radius=0.3 and height=5.56.\n",
            "Updated: radius=3 and height=5.\n",
            "Volume: 141.3716694115407\n"
          ]
        }
      ]
    },
    {
      "cell_type": "markdown",
      "source": [
        "# Task - 9"
      ],
      "metadata": {
        "id": "Tfxl9u9fOnGj"
      }
    },
    {
      "cell_type": "code",
      "source": [
        "class Student:\n",
        "    Total  = 0\n",
        "    BRAC  = 0\n",
        "    Other  = 0\n",
        "    def __init__(self,name,dept,uni = \"BRAC University\"):\n",
        "        self.name = name\n",
        "        self.dept = dept\n",
        "        self.uni = uni\n",
        "        Student.Total += 1\n",
        "\n",
        "        if self.uni != \"BRAC University\":\n",
        "            Student.Other += 1\n",
        "        else:\n",
        "            Student.BRAC += 1\n",
        "\n",
        "    @classmethod\n",
        "    def createStudent(cls,name,dept,uni = \"BRAC University\"):\n",
        "\n",
        "        return Student(name,dept,uni)\n",
        "    @classmethod\n",
        "    def printDetails(cls):\n",
        "        print(f\"Total Student(s): {Student.Total}\")\n",
        "        print(f\"BRAC University Student(s): {Student.BRAC}\")\n",
        "        print(f\"Other Institution Student(s): {Student.Other}\")\n",
        "    def individualDetail(self):\n",
        "        print(f\"Name: {self.name}\")\n",
        "        print(f\"Department: {self.dept}\")\n",
        "        print(f\"Institution: {self.uni}\")\n",
        "\n",
        "\n",
        "Student.printDetails()\n",
        "print('#########################')\n",
        "\n",
        "mikasa = Student('Mikasa Ackerman', \"CSE\")\n",
        "mikasa.individualDetail()\n",
        "print('------------------------------------------')\n",
        "Student.printDetails()\n",
        "\n",
        "print('========================')\n",
        "\n",
        "harry = Student.createStudent('Harry Potter', \"Defence Against Dark Arts\", \"Hogwarts School\")\n",
        "harry.individualDetail()\n",
        "print('-------------------------------------------')\n",
        "Student.printDetails()\n",
        "\n",
        "print('=========================')\n",
        "\n",
        "levi = Student.createStudent(\"Levi Ackerman\", \"CSE\")\n",
        "levi.individualDetail()\n",
        "print('--------------------------------------------')\n",
        "Student.printDetails()"
      ],
      "metadata": {
        "colab": {
          "base_uri": "https://localhost:8080/"
        },
        "id": "xqO_gJCuQrQT",
        "outputId": "dc24762d-cc5e-4086-a64d-7c607274cafd"
      },
      "execution_count": null,
      "outputs": [
        {
          "output_type": "stream",
          "name": "stdout",
          "text": [
            "Total Student(s): 0\n",
            "BRAC University Student(s): 0\n",
            "Other Institution Student(s): 0\n",
            "#########################\n",
            "Name: Mikasa Ackerman\n",
            "Department: CSE\n",
            "Institution: BRAC University\n",
            "------------------------------------------\n",
            "Total Student(s): 1\n",
            "BRAC University Student(s): 1\n",
            "Other Institution Student(s): 0\n",
            "========================\n",
            "Name: Harry Potter\n",
            "Department: Defence Against Dark Arts\n",
            "Institution: Hogwarts School\n",
            "-------------------------------------------\n",
            "Total Student(s): 2\n",
            "BRAC University Student(s): 1\n",
            "Other Institution Student(s): 1\n",
            "=========================\n",
            "Name: Levi Ackerman\n",
            "Department: CSE\n",
            "Institution: BRAC University\n",
            "--------------------------------------------\n",
            "Total Student(s): 3\n",
            "BRAC University Student(s): 2\n",
            "Other Institution Student(s): 1\n"
          ]
        }
      ]
    },
    {
      "cell_type": "markdown",
      "source": [
        "# Task 10\n",
        "### Two types"
      ],
      "metadata": {
        "id": "F8-xPEuC_isu"
      }
    },
    {
      "cell_type": "code",
      "source": [
        "class SultansDine:\n",
        "    branchcounter = 0\n",
        "    totalsell = 0\n",
        "    branch_lst = []\n",
        "\n",
        "    def __init__(self, name, sell = None):\n",
        "        self.name = name\n",
        "        self.sell = sell\n",
        "        SultansDine.branchcounter += 1\n",
        "        SultansDine.branch_lst.append(name)\n",
        "\n",
        "    def sellQuantity(self, quantity):\n",
        "        if quantity < 10:\n",
        "            self.sell = quantity * 300\n",
        "        elif quantity < 20:\n",
        "            self.sell = quantity * 350\n",
        "        else:\n",
        "            self.sell = quantity * 400\n",
        "        SultansDine.totalsell += self.sell\n",
        "        SultansDine.branch_lst.append(self.sell)\n",
        "\n",
        "    def branchInformation(self):\n",
        "        print(f\"Branch Name: {self.name}\")\n",
        "        print(f\"Branch sell: {self.sell} Taka\")\n",
        "\n",
        "    @classmethod\n",
        "    def details(cls):\n",
        "        print(f\"Total Number of branch(s): {SultansDine.branchcounter}\")\n",
        "        print(f\"Total Sell: {SultansDine.totalsell} Taka\")\n",
        "        for i in range(0, len(SultansDine.branch_lst), 2):\n",
        "            print(f\"Branch Name: {SultansDine.branch_lst[i]}, Branch Sell: {SultansDine.branch_lst[i+1]}\")\n",
        "            print(f\"Branch consists of total sell's: {round((SultansDine.branch_lst[i+1] / SultansDine.totalsell) * 100, 2)}%\")\n",
        "\n",
        "\n",
        "SultansDine.details()\n",
        "print('########################')\n",
        "dhanmodi = SultansDine('Dhanmondi')\n",
        "dhanmodi.sellQuantity(25)\n",
        "dhanmodi.branchInformation()\n",
        "print('-----------------------------------------')\n",
        "SultansDine.details()\n",
        "\n",
        "print('========================')\n",
        "\n",
        "baily_road = SultansDine('Baily Road')\n",
        "baily_road.sellQuantity(15)\n",
        "baily_road.branchInformation()\n",
        "print('-----------------------------------------')\n",
        "SultansDine.details()\n",
        "\n",
        "print('========================')\n",
        "\n",
        "gulshan = SultansDine('Gulshan')\n",
        "gulshan.sellQuantity(9)\n",
        "gulshan.branchInformation()\n",
        "print('-----------------------------------------')\n",
        "SultansDine.details()"
      ],
      "metadata": {
        "colab": {
          "base_uri": "https://localhost:8080/"
        },
        "id": "iTgcMFXa_lUr",
        "outputId": "65058bb1-13f0-442c-e246-27f248da9409"
      },
      "execution_count": null,
      "outputs": [
        {
          "output_type": "stream",
          "name": "stdout",
          "text": [
            "Total Number of branch(s): 0\n",
            "Total Sell: 0 Taka\n",
            "########################\n",
            "Branch Name: Dhanmondi\n",
            "Branch sell: 10000 Taka\n",
            "-----------------------------------------\n",
            "Total Number of branch(s): 1\n",
            "Total Sell: 10000 Taka\n",
            "Branch Name: Dhanmondi, Branch Sell: 10000\n",
            "Branch consists of total sell's: 100.0%\n",
            "========================\n",
            "Branch Name: Baily Road\n",
            "Branch sell: 5250 Taka\n",
            "-----------------------------------------\n",
            "Total Number of branch(s): 2\n",
            "Total Sell: 15250 Taka\n",
            "Branch Name: Dhanmondi, Branch Sell: 10000\n",
            "Branch consists of total sell's: 65.57%\n",
            "Branch Name: Baily Road, Branch Sell: 5250\n",
            "Branch consists of total sell's: 34.43%\n",
            "========================\n",
            "Branch Name: Gulshan\n",
            "Branch sell: 2700 Taka\n",
            "-----------------------------------------\n",
            "Total Number of branch(s): 3\n",
            "Total Sell: 17950 Taka\n",
            "Branch Name: Dhanmondi, Branch Sell: 10000\n",
            "Branch consists of total sell's: 55.71%\n",
            "Branch Name: Baily Road, Branch Sell: 5250\n",
            "Branch consists of total sell's: 29.25%\n",
            "Branch Name: Gulshan, Branch Sell: 2700\n",
            "Branch consists of total sell's: 15.04%\n"
          ]
        }
      ]
    },
    {
      "cell_type": "code",
      "source": [
        "class SultansDine:\n",
        "    branch = 0\n",
        "    totalsell = 0\n",
        "    branchlist = []\n",
        "\n",
        "    def __init__(self, place):\n",
        "        self.place = place\n",
        "        self.sell = 0\n",
        "        SultansDine.branch += 1\n",
        "        SultansDine.branchlist.append(self.place)\n",
        "\n",
        "    def sellQuantity(self, quantity):\n",
        "        self.quantity = quantity\n",
        "        if self.quantity < 10:\n",
        "            self.sell += self.quantity * 300\n",
        "        elif self.quantity < 20:\n",
        "            self.sell += self.quantity * 350\n",
        "        else:\n",
        "            self.sell += self.quantity * 400\n",
        "\n",
        "        SultansDine.branchlist.append(self.sell)\n",
        "\n",
        "    def branchInformation(self):\n",
        "        print(f\"Branch Name: {self.place}\")\n",
        "        print(f\"Branch Sell: {self.sell} Taka\")\n",
        "\n",
        "        SultansDine.totalsell += self.sell\n",
        "\n",
        "    @classmethod\n",
        "    def details(self):\n",
        "\n",
        "        print(f\"Total Number of branch(s): {SultansDine.branch}\")\n",
        "        print(f\"Total Sell: {SultansDine.totalsell} Taka\")\n",
        "\n",
        "        for i in range(0, len(SultansDine.branchlist), 2):\n",
        "            print(f\"Branch Name: {SultansDine.branchlist[i]}, Branch Sell: {SultansDine.branchlist[i+1]} Taka\")\n",
        "            print(f\"Branch consists of total sell's: {round((SultansDine.branchlist[i+1]/SultansDine.totalsell)*100, 2)}%\")\n",
        "\n",
        "\n",
        "SultansDine.details()\n",
        "print('########################')\n",
        "dhanmodi = SultansDine('Dhanmondi')\n",
        "dhanmodi.sellQuantity(25)\n",
        "dhanmodi.branchInformation()\n",
        "print('-----------------------------------------')\n",
        "SultansDine.details()\n",
        "\n",
        "print('========================')\n",
        "\n",
        "baily_road = SultansDine('Baily Road')\n",
        "baily_road.sellQuantity(15)\n",
        "baily_road.branchInformation()\n",
        "print('-----------------------------------------')\n",
        "SultansDine.details()\n",
        "\n",
        "print('========================')\n",
        "\n",
        "gulshan = SultansDine('Gulshan')\n",
        "gulshan.sellQuantity(9)\n",
        "gulshan.branchInformation()\n",
        "print('-----------------------------------------')\n",
        "SultansDine.details()"
      ],
      "metadata": {
        "colab": {
          "base_uri": "https://localhost:8080/"
        },
        "id": "XpTWCXIe4QNU",
        "outputId": "741badd2-b4a0-41d5-9388-beaa8b2d74d9"
      },
      "execution_count": 6,
      "outputs": [
        {
          "output_type": "stream",
          "name": "stdout",
          "text": [
            "Total Number of branch(s): 0\n",
            "Total Sell: 0 Taka\n",
            "########################\n",
            "Branch Name: Dhanmondi\n",
            "Branch Sell: 10000 Taka\n",
            "-----------------------------------------\n",
            "Total Number of branch(s): 1\n",
            "Total Sell: 10000 Taka\n",
            "Branch Name: Dhanmondi, Branch Sell: 10000 Taka\n",
            "Branch consists of total sell's: 100.0%\n",
            "========================\n",
            "Branch Name: Baily Road\n",
            "Branch Sell: 5250 Taka\n",
            "-----------------------------------------\n",
            "Total Number of branch(s): 2\n",
            "Total Sell: 15250 Taka\n",
            "Branch Name: Dhanmondi, Branch Sell: 10000 Taka\n",
            "Branch consists of total sell's: 65.57%\n",
            "Branch Name: Baily Road, Branch Sell: 5250 Taka\n",
            "Branch consists of total sell's: 34.43%\n",
            "========================\n",
            "Branch Name: Gulshan\n",
            "Branch Sell: 2700 Taka\n",
            "-----------------------------------------\n",
            "Total Number of branch(s): 3\n",
            "Total Sell: 17950 Taka\n",
            "Branch Name: Dhanmondi, Branch Sell: 10000 Taka\n",
            "Branch consists of total sell's: 55.71%\n",
            "Branch Name: Baily Road, Branch Sell: 5250 Taka\n",
            "Branch consists of total sell's: 29.25%\n",
            "Branch Name: Gulshan, Branch Sell: 2700 Taka\n",
            "Branch consists of total sell's: 15.04%\n"
          ]
        }
      ]
    }
  ]
}
