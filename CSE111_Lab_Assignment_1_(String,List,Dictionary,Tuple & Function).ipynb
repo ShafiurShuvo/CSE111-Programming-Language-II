{
  "cells": [
    {
      "cell_type": "markdown",
      "metadata": {
        "id": "yUXEvrmzDJBg"
      },
      "source": [
        "#String"
      ]
    },
    {
      "cell_type": "markdown",
      "metadata": {
        "id": "S76eoCGxDLGB"
      },
      "source": [
        "Task-1"
      ]
    },
    {
      "cell_type": "code",
      "execution_count": null,
      "metadata": {
        "colab": {
          "base_uri": "https://localhost:8080/"
        },
        "id": "ch_wi4_2Df9P",
        "outputId": "4bb345f5-8d5b-4234-8f14-4d991428f2ed"
      },
      "outputs": [
        {
          "name": "stdout",
          "output_type": "stream",
          "text": [
            "Enter a string: UGIUbIUum\n",
            "UGIUBIUUM\n"
          ]
        }
      ],
      "source": [
        "A = input(\"Enter a string: \")\n",
        "\n",
        "u_count = 0\n",
        "l_count = 0\n",
        "string = \"\"\n",
        "\n",
        "for i in range(len(A)):\n",
        "  if ord(A[i]) >= 65 and ord(A[i]) <= 90:\n",
        "    u_count += 1\n",
        "  elif ord(A[i]) >= 97 and ord(A[i]) <= 122:\n",
        "    l_count += 1\n",
        "\n",
        "if u_count > l_count:\n",
        "  #print(A.upper())\n",
        "  for i in range(len(A)):\n",
        "    if ord(A[i]) >= 65 and ord(A[i]) <= 90:\n",
        "      string += chr(ord(A[i]))\n",
        "    else:\n",
        "      string += chr(ord(A[i]) - 32)\n",
        "\n",
        "else:\n",
        "  #print(A.lower())\n",
        "  for i in range(len(A)):\n",
        "    if ord(A[i]) >= 97 and ord(A[i]) <= 122:\n",
        "      string += chr(ord(A[i]))\n",
        "    else:\n",
        "      string += chr(ord(A[i]) + 32)\n",
        "\n",
        "print(string)"
      ]
    },
    {
      "cell_type": "markdown",
      "source": [
        "Task-2"
      ],
      "metadata": {
        "id": "Udjvj0vK2s0K"
      }
    },
    {
      "cell_type": "code",
      "execution_count": null,
      "metadata": {
        "colab": {
          "base_uri": "https://localhost:8080/"
        },
        "id": "tOW55IBDDtLs",
        "outputId": "fd84e4ac-fe03-48dd-fcb7-2e0fc5125298"
      },
      "outputs": [
        {
          "output_type": "stream",
          "name": "stdout",
          "text": [
            " jsc4rsrin\n",
            "MIXED\n"
          ]
        }
      ],
      "source": [
        "A = input(\" \")\n",
        "w_count = 0\n",
        "n_count = 0\n",
        "\n",
        "for i in range(len(A)):\n",
        "   if ord(A[i]) >= 65 and ord(A[i]) <= 90 or ord(A[i]) >= 97 and ord(A[i]) <= 122:\n",
        "      w_count += 1\n",
        "   elif ord(A[i]) >= 48 and ord(A[i]) <= 57:\n",
        "      n_count += 1\n",
        "\n",
        "\n",
        "if len(A) == w_count:\n",
        "  print(\"WORD\")\n",
        "elif len(A) == n_count:\n",
        "  print(\"NUMBER\")\n",
        "else:\n",
        "  print(\"MIXED\")"
      ]
    },
    {
      "cell_type": "markdown",
      "metadata": {
        "id": "S4sHz4vtD1rY"
      },
      "source": [
        "Task-3"
      ]
    },
    {
      "cell_type": "code",
      "execution_count": null,
      "metadata": {
        "colab": {
          "base_uri": "https://localhost:8080/"
        },
        "id": "4kkT83YRD3Jy",
        "outputId": "2b0bd0e2-a55d-4fee-cb70-0cd3ff7b1796"
      },
      "outputs": [
        {
          "output_type": "stream",
          "name": "stdout",
          "text": [
            " baNgladEsh\n",
            "glad\n"
          ]
        }
      ],
      "source": [
        "A = input(\" \")\n",
        "string = \"\"\n",
        "for i in range(len(A)):\n",
        "   if ord(A[i]) >= 65 and ord(A[i]) <= 90:\n",
        "     string += str(i)\n",
        "\n",
        "new_word = A[int(string[0]) + 1: int(string[1])]\n",
        "\n",
        "#print(new_word)\n",
        "if len(new_word) == 0:\n",
        "    print (\"Blank\")\n",
        "else:\n",
        "    print(new_word)"
      ]
    },
    {
      "cell_type": "markdown",
      "metadata": {
        "id": "TdlYPD_ID7s_"
      },
      "source": [
        "Task-4"
      ]
    },
    {
      "cell_type": "code",
      "execution_count": null,
      "metadata": {
        "colab": {
          "base_uri": "https://localhost:8080/"
        },
        "id": "GY43MxkhD9pl",
        "outputId": "6b6e1acb-7011-412c-bb88-41cc97860b3c"
      },
      "outputs": [
        {
          "output_type": "stream",
          "name": "stdout",
          "text": [
            "harry, hermione\n",
            "hrrhr\n"
          ]
        }
      ],
      "source": [
        "srting = input().split(\", \")\n",
        "s1 = srting[0]\n",
        "s2 = srting[1]\n",
        "com = \"\"\n",
        "\n",
        "for i in s1:\n",
        "  if i in s2:\n",
        "    com += i\n",
        "for j in s2:\n",
        "  if j in s1:\n",
        "    com += j\n",
        "\n",
        "if len(com) == 0:\n",
        "  print(\"Nothing in common\")\n",
        "\n",
        "print(com)"
      ]
    },
    {
      "cell_type": "markdown",
      "metadata": {
        "id": "nLDe8d0XEFHW"
      },
      "source": [
        "Task-5"
      ]
    },
    {
      "cell_type": "code",
      "execution_count": null,
      "metadata": {
        "colab": {
          "base_uri": "https://localhost:8080/"
        },
        "id": "ktyKBr08EByZ",
        "outputId": "5c867bb5-d8d0-4951-8b84-4167959bab57"
      },
      "outputs": [
        {
          "output_type": "stream",
          "name": "stdout",
          "text": [
            "Enter password: ohmybracu\n",
            "Uppercase Missing, Digit Missing, Special Missing\n"
          ]
        }
      ],
      "source": [
        "pas = input(\"Enter password: \")\n",
        "count1 = 0\n",
        "count2 = 0\n",
        "count3 = 0\n",
        "count4 = 0\n",
        "missing = \"\"\n",
        "s_list = ['_', '$', '#', '@']\n",
        "\n",
        "for i in range(len(pas)):\n",
        "  if ord(pas[i]) >= 65 and ord(pas[i]) <= 90:\n",
        "      count1 += 1\n",
        "  elif ord(pas[i]) >= 97 and ord(pas[i]) <= 122:\n",
        "     count2 += 1\n",
        "  elif ord(pas[i]) >= 48 and ord(pas[i]) <= 57:\n",
        "      count3 += 1\n",
        "  elif pas[i] in s_list:\n",
        "      count4 += 1\n",
        "\n",
        "if count1 == 0:\n",
        "    missing += \"Uppercase Missing, \"\n",
        "if count2 == 0:\n",
        "    missing += \"Lowercase Missing, \"\n",
        "if count3 == 0:\n",
        "    missing += \"Digit Missing, \"\n",
        "if count4 == 0:\n",
        "    missing += \"Special Missing, \"\n",
        "\n",
        "if count1 > 0 and count2 > 0 and count3 > 0 and count4 > 0:\n",
        "    print(\"OK\")\n",
        "\n",
        "print(missing[:-2])"
      ]
    },
    {
      "cell_type": "markdown",
      "metadata": {
        "id": "zRzyphVGJkS5"
      },
      "source": [
        "#List"
      ]
    },
    {
      "cell_type": "markdown",
      "metadata": {
        "id": "9E5SezCRJeDu"
      },
      "source": [
        "Task-1"
      ]
    },
    {
      "cell_type": "code",
      "execution_count": null,
      "metadata": {
        "colab": {
          "base_uri": "https://localhost:8080/"
        },
        "id": "cRp0I_Y_LEu-",
        "outputId": "60c9afc9-7da0-4aca-a047-44682e914c5b"
      },
      "outputs": [
        {
          "output_type": "stream",
          "name": "stdout",
          "text": [
            "10\n",
            "20\n",
            "20\n",
            "30\n",
            "10\n",
            "50\n",
            "90\n",
            "50\n",
            "STOP\n",
            "10 - 2 times\n",
            "20 - 2 times\n",
            "30 - 1 times\n",
            "50 - 2 times\n",
            "90 - 1 times\n"
          ]
        }
      ],
      "source": [
        "number = input()\n",
        "lst1 = []\n",
        "lst2 = []\n",
        "while number != \"STOP\":\n",
        "    lst1.append(number)\n",
        "    number = input()\n",
        "for i in lst1:\n",
        "    if i != \"STOP\":\n",
        "        if i not in lst2:\n",
        "            lst2.append(i)\n",
        "\n",
        "for i in lst2:\n",
        "    print(f\"{i} - {lst1.count(i)} times\")\n"
      ]
    },
    {
      "cell_type": "markdown",
      "source": [
        "Task-2:"
      ],
      "metadata": {
        "id": "KYBeWWhYElnG"
      }
    },
    {
      "cell_type": "code",
      "source": [
        "num_of_lst = int(input(\"Enter the numbger of list: \"))\n",
        "sum_list = []\n",
        "max_index = 0\n",
        "a = []\n",
        "\n",
        "for i in range(num_of_lst):\n",
        "    list1 = input(\"Enter: \").split(\" \")\n",
        "    a.append(list1)\n",
        "    sum_ = 0\n",
        "    for j in list1:\n",
        "        sum_ += int(j)\n",
        "    sum_list.append(sum_)\n",
        "\n",
        "max_ = sum_list[0]\n",
        "for i in range(1, len(sum_list)):\n",
        "    if sum_list[i] > max_:\n",
        "        max_ = sum_list[i]\n",
        "        max_index = i\n",
        "print(sum_list[max_index])\n",
        "\n",
        "max_list = a[max_index]\n",
        "# print(max_list)\n",
        "highest_list = []\n",
        "for i in max_list:\n",
        "    highest_list.append(int(i))\n",
        "print(highest_list)"
      ],
      "metadata": {
        "colab": {
          "base_uri": "https://localhost:8080/"
        },
        "id": "aTi2OGhtEnHc",
        "outputId": "fb83825d-2ca7-431f-fb13-f85b627c237c"
      },
      "execution_count": null,
      "outputs": [
        {
          "output_type": "stream",
          "name": "stdout",
          "text": [
            "Enter the numbger of list: 4\n",
            "Enter: 1 2 3\n",
            "Enter: 4 5 6\n",
            "Enter: 10 11 12\n",
            "Enter: 7 8 9\n",
            "33\n",
            "[10, 11, 12]\n"
          ]
        }
      ]
    },
    {
      "cell_type": "markdown",
      "source": [
        "Task-3:"
      ],
      "metadata": {
        "id": "igRQxWGYt3K1"
      }
    },
    {
      "cell_type": "code",
      "source": [
        "lst = input()\n",
        "num2 = []\n",
        "res1 = []\n",
        "while True:\n",
        "    if lst == \"STOP\":\n",
        "        break\n",
        "    else:\n",
        "        num1 = lst.split()\n",
        "        for i in num1:\n",
        "            i = int(i)\n",
        "            num2.append(i)\n",
        "        # print(num2)\n",
        "\n",
        "        for j in range(len(num2)-1):\n",
        "            res1.append(abs(num2[j+1] - num2[j]))\n",
        "        # print(res1)\n",
        "\n",
        "        if max(res1) >= 1 and max(res1) <= len(num2)-1:\n",
        "            print(\"UB Jumper\")\n",
        "        else:\n",
        "            print(\"Not UB Jumper\")\n",
        "        num2.clear()\n",
        "        res1.clear()\n",
        "\n",
        "        lst = input()"
      ],
      "metadata": {
        "colab": {
          "base_uri": "https://localhost:8080/"
        },
        "id": "NLXFJGkAx_YF",
        "outputId": "8bcfd627-965f-4b61-c746-66326b80cf5e"
      },
      "execution_count": null,
      "outputs": [
        {
          "name": "stdout",
          "output_type": "stream",
          "text": [
            "1 4 2 3\n",
            "UB Jumper\n",
            "2 1 4 6 10\n",
            "UB Jumper\n",
            "1 4 2 -1 6\n",
            "Not UB Jumper\n",
            "STOP\n"
          ]
        }
      ]
    },
    {
      "cell_type": "markdown",
      "source": [
        "Task-4:"
      ],
      "metadata": {
        "id": "vaxm2S82t7XB"
      }
    },
    {
      "cell_type": "code",
      "source": [
        "first_line = input(\"Please enter the value of n and k: \").split(\" \")\n",
        "n = int (first_line[0])\n",
        "k = int (first_line[1])\n",
        "lst = []\n",
        "count_5 = 0\n",
        "second_line = input(\"Please enter the details: \").split(\" \")\n",
        "second_line = [int (x) for x in second_line]\n",
        "for x in second_line:\n",
        "    if 5 - x >= k:\n",
        "        lst.append(x)\n",
        "y = len(lst)\n",
        "z = y // 3\n",
        "print(z)"
      ],
      "metadata": {
        "id": "OKsR_9ptZKv3",
        "colab": {
          "base_uri": "https://localhost:8080/"
        },
        "outputId": "704ee76f-6c67-4ef6-cb96-11f6e07364bb"
      },
      "execution_count": null,
      "outputs": [
        {
          "output_type": "stream",
          "name": "stdout",
          "text": [
            "Please enter the value of n and k: 6 5\n",
            "Please enter the details: 0 0 0 0 0 0\n",
            "2\n"
          ]
        }
      ]
    },
    {
      "cell_type": "code",
      "source": [
        "l_1 = input().split(\" \")\n",
        "l_2 = input().split(\" \")\n",
        "n = int(l_1[0])\n",
        "k = int(l_1[1])\n",
        "list1 = []\n",
        "counter = 0\n",
        "l_2 = [int(i) for i in l_2]\n",
        "for i in l_2:\n",
        "    if 5-i >= k:\n",
        "      list1.append(i)\n",
        "\n",
        "j = len(list1)\n",
        "k = j // 3\n",
        "print(k)"
      ],
      "metadata": {
        "id": "E1rOYoBSzYaJ",
        "colab": {
          "base_uri": "https://localhost:8080/"
        },
        "outputId": "a4b23f5a-4ccd-420b-dc2e-11a9f59876ea"
      },
      "execution_count": null,
      "outputs": [
        {
          "output_type": "stream",
          "name": "stdout",
          "text": [
            "5 2\n",
            "0 4 5 1 0\n",
            "1\n"
          ]
        }
      ]
    },
    {
      "cell_type": "markdown",
      "source": [
        "# Dictionary"
      ],
      "metadata": {
        "id": "KILm4n5lLI7v"
      }
    },
    {
      "cell_type": "markdown",
      "source": [
        "Task-1:"
      ],
      "metadata": {
        "id": "KbJDexdVLNIt"
      }
    },
    {
      "cell_type": "code",
      "source": [
        "input1=input()\n",
        "input2=input()\n",
        "dic1={}\n",
        "dic2={}\n",
        "dic3={}\n",
        "list1=input1.split(', ')\n",
        "for a in list1:\n",
        "    list2=a.split(': ')\n",
        "    dic1[list2[0]]=int(list2[1])\n",
        "list3=input2.split(', ')\n",
        "for b in list3:\n",
        "    list4=b.split(': ')\n",
        "    dic2[list4[0]]=int(list4[1])\n",
        "for c,d in dic1.items():\n",
        "    if c not in dic3.keys():\n",
        "        dic3[c]=d\n",
        "    else:\n",
        "        dic3[c]+=d\n",
        "for m,n in dic2.items():\n",
        "    if m not in dic3.keys():\n",
        "        dic3[m]=n\n",
        "    else:\n",
        "        dic3[m]+=n\n",
        "print(dic3)\n",
        "temp=list(dic3.values())\n",
        "temp2=[]\n",
        "for x in temp:\n",
        "    if x not in temp2:\n",
        "        temp2.append(x)\n",
        "temp2.sort()\n",
        "print(tuple(temp2))"
      ],
      "metadata": {
        "colab": {
          "base_uri": "https://localhost:8080/"
        },
        "id": "6i8kPpHELP2F",
        "outputId": "f7fc45e2-00e7-429f-f691-4f660b986dcc"
      },
      "execution_count": null,
      "outputs": [
        {
          "output_type": "stream",
          "name": "stdout",
          "text": [
            "a: 100, b: 100, c: 200, d: 300\n",
            "a: 300, b: 200, d: 400, e: 200\n",
            "{'a': 400, 'b': 300, 'c': 200, 'd': 700, 'e': 200}\n",
            "(200, 300, 400, 700)\n"
          ]
        }
      ]
    },
    {
      "cell_type": "markdown",
      "source": [
        "Task-2:"
      ],
      "metadata": {
        "id": "NBzhlMcb0Iz2"
      }
    },
    {
      "cell_type": "code",
      "source": [
        "number = input()\n",
        "dic1 = {}\n",
        "while True:\n",
        "    if number == \"STOP\":\n",
        "        break\n",
        "    else:\n",
        "        number = int(number)\n",
        "\n",
        "    if number not in dic1.keys():\n",
        "        dic1[number] = 1\n",
        "    else:\n",
        "        dic1[number] += 1\n",
        "\n",
        "    number = input()\n",
        "\n",
        "print(dic1)\n",
        "\n",
        "for k,v in dic1.items():\n",
        "    print(f\"{k} - {v} times\")"
      ],
      "metadata": {
        "colab": {
          "base_uri": "https://localhost:8080/"
        },
        "id": "173tWy8n0RH2",
        "outputId": "f99c6816-9892-4c51-8b93-e8aa313af755"
      },
      "execution_count": null,
      "outputs": [
        {
          "output_type": "stream",
          "name": "stdout",
          "text": [
            "10\n",
            "20\n",
            "20\n",
            "30\n",
            "10\n",
            "50\n",
            "90\n",
            "STOP\n",
            "{10: 2, 20: 2, 30: 1, 50: 1, 90: 1}\n",
            "10 - 2 times\n",
            "20 - 2 times\n",
            "30 - 1 times\n",
            "50 - 1 times\n",
            "90 - 1 times\n"
          ]
        }
      ]
    },
    {
      "cell_type": "markdown",
      "source": [
        "Task-3:"
      ],
      "metadata": {
        "id": "Qly2sIhLYu1X"
      }
    },
    {
      "cell_type": "code",
      "source": [
        "dict1 = input()\n",
        "dict1 = dict1.split(\", \")\n",
        "dict2 = {}\n",
        "\n",
        "for i in dict1:\n",
        "    temp = i.split(\" : \")\n",
        "    if temp[1] not in dict2:\n",
        "        dict2[temp[1]] = [temp[0]]\n",
        "    else:\n",
        "        dict2[temp[1]].append(temp[0])\n",
        "\n",
        "print(dict2)"
      ],
      "metadata": {
        "colab": {
          "base_uri": "https://localhost:8080/"
        },
        "id": "uAqEIJFsYw54",
        "outputId": "4635d0cb-50c0-4894-c6b9-d2e1a164a847"
      },
      "execution_count": null,
      "outputs": [
        {
          "output_type": "stream",
          "name": "stdout",
          "text": [
            "key1 : value1, key2 : value2, key3 : value1\n",
            "{'value1': ['key1', 'key3'], 'value2': ['key2']}\n"
          ]
        }
      ]
    },
    {
      "cell_type": "markdown",
      "source": [
        "Task-4:"
      ],
      "metadata": {
        "id": "iVkpesOWIj55"
      }
    },
    {
      "cell_type": "code",
      "source": [
        "inp = 'Hello, World!'\n",
        "dict = {\n",
        "    1 : '.,?!:',\n",
        "    2 : 'ABC',\n",
        "    3 : 'DEF',\n",
        "    4 : 'GHI',\n",
        "    5 : 'JKL',\n",
        "    6 : 'MNO',\n",
        "    7 : 'PQRS',\n",
        "    8 : 'TUV',\n",
        "    9 : 'WXYZ',\n",
        "    0 : ' ',\n",
        "}\n",
        "\n",
        "press_needed = \"\"\n",
        "for i in inp:\n",
        "    i = i.upper()\n",
        "    for k,v in dict.items():\n",
        "        if i in v:\n",
        "            idx = v.find(i)\n",
        "            press_needed += str(k) * (idx + 1)\n",
        "\n",
        "print(press_needed)"
      ],
      "metadata": {
        "colab": {
          "base_uri": "https://localhost:8080/"
        },
        "id": "m53axKLXIkZ-",
        "outputId": "85a000d0-0900-4078-80f7-060c011568e7"
      },
      "execution_count": 1,
      "outputs": [
        {
          "output_type": "stream",
          "name": "stdout",
          "text": [
            "4433555555666110966677755531111\n"
          ]
        }
      ]
    },
    {
      "cell_type": "markdown",
      "source": [
        "# Function"
      ],
      "metadata": {
        "id": "E-_YYCvg3BGu"
      }
    },
    {
      "cell_type": "markdown",
      "source": [
        "Task-1:"
      ],
      "metadata": {
        "id": "tZiSFf1KQw04"
      }
    },
    {
      "cell_type": "code",
      "source": [
        "def AmiKenoMota(height, weight):\n",
        "    BMI = weight / (height*0.01)**2\n",
        "\n",
        "    if BMI < 18.5:\n",
        "      return f\"Score is {round(BMI, 1)} you are Underweight\"\n",
        "    if BMI >= 18.5 and BMI <= 24.9:\n",
        "      return f\"Score is {round(BMI, 1)} you are Normal\"\n",
        "    if BMI >= 25 and BMI <= 30:\n",
        "      return f\"Score is {round(BMI, 1)} you are Overweight\"\n",
        "    if BMI > 30:\n",
        "      return f\"Score is {round(BMI, 1)} you are Obese\"\n",
        "\n",
        "height = float(input(\"Enter height: \"))\n",
        "weight= float(input(\"Enter weight: \"))\n",
        "print(AmiKenoMota(height, weight))"
      ],
      "metadata": {
        "colab": {
          "base_uri": "https://localhost:8080/"
        },
        "id": "VhbJOinCQwnn",
        "outputId": "c432be15-0d36-49a5-cd73-28615c281113"
      },
      "execution_count": null,
      "outputs": [
        {
          "output_type": "stream",
          "name": "stdout",
          "text": [
            "Enter height: 152\n",
            "Enter weight: 48\n",
            "Score is 20.8 you are Normal\n"
          ]
        }
      ]
    },
    {
      "cell_type": "markdown",
      "source": [
        "Task-2:"
      ],
      "metadata": {
        "id": "ouuIBoh7Q1i8"
      }
    },
    {
      "cell_type": "code",
      "source": [
        "def add_divisor(min, max, div):\n",
        "    sum = 0\n",
        "    for i in range(min, max):\n",
        "        if i % div == 0:\n",
        "            sum += i\n",
        "    print(sum)\n",
        "\n",
        "minimum = int(input())\n",
        "maximum = int(input())\n",
        "divisor = int(input())\n",
        "add_divisor(minimum, maximum, divisor)"
      ],
      "metadata": {
        "id": "swyil6gnQ16I",
        "colab": {
          "base_uri": "https://localhost:8080/"
        },
        "outputId": "c9fe431d-1e11-4354-b6c1-49f87f230561"
      },
      "execution_count": null,
      "outputs": [
        {
          "output_type": "stream",
          "name": "stdout",
          "text": [
            "0\n",
            "10\n",
            "2\n",
            "20\n"
          ]
        }
      ]
    },
    {
      "cell_type": "markdown",
      "source": [
        "Task-3:"
      ],
      "metadata": {
        "id": "aakHcwWG21j_"
      }
    },
    {
      "cell_type": "code",
      "source": [
        "def chillox(item, location = \"Mohakhali\"):\n",
        "    menu = {\"BBQ Chicken Cheese Burger\": 250, \"Beef Burger\": 170, \"Naga Drums\": 200}\n",
        "    cost = 0\n",
        "    if item in menu.keys():\n",
        "        cost += menu[item]\n",
        "    tax = (cost * 8) / 100\n",
        "    cost += tax\n",
        "    if location == \"Mohakhali\" or location == \"\":\n",
        "        cost += 40\n",
        "    else:\n",
        "        cost += 60\n",
        "    print(cost)\n",
        "\n",
        "item = input()\n",
        "location = input(\"Location: \")\n",
        "chillox(item, location)"
      ],
      "metadata": {
        "colab": {
          "base_uri": "https://localhost:8080/"
        },
        "id": "O1wmqplU3G6S",
        "outputId": "38baf1c1-1d4f-4705-d067-587b98611d8e"
      },
      "execution_count": null,
      "outputs": [
        {
          "output_type": "stream",
          "name": "stdout",
          "text": [
            "Beef Burger\n",
            "Location: \n",
            "223.6\n"
          ]
        }
      ]
    },
    {
      "cell_type": "markdown",
      "source": [
        "Task-4:"
      ],
      "metadata": {
        "id": "pOiLU1h5gEcx"
      }
    },
    {
      "cell_type": "code",
      "source": [
        "def replace_domain(email, new_dom, old_dom = None):\n",
        "    new_adress = \"\"\n",
        "    for i in range(len(email)):\n",
        "        new_adress += email[i]\n",
        "        if email[i] == \"@\":\n",
        "            break\n",
        "\n",
        "    new_adress += new_dom\n",
        "\n",
        "    if new_adress == email:\n",
        "        print(f\"Unhanged: {new_adress}\")\n",
        "    else:\n",
        "        print(f\"Changed: {new_adress}\")\n",
        "\n",
        "email = input()\n",
        "new_domain = input()\n",
        "old_domain = input()\n",
        "replace_domain(email, new_domain, old_domain)"
      ],
      "metadata": {
        "colab": {
          "base_uri": "https://localhost:8080/"
        },
        "id": "XKKXGP36gHCV",
        "outputId": "07e9901b-584d-4751-d715-8a5b173852c3"
      },
      "execution_count": null,
      "outputs": [
        {
          "output_type": "stream",
          "name": "stdout",
          "text": [
            "alice@kaaj.com\n",
            "sheba.xyz\n",
            "kaaj.com\n",
            "Changed: alice@sheba.xyz\n"
          ]
        }
      ]
    },
    {
      "cell_type": "markdown",
      "source": [
        "Task-5:"
      ],
      "metadata": {
        "id": "ICTV-uf2gHT0"
      }
    },
    {
      "cell_type": "code",
      "source": [
        "def palindrome(string):\n",
        "    word_ = \"\"\n",
        "    for i in range(len(string)):\n",
        "        if string[i] != \" \":\n",
        "            word_ += string[i]\n",
        "\n",
        "\n",
        "    reversed_word = \"\"\n",
        "    for i in range(len(string)-1, -1, -1):\n",
        "        if string[i] != \" \":\n",
        "            reversed_word += string[i]\n",
        "\n",
        "    if reversed_word == word_:\n",
        "        print(\"Palindrome\")\n",
        "    else:\n",
        "        print(\"Not a plaindrome\")\n",
        "\n",
        "word = input(\"\")\n",
        "palindrome(word)"
      ],
      "metadata": {
        "id": "5nRqPrZJgI8O",
        "colab": {
          "base_uri": "https://localhost:8080/"
        },
        "outputId": "537913c4-7b23-492b-a712-3d96e539e074"
      },
      "execution_count": null,
      "outputs": [
        {
          "output_type": "stream",
          "name": "stdout",
          "text": [
            "nurses run\n",
            "Palindrome\n"
          ]
        }
      ]
    },
    {
      "cell_type": "markdown",
      "source": [
        "Task-6:"
      ],
      "metadata": {
        "id": "dHKc2aOCgJTY"
      }
    },
    {
      "cell_type": "code",
      "source": [
        "def capital(string):\n",
        "    new=''\n",
        "    for i in range(len(string)):\n",
        "        if i==0 and 'a'<= string[0] <='z': # Capitalize the first letter\n",
        "            new +=chr(ord(string[i])-32)\n",
        "        elif string[i]=='i' and string[i+1]==string[i-1]==' ': # If i is in the middle of the sentence\n",
        "            new += chr(ord(string[i])-32)\n",
        "        elif string[i]=='i' and (string[i+1]=='.' or string[i+1]=='?' or string[i+1]=='!') and string[i-1]==' ': # If i is in the last of the sentence\n",
        "            new += chr(ord(string[i])-32)\n",
        "        elif i>2 and (string[i-2]=='.' or string[i-2]=='?' or string[i-2]=='!'): # Capitalize the first letter after a full-stop, exclamation mark or questionmark\n",
        "            new += chr(ord(string[i])-32)\n",
        "        else:\n",
        "            new += string[i]\n",
        "    return new\n",
        "para = input()\n",
        "print(capital(para))"
      ],
      "metadata": {
        "colab": {
          "base_uri": "https://localhost:8080/"
        },
        "id": "VVpRdBzoujzk",
        "outputId": "efc2e127-662f-4b1f-8459-1e154d5d6077"
      },
      "execution_count": null,
      "outputs": [
        {
          "output_type": "stream",
          "name": "stdout",
          "text": [
            "my favourite animal is a dog. a dog has sharp teeth so that it can eat flesh very easily. do you know my pet dog’s name? i love my pet very much.\n",
            "My favourite animal is a dog. A dog has sharp teeth so that it can eat flesh very easily. Do you know my pet dog’s name? I love my pet very much.\n"
          ]
        }
      ]
    }
  ],
  "metadata": {
    "colab": {
      "provenance": []
    },
    "kernelspec": {
      "display_name": "Python 3",
      "name": "python3"
    },
    "language_info": {
      "name": "python"
    }
  },
  "nbformat": 4,
  "nbformat_minor": 0
}
