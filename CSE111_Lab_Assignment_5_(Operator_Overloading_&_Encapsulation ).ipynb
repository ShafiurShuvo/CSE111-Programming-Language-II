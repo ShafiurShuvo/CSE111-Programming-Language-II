{
  "nbformat": 4,
  "nbformat_minor": 0,
  "metadata": {
    "colab": {
      "provenance": []
    },
    "kernelspec": {
      "name": "python3",
      "display_name": "Python 3"
    },
    "language_info": {
      "name": "python"
    }
  },
  "cells": [
    {
      "cell_type": "markdown",
      "source": [
        "# Task - 1\n",
        "### Two types"
      ],
      "metadata": {
        "id": "NnXXRnaM_QQi"
      }
    },
    {
      "cell_type": "code",
      "execution_count": null,
      "metadata": {
        "colab": {
          "base_uri": "https://localhost:8080/"
        },
        "id": "7FeNm-H75e8s",
        "outputId": "b03ab7f9-9471-439c-e964-a4a5d392bc40"
      },
      "outputs": [
        {
          "output_type": "stream",
          "name": "stdout",
          "text": [
            "Quiz 1 (out of 10): 10\n",
            "Quiz 2 (out of 10): 8\n",
            "Lab (out of 30): 29\n",
            "Mid (out of 20): 20\n",
            "Final (out of 30): 30\n",
            "Total marks: 97\n"
          ]
        }
      ],
      "source": [
        "class Exam:\n",
        "    def __init__(self, mark):\n",
        "        self.mark = mark\n",
        "\n",
        "    def __add__(self, obj):\n",
        "        return Exam(self.mark +obj.mark)\n",
        "\n",
        "Q1 = Exam(int(input(\"Quiz 1 (out of 10): \")))\n",
        "Q2 = Exam(int(input(\"Quiz 2 (out of 10): \")))\n",
        "Lab = Exam(int(input(\"Lab (out of 30): \")))\n",
        "Mid = Exam(int(input(\"Mid (out of 20): \")))\n",
        "Final = Exam(int(input(\"Final (out of 30): \")))\n",
        "total = Q1 + Q2 + Lab + Mid + Final\n",
        "print(\"Total marks: {}\".format(total.mark))"
      ]
    },
    {
      "cell_type": "code",
      "source": [
        "class Exam:\n",
        "    def __init__(self, mark):\n",
        "        self.mark = mark\n",
        "\n",
        "    def __add__(self, obj):\n",
        "        self.mark = self.mark +obj.mark\n",
        "        return self\n",
        "\n",
        "Q1 = Exam(int(input(\"Quiz 1 (out of 10): \")))\n",
        "Q2 = Exam(int(input(\"Quiz 2 (out of 10): \")))\n",
        "Lab = Exam(int(input(\"Lab (out of 30): \")))\n",
        "Mid = Exam(int(input(\"Mid (out of 20): \")))\n",
        "Final = Exam(int(input(\"Final (out of 30): \")))\n",
        "total = Q1 + Q2 + Lab + Mid + Final\n",
        "print(\"Total marks: {}\".format(total.mark))"
      ],
      "metadata": {
        "colab": {
          "base_uri": "https://localhost:8080/"
        },
        "id": "HvKfLXMeDa6O",
        "outputId": "08f3f7be-d74a-433b-9da8-2e933cfedbe9"
      },
      "execution_count": null,
      "outputs": [
        {
          "output_type": "stream",
          "name": "stdout",
          "text": [
            "Quiz 1 (out of 10): 10\n",
            "Quiz 2 (out of 10): 8\n",
            "Lab (out of 30): 29\n",
            "Mid (out of 20): 20\n",
            "Final (out of 30): 30\n",
            "Total marks: 97\n"
          ]
        }
      ]
    },
    {
      "cell_type": "markdown",
      "source": [
        "# Task- 2"
      ],
      "metadata": {
        "id": "tCJTjEGfByiA"
      }
    },
    {
      "cell_type": "code",
      "source": [
        "class Teacher:\n",
        "    def __init__(self, name , department):\n",
        "        self.__name = name\n",
        "        self.__department = department\n",
        "\n",
        "        self.__course_list = []\n",
        "\n",
        "    def addCourse(self, course):\n",
        "        self.__course_title = course.course_title\n",
        "        self.__course_list.append(self.__course_title)    #calling the teacher class with the location of course class in parameter\n",
        "\n",
        "    def printDetail(self):\n",
        "        print(\"====================================\")     # first program reads the add course , then it goes to the course class and returnes the value\n",
        "        print(f\"Name: {self.__name}\")\n",
        "        print(f\"Department: {self.__department}\")\n",
        "        print(\"List of courses\")\n",
        "        print(\"====================================\")\n",
        "        for courses in self.__course_list:\n",
        "            print(courses)\n",
        "        print(\"====================================\")\n",
        "\n",
        "class Course:\n",
        "    def __init__(self, course_title):    #calling the main course class\n",
        "        self.course_title = course_title\n",
        "\n",
        "\n",
        "t1 = Teacher(\"Saad Abdullah\", \"CSE\")\n",
        "t2 = Teacher(\"Mumit Khan\", \"CSE\")\n",
        "t3 = Teacher(\"Sadia Kazi\", \"CSE\")\n",
        "c1 = Course(\"CSE 110 Programming Language I\")\n",
        "c2 = Course(\"CSE 111 Programming Language-II\")\n",
        "c3 = Course(\"CSE 220 Data Structures\")\n",
        "c4 = Course(\"CSE 221 Algorithms\")\n",
        "c5 = Course(\"CCSE 230 Discrete Mathematics\")\n",
        "c6 = Course(\"CSE 310 Object Oriented Programming\")\n",
        "c7 = Course(\"CSE 320 Data Communications\")\n",
        "c8 = Course(\"CSE 340 Computer Architecture\")\n",
        "t1.addCourse(c1)\n",
        "t1.addCourse(c2)\n",
        "t2.addCourse(c3)\n",
        "t2.addCourse(c4)\n",
        "t2.addCourse(c5)\n",
        "t3.addCourse(c6)\n",
        "t3.addCourse(c7)\n",
        "t3.addCourse(c8)\n",
        "t1.printDetail()\n",
        "t2.printDetail()\n",
        "t3.printDetail()"
      ],
      "metadata": {
        "colab": {
          "base_uri": "https://localhost:8080/"
        },
        "id": "u5qAtph50dbx",
        "outputId": "f49f5568-0619-40c6-9fa4-65d85b7c9b71"
      },
      "execution_count": 1,
      "outputs": [
        {
          "output_type": "stream",
          "name": "stdout",
          "text": [
            "====================================\n",
            "Name: Saad Abdullah\n",
            "Department: CSE\n",
            "List of courses\n",
            "====================================\n",
            "CSE 110 Programming Language I\n",
            "CSE 111 Programming Language-II\n",
            "====================================\n",
            "====================================\n",
            "Name: Mumit Khan\n",
            "Department: CSE\n",
            "List of courses\n",
            "====================================\n",
            "CSE 220 Data Structures\n",
            "CSE 221 Algorithms\n",
            "CCSE 230 Discrete Mathematics\n",
            "====================================\n",
            "====================================\n",
            "Name: Sadia Kazi\n",
            "Department: CSE\n",
            "List of courses\n",
            "====================================\n",
            "CSE 310 Object Oriented Programming\n",
            "CSE 320 Data Communications\n",
            "CSE 340 Computer Architecture\n",
            "====================================\n"
          ]
        }
      ]
    },
    {
      "cell_type": "markdown",
      "source": [
        "# Task 3"
      ],
      "metadata": {
        "id": "LstlXmlc1iuW"
      }
    },
    {
      "cell_type": "code",
      "source": [
        "class Team:\n",
        "    def __init__(self, country = None):\n",
        "        self.__country = country\n",
        "        self.__player_list = []\n",
        "\n",
        "\n",
        "    def setName(self, country):\n",
        "        self.__country = country\n",
        "\n",
        "    def addPlayer(self, p_name):\n",
        "        self.player_name = p_name.player_name\n",
        "        self.__player_list.append(self.player_name)\n",
        "\n",
        "\n",
        "    def printDetail(self):\n",
        "        print(\"=====================\")\n",
        "        print(f\"Team: {self.__country}\")\n",
        "        print(\"List of Players:\")\n",
        "        print(self.__player_list)\n",
        "        print(\"=====================\")\n",
        "\n",
        "\n",
        "class Player:\n",
        "    def __init__(self, player_name):\n",
        "        self.player_name = player_name\n",
        "\n",
        "\n",
        "\n",
        "b = Team()\n",
        "b.setName('Bangladesh')\n",
        "mashrafi = Player(\"Mashrafi\")\n",
        "b.addPlayer(mashrafi)\n",
        "tamim = Player(\"Tamim\")\n",
        "b.addPlayer(tamim)\n",
        "b.printDetail()\n",
        "a = Team(\"Australia\")\n",
        "ponting = Player(\"Ponting\")\n",
        "a.addPlayer(ponting)\n",
        "lee = Player(\"Lee\")\n",
        "a.addPlayer(lee)\n",
        "a.printDetail()"
      ],
      "metadata": {
        "colab": {
          "base_uri": "https://localhost:8080/"
        },
        "id": "CtOlx3qB1kmu",
        "outputId": "0971f9a4-eb05-4662-ad57-b54091d354c5"
      },
      "execution_count": null,
      "outputs": [
        {
          "output_type": "stream",
          "name": "stdout",
          "text": [
            "=====================\n",
            "Team: Bangladesh\n",
            "List of Players:\n",
            "['Mashrafi', 'Tamim']\n",
            "=====================\n",
            "=====================\n",
            "Team: Australia\n",
            "List of Players:\n",
            "['Ponting', 'Lee']\n",
            "=====================\n"
          ]
        }
      ]
    },
    {
      "cell_type": "markdown",
      "source": [
        "# Task - 4"
      ],
      "metadata": {
        "id": "dfXaoW0ZH3jX"
      }
    },
    {
      "cell_type": "code",
      "source": [
        "class Color:\n",
        "    def __init__(self, color):\n",
        "        self.color = color\n",
        "\n",
        "    def __add__(self, other):\n",
        "        #self.color = self.color + other.color\n",
        "\n",
        "        if self.color == \"red\" and other.color == \"yellow\" or self.color == \"yellow\" and other.color == \"red\":\n",
        "            self.clr = \"Orange\"\n",
        "        elif self.color == \"red\" and other.color == \"blue\" or self.color == \"blue\" and other.color == \"red\":\n",
        "            self.clr = \"Violet\"\n",
        "        elif self.color == \"yellow\" and other.color == \"blue\" or self.color == \"blue\" and other.color == \"yellow\":\n",
        "            self.clr = \"Green\"\n",
        "\n",
        "        return self\n",
        "\n",
        "\n",
        "C1 = Color(input(\"First Color: \").lower())\n",
        "C2 = Color(input(\"Second Color: \").lower())\n",
        "C3 = C1 + C2\n",
        "print(\"Color formed:\", C3.clr)"
      ],
      "metadata": {
        "colab": {
          "base_uri": "https://localhost:8080/"
        },
        "id": "_lBFgfapH59v",
        "outputId": "74828c1d-4a17-4ba6-d4f0-bacf3ae4858d"
      },
      "execution_count": null,
      "outputs": [
        {
          "output_type": "stream",
          "name": "stdout",
          "text": [
            "First Color: yellow\n",
            "Second Color: BLUE\n",
            "Color formed: Green\n"
          ]
        }
      ]
    },
    {
      "cell_type": "markdown",
      "source": [
        "# Task - 5\n",
        "### Two types"
      ],
      "metadata": {
        "id": "VD7siJPuLYps"
      }
    },
    {
      "cell_type": "code",
      "source": [
        "import math\n",
        "class Circle:\n",
        "    def __init__(self, rad):\n",
        "        self.__rad = rad\n",
        "\n",
        "    def getRadius(self):\n",
        "        return self.__rad\n",
        "\n",
        "    def setRadius(self, rad):\n",
        "        self.__rad = rad\n",
        "\n",
        "    def area(self):\n",
        "        #self.__area = math.pi * self.__rad ** 2\n",
        "        return math.pi * self.__rad ** 2\n",
        "\n",
        "    def __add__(self, other):\n",
        "        #self.addcircle = self.__rad + other.__rad\n",
        "        return Circle(self.__rad + other.__rad)\n",
        "\n",
        "\n",
        "c1 = Circle(4)\n",
        "print(\"First circle radius:\" , c1.getRadius())\n",
        "print(\"First circle area:\" ,c1.area())\n",
        "\n",
        "c2 = Circle(5)\n",
        "print(\"Second circle radius:\" ,c2.getRadius())\n",
        "print(\"Second circle area:\" ,c2.area())\n",
        "\n",
        "c3 = c1 + c2\n",
        "print(\"Third circle radius:\" ,c3.getRadius())\n",
        "print(\"Third circle area:\" ,c3.area())"
      ],
      "metadata": {
        "colab": {
          "base_uri": "https://localhost:8080/"
        },
        "id": "oJ3fUT0sLYMl",
        "outputId": "05a94417-5b91-430d-a337-a46874b4af8b"
      },
      "execution_count": null,
      "outputs": [
        {
          "output_type": "stream",
          "name": "stdout",
          "text": [
            "First circle radius: 4\n",
            "First circle area: 50.26548245743669\n",
            "Second circle radius: 5\n",
            "Second circle area: 78.53981633974483\n",
            "Third circle radius: 9\n",
            "Third circle area: 254.46900494077323\n"
          ]
        }
      ]
    },
    {
      "cell_type": "code",
      "source": [
        "import math\n",
        "class Circle:\n",
        "    def __init__(self, radius):\n",
        "        self.__radius = radius\n",
        "\n",
        "    def getRadius(self):\n",
        "        return self.__radius\n",
        "\n",
        "    def setRadius(self, rad):\n",
        "        self.__radius = rad\n",
        "\n",
        "    def area(self):\n",
        "        self.__area = math.pi * self.__radius ** 2\n",
        "        return self.__area\n",
        "\n",
        "    def __add__(self, other):\n",
        "        self.__radius = self.__radius + other.__radius\n",
        "        #self.__area = self.__area + other.__area\n",
        "        return self\n",
        "\n",
        "c1 = Circle(4)\n",
        "print(\"First circle radius:\" , c1.getRadius())\n",
        "print(\"First circle area:\" ,c1.area())\n",
        "\n",
        "c2 = Circle(5)\n",
        "print(\"Second circle radius:\" ,c2.getRadius())\n",
        "print(\"Second circle area:\" ,c2.area())\n",
        "\n",
        "c3 = c1 + c2\n",
        "print(\"Third circle radius:\" ,c3.getRadius())\n",
        "print(\"Third circle area:\" ,c3.area())"
      ],
      "metadata": {
        "colab": {
          "base_uri": "https://localhost:8080/"
        },
        "id": "sWZ5-Bs72Djg",
        "outputId": "2a327eee-140f-4d32-e3fe-fffe7ec339c9"
      },
      "execution_count": null,
      "outputs": [
        {
          "output_type": "stream",
          "name": "stdout",
          "text": [
            "First circle radius: 4\n",
            "First circle area: 50.26548245743669\n",
            "Second circle radius: 5\n",
            "Second circle area: 78.53981633974483\n",
            "Third circle radius: 9\n",
            "Third circle area: 254.46900494077323\n"
          ]
        }
      ]
    },
    {
      "cell_type": "markdown",
      "source": [
        "# Task - 6"
      ],
      "metadata": {
        "id": "JH71b9rh4Q5s"
      }
    },
    {
      "cell_type": "code",
      "source": [
        "class Triangle:\n",
        "    def __init__(self, base, height):\n",
        "        self.__base = base\n",
        "        self.__height = height\n",
        "\n",
        "    def getBase(self):\n",
        "        return self.__base\n",
        "    def getHeight(self):\n",
        "        return self.__height\n",
        "    def setBase(self, bes):\n",
        "        self.__base = bes\n",
        "    def setHeight(self, hei):\n",
        "        self.__height = hei\n",
        "\n",
        "    def area(self):\n",
        "        self.__area = 0.5 * self.__base * self.__height\n",
        "        return self.__area\n",
        "\n",
        "    def __sub__(self, other):\n",
        "        self.__base = self.__base - other.__base\n",
        "        self.__height = self.__height - other.__height\n",
        "        return self\n",
        "\n",
        "\n",
        "\n",
        "t1 = Triangle(10, 5)\n",
        "print(\"First Triangle Base:\" , t1.getBase())\n",
        "print(\"First Triangle Height:\" , t1.getHeight())\n",
        "print(\"First Triangle area:\" ,t1.area())\n",
        "\n",
        "t2 = Triangle(5, 3)\n",
        "print(\"Second Triangle Base:\" , t2.getBase())\n",
        "print(\"Second Triangle Height:\" , t2.getHeight())\n",
        "print(\"Second Triangle area:\" ,t2.area())\n",
        "\n",
        "t3 = t1 - t2\n",
        "print(\"Third Triangle Base:\" , t3.getBase())\n",
        "print(\"Third Triangle Height:\" , t3.getHeight())\n",
        "print(\"Third Triangle area:\" ,t3.area())"
      ],
      "metadata": {
        "colab": {
          "base_uri": "https://localhost:8080/"
        },
        "id": "BM6Ll_S54QEf",
        "outputId": "56d5c4b4-38f2-41b9-a4f2-ae84b5deb526"
      },
      "execution_count": null,
      "outputs": [
        {
          "output_type": "stream",
          "name": "stdout",
          "text": [
            "First Triangle Base: 10\n",
            "First Triangle Height: 5\n",
            "First Triangle area: 25.0\n",
            "Second Triangle Base: 5\n",
            "Second Triangle Height: 3\n",
            "Second Triangle area: 7.5\n",
            "Third Triangle Base: 5\n",
            "Third Triangle Height: 2\n",
            "Third Triangle area: 5.0\n"
          ]
        }
      ]
    },
    {
      "cell_type": "markdown",
      "source": [
        "# Task - 7"
      ],
      "metadata": {
        "id": "m1IA7XYqVF3H"
      }
    },
    {
      "cell_type": "code",
      "source": [
        "class Dolls:\n",
        "    def __init__(self, name, price):\n",
        "        self.name = []\n",
        "        self.price = price\n",
        "        self.name.append(name)\n",
        "\n",
        "    def __gt__(self, other):\n",
        "        if self.price > other.price:\n",
        "            return True\n",
        "        else:\n",
        "            return False\n",
        "\n",
        "    def detail(self):\n",
        "        for i in self.name:\n",
        "            if len(self.name) > 1:\n",
        "                #return f\"Dolls: {self.name}\\nTotal Price: {self.price} taka\"\n",
        "                return f\"Dolls: {' '.join(self.name)}\\nTotal Price: {self.price} taka\"\n",
        "            else:\n",
        "\n",
        "                return f\"Doll: {i}\\nTotal Price: {self.price} taka\"\n",
        "\n",
        "\n",
        "    def __add__(self, other):\n",
        "        self.price = self.price + other.price\n",
        "        self.name = self.name + other.name\n",
        "        return self\n",
        "\n",
        "\n",
        "obj_1 = Dolls(\"Tweety\", 2500)\n",
        "print(obj_1.detail())\n",
        "if obj_1 > obj_1:\n",
        "    print(\"Congratulations! You get the Tweety as a gift!\")\n",
        "else:\n",
        "    print(\"Thank you!\")\n",
        "\n",
        "print(\"=========================\")\n",
        "obj_2 = Dolls(\"Daffy Duck\", 1800)\n",
        "print(obj_2.detail())\n",
        "if obj_2 > obj_1:\n",
        "    print(\"Congratulations! You get the Tweety as a gift!\")\n",
        "else:\n",
        "    print(\"Thank you!\")\n",
        "\n",
        "print(\"=========================\")\n",
        "obj_3 = Dolls(\"Bugs Bunny\", 3000)\n",
        "print(obj_3.detail())\n",
        "if obj_3 > obj_1:\n",
        "    print(\"Congratulations! You get the Tweety as a gift!\")\n",
        "else:\n",
        "    print(\"Thank you!\")\n",
        "\n",
        "print(\"=========================\")\n",
        "obj_4 = Dolls(\"Porky Pig\", 1500)\n",
        "print(obj_4.detail())\n",
        "if obj_4 > obj_1:\n",
        "    print(\"Congratulations! You get the Tweety as a gift!\")\n",
        "else:\n",
        "    print(\"Thank you!\")\n",
        "\n",
        "print(\"=========================\")\n",
        "obj_5 = obj_2 + obj_3\n",
        "print(obj_5.detail())\n",
        "if obj_5 > obj_1:\n",
        "    print(\"Congratulations! You get the Tweety as a gift!\")\n",
        "else:\n",
        "    print(\"Thank you!\")"
      ],
      "metadata": {
        "colab": {
          "base_uri": "https://localhost:8080/"
        },
        "id": "wfRCsF63VEep",
        "outputId": "312a4cf2-957d-4ed8-9001-8f7f12b255a0"
      },
      "execution_count": 4,
      "outputs": [
        {
          "output_type": "stream",
          "name": "stdout",
          "text": [
            "Doll: Tweety\n",
            "Total Price: 2500 taka\n",
            "Thank you!\n",
            "=========================\n",
            "Doll: Daffy Duck\n",
            "Total Price: 1800 taka\n",
            "Thank you!\n",
            "=========================\n",
            "Doll: Bugs Bunny\n",
            "Total Price: 3000 taka\n",
            "Congratulations! You get the Tweety as a gift!\n",
            "=========================\n",
            "Doll: Porky Pig\n",
            "Total Price: 1500 taka\n",
            "Thank you!\n",
            "=========================\n",
            "Dolls: Daffy Duck Bugs Bunny\n",
            "Total Price: 4800 taka\n",
            "Congratulations! You get the Tweety as a gift!\n"
          ]
        }
      ]
    },
    {
      "cell_type": "markdown",
      "source": [
        "# Task 8"
      ],
      "metadata": {
        "id": "8hRD9Vqu0vIK"
      }
    },
    {
      "cell_type": "code",
      "source": [
        "class Coordinates:\n",
        "    def __init__(self, x, y):\n",
        "        self.x = x\n",
        "        self.y = y\n",
        "\n",
        "    def detail(self):\n",
        "        return (self.x, self.y)\n",
        "\n",
        "    def __sub__(self, other):\n",
        "        return Coordinates(self.x - other.x, self.y - other.y)\n",
        "\n",
        "    def __mul__(self, other):\n",
        "        return Coordinates(self.x * other.x, self.y * other.y)\n",
        "\n",
        "    def __eq__(self, other):\n",
        "        if self.x == other.x and self.y== other.y:\n",
        "            return \"The calculated coordinates are the same.\"\n",
        "        else:\n",
        "            return \"The calculated coordinates are NOT the same\"\n",
        "\n",
        "\n",
        "p1 = Coordinates(int(input()),int(input()))\n",
        "p2 = Coordinates(int(input()),int(input()))\n",
        "\n",
        "p4 = p1 - p2\n",
        "print(p4.detail())\n",
        "\n",
        "p5 = p1 * p2\n",
        "print(p5.detail())\n",
        "\n",
        "point_check = (p4 == p5)\n",
        "print(point_check)"
      ],
      "metadata": {
        "id": "lKVJ12Vagjjw",
        "colab": {
          "base_uri": "https://localhost:8080/"
        },
        "outputId": "68510fa6-d071-4f21-c328-f48f3d08525e"
      },
      "execution_count": 7,
      "outputs": [
        {
          "output_type": "stream",
          "name": "stdout",
          "text": [
            "0\n",
            "0\n",
            "0\n",
            "0\n",
            "(0, 0)\n",
            "(0, 0)\n",
            "The calculated coordinates are the same.\n"
          ]
        }
      ]
    }
  ]
}
