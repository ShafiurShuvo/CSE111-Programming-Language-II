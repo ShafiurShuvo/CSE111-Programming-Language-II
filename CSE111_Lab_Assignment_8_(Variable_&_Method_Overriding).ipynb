{
  "nbformat": 4,
  "nbformat_minor": 0,
  "metadata": {
    "colab": {
      "provenance": []
    },
    "kernelspec": {
      "name": "python3",
      "display_name": "Python 3"
    },
    "language_info": {
      "name": "python"
    }
  },
  "cells": [
    {
      "cell_type": "markdown",
      "source": [
        "# Task - 1"
      ],
      "metadata": {
        "id": "R_DJIGqOo_AA"
      }
    },
    {
      "cell_type": "code",
      "source": [
        "class RealNumber:\n",
        "\n",
        "    def __init__(self, r=0):\n",
        "        self.__realValue = r\n",
        "    def getRealValue(self):\n",
        "        return self.__realValue\n",
        "    def setRealValue(self, r):\n",
        "        self.__realValue = r\n",
        "    def __str__(self):\n",
        "        return 'RealPart: '+str(self.getRealValue())\n",
        "\n",
        "class ComplexNumber(RealNumber):\n",
        "    def __init__(self, r=1.0, i=1.0):\n",
        "        super().__init__(r)\n",
        "        super().setRealValue(r)\n",
        "        self.i = i\n",
        "\n",
        "    def __str__(self):\n",
        "        return f\"RealPart: {float(self.getRealValue())}\\nImaginaryPart: {float(self.i)}\"\n",
        "\n",
        "cn1 = ComplexNumber()\n",
        "print(cn1)\n",
        "print('---------')\n",
        "cn2 = ComplexNumber(5,7)\n",
        "print(cn2)"
      ],
      "metadata": {
        "colab": {
          "base_uri": "https://localhost:8080/"
        },
        "id": "pHdPV-TSpBDQ",
        "outputId": "31b48f50-eac0-47ee-8b9e-be7ee1c96e7e"
      },
      "execution_count": null,
      "outputs": [
        {
          "output_type": "stream",
          "name": "stdout",
          "text": [
            "RealPart: 1.0\n",
            "ImaginaryPart: 1.0\n",
            "---------\n",
            "RealPart: 5.0\n",
            "ImaginaryPart: 7.0\n"
          ]
        }
      ]
    },
    {
      "cell_type": "markdown",
      "source": [
        "# Task - 2"
      ],
      "metadata": {
        "id": "v5StvU_uKBjV"
      }
    },
    {
      "cell_type": "code",
      "execution_count": null,
      "metadata": {
        "colab": {
          "base_uri": "https://localhost:8080/"
        },
        "id": "oL0o8y5tJ3RF",
        "outputId": "1712ecf7-4342-4e1a-8861-cce382680177"
      },
      "outputs": [
        {
          "output_type": "stream",
          "name": "stdout",
          "text": [
            "8\n",
            "2+1i\n",
            "3+5i\n",
            "5+6i\n",
            "-1-4i\n"
          ]
        }
      ],
      "source": [
        "class RealNumber:\n",
        "    def __init__(self, number=0):\n",
        "        self.number = number\n",
        "    def __add__(self, anotherRealNumber):\n",
        "        return self.number + anotherRealNumber.number\n",
        "    def __sub__(self, anotherRealNumber):\n",
        "        return self.number - anotherRealNumber.number\n",
        "    def __str__(self):\n",
        "        return str(self.number)\n",
        "\n",
        "\n",
        "class ComplexNumber(RealNumber):\n",
        "    def __init__(self, realnumber, imaginarynumber = 0):\n",
        "        if type(realnumber) == int:\n",
        "            super().__init__(realnumber)\n",
        "        else:\n",
        "            super().__init__(realnumber.number)\n",
        "\n",
        "        self.imaginarynumber = imaginarynumber\n",
        "\n",
        "\n",
        "    def __add__(self, n):\n",
        "        return str(super().__add__(n))+ '+' +str(self.imaginarynumber + n.imaginarynumber)+'i'\n",
        "\n",
        "    def __sub__(self,  n):\n",
        "        return str(super().__sub__(n))+ '-' +str(abs(self.imaginarynumber - n.imaginarynumber))+'i'\n",
        "\n",
        "    def __str__(self):\n",
        "        return str(super().__str__())+ '+' +str(self.imaginarynumber)+'i'\n",
        "\n",
        "\n",
        "r1 = RealNumber(3)\n",
        "r2 = RealNumber(5)\n",
        "print(r1+r2)\n",
        "cn1 = ComplexNumber(2, 1)\n",
        "print(cn1)\n",
        "cn2 = ComplexNumber(r1, 5)\n",
        "print(cn2)\n",
        "cn3 = cn1 + cn2\n",
        "print(cn3)\n",
        "cn4 = cn1 - cn2\n",
        "print(cn4)"
      ]
    },
    {
      "cell_type": "markdown",
      "source": [
        "# Task = 3"
      ],
      "metadata": {
        "id": "ude4lmKSs_F4"
      }
    },
    {
      "cell_type": "code",
      "source": [
        "class Account:\n",
        "    def __init__(self, balance):\n",
        "        self._balance = balance\n",
        "\n",
        "    def getBalance(self):\n",
        "        return self._balance\n",
        "\n",
        "class CheckingAccount(Account):\n",
        "    numberOfAccount = 0\n",
        "    def __init__(self, balance = 0.0):\n",
        "        super().__init__(balance)\n",
        "        CheckingAccount.numberOfAccount += 1\n",
        "    def __str__(self):\n",
        "        return f\"Account Balance: {self._balance}\"\n",
        "\n",
        "print('Number of Checking Accounts: ', CheckingAccount.numberOfAccount)\n",
        "print(CheckingAccount())\n",
        "print(CheckingAccount(100.00))\n",
        "print(CheckingAccount(200.00))\n",
        "print('Number of Checking Accounts: ', CheckingAccount.numberOfAccount)"
      ],
      "metadata": {
        "colab": {
          "base_uri": "https://localhost:8080/"
        },
        "id": "GueiXcBetB9Z",
        "outputId": "5ed2162b-924d-467b-932c-1182ee3a63db"
      },
      "execution_count": null,
      "outputs": [
        {
          "output_type": "stream",
          "name": "stdout",
          "text": [
            "Number of Checking Accounts:  0\n",
            "Account Balance: 0.0\n",
            "Account Balance: 100.0\n",
            "Account Balance: 200.0\n",
            "Number of Checking Accounts:  3\n"
          ]
        }
      ]
    },
    {
      "cell_type": "markdown",
      "source": [
        "# Task - 4"
      ],
      "metadata": {
        "id": "IQQnrgrBRZfZ"
      }
    },
    {
      "cell_type": "code",
      "source": [
        "class Fruit:\n",
        "    def __init__(self, formalin=False, name=''):\n",
        "        self.__formalin = formalin\n",
        "        self.name = name\n",
        "\n",
        "    def getName(self):\n",
        "        return self.name\n",
        "\n",
        "    def hasFormalin(self):\n",
        "        return self.__formalin\n",
        "\n",
        "class testFruit:\n",
        "    def test(self, f):\n",
        "        print('----Printing Detail----')\n",
        "        if f.hasFormalin():\n",
        "            print('Do not eat the',f.getName(),'.')\n",
        "            print(f)\n",
        "        else:\n",
        "            print('Eat the',f.getName(),'.')\n",
        "            print(f)\n",
        "\n",
        "class Mango(Fruit, testFruit):\n",
        "    def __init__(self, formalin=True, name=\"Mango\"):\n",
        "        super().__init__(formalin, name)\n",
        "\n",
        "    def __str__(self):\n",
        "        return self.name + \"s are bad for you\"\n",
        "\n",
        "class Jackfruit(Fruit, testFruit):\n",
        "    def __init__(self, formalin=False, name=\"Jackfruit\"):\n",
        "        super().__init__(formalin, name)\n",
        "\n",
        "    def __str__(self):\n",
        "        return self.name + \"s are good for you\"\n",
        "\n",
        "\n",
        "m = Mango()\n",
        "j = Jackfruit()\n",
        "t1 = testFruit()\n",
        "t1.test(m)\n",
        "t1.test(j)"
      ],
      "metadata": {
        "colab": {
          "base_uri": "https://localhost:8080/"
        },
        "id": "q1IwRzYQRbPA",
        "outputId": "af6d6e64-0bdb-40ea-a184-1df6fdfa8ae3"
      },
      "execution_count": null,
      "outputs": [
        {
          "output_type": "stream",
          "name": "stdout",
          "text": [
            "----Printing Detail----\n",
            "Do not eat the Mango .\n",
            "Mangos are bad for you\n",
            "----Printing Detail----\n",
            "Eat the Jackfruit .\n",
            "Jackfruits are good for you\n"
          ]
        }
      ]
    },
    {
      "cell_type": "markdown",
      "source": [
        "# Task - 5"
      ],
      "metadata": {
        "id": "zAkaDKuCxJdO"
      }
    },
    {
      "cell_type": "code",
      "source": [
        "class Exam:\n",
        "    def __init__(self,marks):\n",
        "        self.marks = marks\n",
        "        self.time = 60\n",
        "\n",
        "    def examSyllabus(self):\n",
        "        return \"Maths , English\"\n",
        "    def examParts(self):\n",
        "        return \"Part 1 - Maths\\nPart 2 - English\\n\"\n",
        "\n",
        "class ScienceExam(Exam):\n",
        "    def __init__(self, marks, time, *parts):\n",
        "        super().__init__(marks)\n",
        "        self.time = time\n",
        "        self.parts =  super().examSyllabus().split(' , ') + list(parts)\n",
        "        #print(self.parts)\n",
        "\n",
        "    def __str__(self):\n",
        "       return f'Marks: {self.marks} Time: {self.time} minutes Number of Parts: {len(self.parts)}'\n",
        "    def examSyllabus(self):\n",
        "        return ' , '.join(self.parts)\n",
        "    def examParts(self):\n",
        "        temp = ''\n",
        "        for i in range(0, len(self.parts)):\n",
        "            temp += f'Part {i+1} - {self.parts[i]}\\n'\n",
        "        return temp[:-1]\n",
        "\n",
        "engineering = ScienceExam(100,90,\"Physics\",\"HigherMaths\")\n",
        "print(engineering) #calls __str__() emthod\n",
        "print('----------------------------------')\n",
        "print(engineering.examSyllabus())\n",
        "print(engineering.examParts())\n",
        "print('==================================')\n",
        "architecture = ScienceExam(100,120,\"Physics\",\"HigherMaths\",\"Drawing\")\n",
        "print(architecture)\n",
        "print('----------------------------------')\n",
        "print(architecture.examSyllabus())\n",
        "print(architecture.examParts())"
      ],
      "metadata": {
        "colab": {
          "base_uri": "https://localhost:8080/"
        },
        "id": "BzowUlKR5yg4",
        "outputId": "3c57cf4e-9618-4eee-be31-3bb8d95e4d32"
      },
      "execution_count": 1,
      "outputs": [
        {
          "output_type": "stream",
          "name": "stdout",
          "text": [
            "Marks: 100 Time: 90 minutes Number of Parts: 4\n",
            "----------------------------------\n",
            "Maths , English , Physics , HigherMaths\n",
            "Part 1 - Maths\n",
            "Part 2 - English\n",
            "Part 3 - Physics\n",
            "Part 4 - HigherMaths\n",
            "==================================\n",
            "Marks: 100 Time: 120 minutes Number of Parts: 5\n",
            "----------------------------------\n",
            "Maths , English , Physics , HigherMaths , Drawing\n",
            "Part 1 - Maths\n",
            "Part 2 - English\n",
            "Part 3 - Physics\n",
            "Part 4 - HigherMaths\n",
            "Part 5 - Drawing\n"
          ]
        }
      ]
    },
    {
      "cell_type": "markdown",
      "source": [
        "# Task - 6"
      ],
      "metadata": {
        "id": "XEQh-uVv554J"
      }
    },
    {
      "cell_type": "code",
      "source": [
        "class Shape3D:\n",
        "\n",
        "  pi = 3.14159\n",
        "  def __init__(self, name = 'Default', radius = 0):\n",
        "    self._area = 0\n",
        "    self._name = name\n",
        "    self._height = 'No need'\n",
        "    self._radius = radius\n",
        "\n",
        "  def calc_surface_area(self):\n",
        "    return 2 * Shape3D.pi * self._radius\n",
        "\n",
        "  def __str__(self):\n",
        "      return \"Radius: \"+str(self._radius)\n",
        "\n",
        "class Sphere(Shape3D):\n",
        "    def __init__(self, name, radius):\n",
        "        super().__init__(name, radius)\n",
        "        print(\"Shape name: Sphere, Area Formula: 4 * pi * r * r\")\n",
        "\n",
        "\n",
        "    def calc_surface_area(self):\n",
        "        self._area = super().calc_surface_area() * self._radius * 2\n",
        "    def __str__(self):\n",
        "        return f\"Radius: {self._radius}, Height: {self._height}\\nArea: {self._area}\"\n",
        "\n",
        "class Cylinder(Shape3D):\n",
        "    def __init__(self, name, radius, height):\n",
        "        super().__init__(name, radius)\n",
        "        self._height = height\n",
        "        print(\"Shape name: Cylinder, Area Formula: 2 * pi * r * (r + h)\")\n",
        "\n",
        "    def calc_surface_area(self):\n",
        "        self._area = super().calc_surface_area() * (self._radius + self._height)\n",
        "        #* (r + h) k\n",
        "    def __str__(self):\n",
        "        return f\"Radius: {self._radius}, Height: {self._height}\\nArea: {self._area}\"\n",
        "\n",
        "\n",
        "\n",
        "sph = Sphere('Sphere', 5)\n",
        "print('----------------------------------')\n",
        "sph.calc_surface_area()\n",
        "print(sph)\n",
        "print('==================================')\n",
        "cyl = Cylinder('Cylinder', 5, 10)\n",
        "print('----------------------------------')\n",
        "cyl.calc_surface_area()\n",
        "print(cyl)\n"
      ],
      "metadata": {
        "colab": {
          "base_uri": "https://localhost:8080/"
        },
        "id": "Bg4EAHAF58M4",
        "outputId": "09a36b5a-0009-43af-8d0f-25ed9d445c02"
      },
      "execution_count": null,
      "outputs": [
        {
          "output_type": "stream",
          "name": "stdout",
          "text": [
            "Shape name: Sphere, Area Formula: 4 * pi * r * r\n",
            "----------------------------------\n",
            "Radius: 5, Height: No need\n",
            "Area: 314.159\n",
            "==================================\n",
            "Shape name: Cylinder, Area Formula: 2 * pi * r * (r + h)\n",
            "----------------------------------\n",
            "Radius: 5, Height: 10\n",
            "Area: 471.2385\n"
          ]
        }
      ]
    },
    {
      "cell_type": "markdown",
      "source": [
        "# Task - 7"
      ],
      "metadata": {
        "id": "8aMtEUEx6ULm"
      }
    },
    {
      "cell_type": "code",
      "source": [
        "class PokemonBasic:\n",
        "\n",
        "  def __init__(self, name = 'Default', hp = 0, weakness = 'None', type = 'Unknown'):\n",
        "    self.name = name\n",
        "    self.hit_point = hp\n",
        "    self.weakness = weakness\n",
        "    self.type = type\n",
        "\n",
        "  def get_type(self):\n",
        "    return 'Main type: ' + self.type\n",
        "\n",
        "  def get_move(self):\n",
        "    return 'Basic move: ' + 'Quick Attack'\n",
        "\n",
        "  def __str__(self):\n",
        "    return \"Name: \" + self.name + \", HP: \" + str(self.hit_point) + \", Weakness: \" + self.weakness\n",
        "\n",
        "class PokemonExtra(PokemonBasic):\n",
        "    def __init__(self,name, hp, weakness, m_type, s_type=None, other=None):\n",
        "        self.s_type = s_type\n",
        "        self.other = other\n",
        "        super().__init__(name, hp, weakness, m_type)\n",
        "\n",
        "    def get_type(self):\n",
        "        if self.s_type != None:\n",
        "            return f\"{super().get_type()}, Secondary type: {self.s_type}\"\n",
        "        else:\n",
        "            return f\"{super().get_type()}\"\n",
        "\n",
        "    def get_move(self):\n",
        "        if self.other != None:\n",
        "            return super().get_move() + \"\\nOther move: \" + \", \".join(self.other)\n",
        "        else:\n",
        "            return super().get_move()\n",
        "\n",
        "print('\\n------------Basic Info:--------------')\n",
        "pk = PokemonBasic()\n",
        "print(pk)\n",
        "print(pk.get_type())\n",
        "print(pk.get_move())\n",
        "\n",
        "print('\\n------------Pokemon 1 Info:-------------')\n",
        "charmander = PokemonExtra('Charmander', 39, 'Water', 'Fire')\n",
        "print(charmander)\n",
        "print(charmander.get_type())\n",
        "print(charmander.get_move())\n",
        "\n",
        "print('\\n------------Pokemon 2 Info:-------------')\n",
        "charizard = PokemonExtra('Charizard', 78, 'Water', 'Fire', 'Flying', ('Fire Spin', 'Fire Blaze'))\n",
        "print(charizard)\n",
        "print(charizard.get_type())\n",
        "print(charizard.get_move())"
      ],
      "metadata": {
        "colab": {
          "base_uri": "https://localhost:8080/"
        },
        "id": "cec4AEAP6Vkw",
        "outputId": "c3e25b44-e444-444b-939a-22106a503c53"
      },
      "execution_count": 9,
      "outputs": [
        {
          "output_type": "stream",
          "name": "stdout",
          "text": [
            "\n",
            "------------Basic Info:--------------\n",
            "Name: Default, HP: 0, Weakness: None\n",
            "Main type: Unknown\n",
            "Basic move: Quick Attack\n",
            "\n",
            "------------Pokemon 1 Info:-------------\n",
            "Name: Charmander, HP: 39, Weakness: Water\n",
            "Main type: Fire\n",
            "Basic move: Quick Attack\n",
            "\n",
            "------------Pokemon 2 Info:-------------\n",
            "Name: Charizard, HP: 78, Weakness: Water\n",
            "Main type: Fire, Secondary type: Flying\n",
            "Basic move: Quick Attack\n",
            "Other move: Fire Spin, Fire Blaze\n"
          ]
        }
      ]
    },
    {
      "cell_type": "markdown",
      "source": [
        "# Task - 8"
      ],
      "metadata": {
        "id": "2bp3PvDR8zFC"
      }
    },
    {
      "cell_type": "code",
      "source": [
        "class Team:\n",
        "\n",
        "    def __init__(self, name):\n",
        "        self.name = \"default\"\n",
        "        self.total_player = 5\n",
        "\n",
        "    def info(self):\n",
        "        print(\"We love sports\")\n",
        "\n",
        "# Write your code here.\n",
        "class FootBallTeam(Team):\n",
        "  def __init__(self, name):\n",
        "    super().__init__(name)\n",
        "    self.name = name\n",
        "    self.total_player = 11\n",
        "  def info(self):\n",
        "      print(f\"Our name is {self.name}\\nWe play Football\")\n",
        "      super().info()\n",
        "\n",
        "class CricketTeam(Team):\n",
        "  def __init__(self, name):\n",
        "    super().__init__(name)\n",
        "    self.name = name\n",
        "    self.total_player = 11\n",
        "  def info(self):\n",
        "      print(f\"Our name is {self.name}\\nWe play Cricket\")\n",
        "      super().info()\n",
        "\n",
        "\n",
        "class Team_test:\n",
        "  def check(self, tm):\n",
        "      print(\"=========================\")\n",
        "      print(\"Total Player: \", tm.total_player)\n",
        "      tm.info()\n",
        "\n",
        "f = FootBallTeam(\"Brazil\")\n",
        "c = CricketTeam(\"Bangladesh\")\n",
        "test = Team_test()\n",
        "test.check(f)\n",
        "test.check(c)"
      ],
      "metadata": {
        "colab": {
          "base_uri": "https://localhost:8080/"
        },
        "id": "XLy8D9pE83WU",
        "outputId": "6f51fd8d-befe-4fa7-9fe3-4aedd1d3bc62"
      },
      "execution_count": null,
      "outputs": [
        {
          "output_type": "stream",
          "name": "stdout",
          "text": [
            "=========================\n",
            "Total Player:  11\n",
            "Our name is Brazil\n",
            "We play Football\n",
            "We love sports\n",
            "=========================\n",
            "Total Player:  11\n",
            "Our name is Bangladesh\n",
            "We play Cricket\n",
            "We love sports\n"
          ]
        }
      ]
    },
    {
      "cell_type": "markdown",
      "source": [
        "# Task - 9"
      ],
      "metadata": {
        "id": "W33qMtrw84yl"
      }
    },
    {
      "cell_type": "code",
      "source": [
        "class Pokemon:\n",
        "\n",
        "    def __init__(self, p):\n",
        "        self.pokemon = p\n",
        "        self.pokemon_type = \"Needs to be set\"\n",
        "        self.pokemon_weakness = \"Needs to be set\"\n",
        "    def kind(self):\n",
        "        return self.pokemon_type\n",
        "    def weakness(self):\n",
        "        return self.pokemon_weakness\n",
        "    def what_am_i(self):\n",
        "        print(\"I am a Pokemon.\")\n",
        "\n",
        "class Pikachu(Pokemon):\n",
        "    def __init__(self):\n",
        "        p = \"Pikachu\"\n",
        "        super().__init__(p)\n",
        "        self.pokemon_type = \"Electric\"\n",
        "        self.pokemon_weakness = \"Ground\"\n",
        "\n",
        "    def kind(self):\n",
        "        return self.pokemon_type\n",
        "    def weakness(self):\n",
        "        return self.pokemon_weakness\n",
        "    def what_am_i(self):\n",
        "        super().what_am_i()\n",
        "        print(\"I am Pikachu.\")\n",
        "\n",
        "class Charmander(Pokemon):\n",
        "    def __init__(self):\n",
        "        p = \"Charmander\"\n",
        "        super().__init__(p)\n",
        "        self.pokemon_type = \"Fire\"\n",
        "        self.pokemon_weakness = \"Water, Ground and Rock\"\n",
        "\n",
        "    def kind(self):\n",
        "        return self.pokemon_type\n",
        "    def weakness(self):\n",
        "        return self.pokemon_weakness\n",
        "    def what_am_i(self):\n",
        "        super().what_am_i()\n",
        "        print(\"I am Charmander.\")\n",
        "\n",
        "\n",
        "\n",
        "pk1 = Pikachu()\n",
        "print(\"Pokemon:\", pk1.pokemon)\n",
        "print(\"Type:\", pk1.kind())\n",
        "print(\"Weakness:\", pk1.weakness())\n",
        "pk1.what_am_i()\n",
        "print(\"========================\")\n",
        "c1 = Charmander()\n",
        "print(\"Pokemon:\", c1.pokemon)\n",
        "print(\"Type:\", c1.kind())\n",
        "print(\"Weakness:\", c1.weakness())\n",
        "c1.what_am_i()"
      ],
      "metadata": {
        "colab": {
          "base_uri": "https://localhost:8080/"
        },
        "id": "Sa6iUjcx88-2",
        "outputId": "b6b8f2c8-d06f-4773-e472-023a950a83e9"
      },
      "execution_count": null,
      "outputs": [
        {
          "output_type": "stream",
          "name": "stdout",
          "text": [
            "Pokemon: Pikachu\n",
            "Type: Electric\n",
            "Weakness: Ground\n",
            "I am a Pokemon.\n",
            "I am Pikachu.\n",
            "========================\n",
            "Pokemon: Charmander\n",
            "Type: Fire\n",
            "Weakness: Water, Ground and Rock\n",
            "I am a Pokemon.\n",
            "I am Charmander.\n"
          ]
        }
      ]
    },
    {
      "cell_type": "markdown",
      "source": [
        "# Task - 10"
      ],
      "metadata": {
        "id": "YsdzddoU9E3h"
      }
    },
    {
      "cell_type": "code",
      "source": [
        "class Department:\n",
        "    def __init__(self, s):\n",
        "        self.semester = s\n",
        "        self.name = \"Default\"\n",
        "        self.id = -1\n",
        "\n",
        "    def student_info(self):\n",
        "        print(\"Name:\", self.name)\n",
        "        print(\"ID:\", self.id)\n",
        "\n",
        "    def courses(self, c1, c2, c3):\n",
        "        print(\"No courses Approved yet!\")\n",
        "\n",
        "class CSE(Department):\n",
        "    def __init__(self, name, id, semester):\n",
        "        super().__init__(semester)\n",
        "        self.name = name\n",
        "        self.id = id\n",
        "    def courses(self, c1, c2, c3):\n",
        "        print(f\"Courses Approved to this CSE student in {self.semester} semester:\")\n",
        "        print(c1)\n",
        "        print(c2)\n",
        "        print(c3)\n",
        "\n",
        "class EEE(Department):\n",
        "    def __init__(self, name, id, semester):\n",
        "        super().__init__(semester)\n",
        "        self.name = name\n",
        "        self.id = id\n",
        "    def courses(self, c1, c2, c3):\n",
        "        print(f\"Courses Approved to this EEE student in {self.semester} semester:\")\n",
        "        print(c1)\n",
        "        print(c2)\n",
        "        print(c3)\n",
        "\n",
        "s1 = CSE(\"Rahim\", 16101328, \"Spring2016\")\n",
        "s1.student_info()\n",
        "s1.courses(\"CSE110\", \"MAT110\", \"ENG101\")\n",
        "print(\"==================\")\n",
        "s2 = EEE(\"Tanzim\", 18101326, \"Spring2018\")\n",
        "s2.student_info()\n",
        "s2.courses(\"Mat110\", \"PHY111\", \"ENG101\")\n",
        "print(\"==================\")\n",
        "s3 = CSE(\"Rudana\", 18101326, \"Fall2017\")\n",
        "s3.student_info()\n",
        "s3.courses(\"CSE111\", \"PHY101\", \"MAT120\")\n",
        "print(\"==================\")\n",
        "s4 = EEE(\"Zainab\", 19201623, \"Summer2019\")\n",
        "s4.student_info()\n",
        "s4.courses(\"EEE201\", \"PHY112\", \"MAT120\")"
      ],
      "metadata": {
        "id": "uMrKKfKj9HIB",
        "outputId": "73360ea1-dbee-4833-aff3-7d9c74afd4e0",
        "colab": {
          "base_uri": "https://localhost:8080/"
        }
      },
      "execution_count": null,
      "outputs": [
        {
          "output_type": "stream",
          "name": "stdout",
          "text": [
            "Name: Rahim\n",
            "ID: 16101328\n",
            "Courses Approved to this CSE student in Spring2016 semester:\n",
            "CSE110\n",
            "MAT110\n",
            "ENG101\n",
            "==================\n",
            "Name: Tanzim\n",
            "ID: 18101326\n",
            "Courses Approved to this EEE student in Spring2018 semester:\n",
            "Mat110\n",
            "PHY111\n",
            "ENG101\n",
            "==================\n",
            "Name: Rudana\n",
            "ID: 18101326\n",
            "Courses Approved to this CSE student in Fall2017 semester:\n",
            "CSE111\n",
            "PHY101\n",
            "MAT120\n",
            "==================\n",
            "Name: Zainab\n",
            "ID: 19201623\n",
            "Courses Approved to this EEE student in Summer2019 semester:\n",
            "EEE201\n",
            "PHY112\n",
            "MAT120\n"
          ]
        }
      ]
    }
  ]
}
