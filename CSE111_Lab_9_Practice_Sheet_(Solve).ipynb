{
  "nbformat": 4,
  "nbformat_minor": 0,
  "metadata": {
    "colab": {
      "provenance": []
    },
    "kernelspec": {
      "name": "python3",
      "display_name": "Python 3"
    },
    "language_info": {
      "name": "python"
    }
  },
  "cells": [
    {
      "cell_type": "markdown",
      "source": [
        "# Task - 1"
      ],
      "metadata": {
        "id": "3OJiGqOiYDXt"
      }
    },
    {
      "cell_type": "code",
      "execution_count": null,
      "metadata": {
        "id": "Ds2IogK6X4Qw",
        "colab": {
          "base_uri": "https://localhost:8080/"
        },
        "outputId": "25d9e7f0-6533-47a7-e7c0-0c547a13a8a3"
      },
      "outputs": [
        {
          "output_type": "stream",
          "name": "stdout",
          "text": [
            "**********************\n",
            "Player Name: Buffon\n",
            "Player Season Earning without bonus: 250000\n",
            "Bonus: 0\n",
            "Player Season Earning After Bonus: 250000\n",
            "\n",
            "**********************\n",
            "Player Name: Dybala\n",
            "Player Season Earning without bonus: 250000\n",
            "Bonus: 22500\n",
            "Player Season Earning After Bonus: 272500\n",
            "\n",
            "**********************\n",
            "Player Name: Cuadrado\n",
            "Player Season Earning without bonus: 250000\n",
            "Bonus: 12500\n",
            "Player Season Earning After Bonus: 262500\n"
          ]
        }
      ],
      "source": [
        "class PlayerEarning:\n",
        "    def __init__(self, name):\n",
        "        self.name = name\n",
        "        self.total_earning = 0\n",
        "        self.bonus = 0\n",
        "        self.earning = 0\n",
        "\n",
        "    def calculateTotal(self, earning, goal=0):\n",
        "        self.earning = earning\n",
        "        if goal>30:\n",
        "            self.bonus = ((5/100)*earning) + 10000\n",
        "            self.total_earning = self.earning + self.bonus\n",
        "        elif goal<=30 and goal != 0:\n",
        "            self.bonus = ((5/100)*earning)\n",
        "            self.total_earning = self.earning + self.bonus\n",
        "        else:\n",
        "            self.total_earning = self.earning\n",
        "\n",
        "    def printDetails(self):\n",
        "        print(f\"Player Name: {self.name}\")\n",
        "        print(f\"Player Season Earning without bonus: {self.earning}\")\n",
        "        print(f\"Bonus: {str(int(self.bonus))}\")\n",
        "        print(f\"Player Season Earning After Bonus: {str(int(self.total_earning))}\")\n",
        "\n",
        "\n",
        "print(\"**********************\")\n",
        "player1 = PlayerEarning('Buffon')\n",
        "player1.calculateTotal(250000)\n",
        "player1.printDetails()\n",
        "print(\"\\n**********************\")\n",
        "player2 = PlayerEarning('Dybala')\n",
        "player2.calculateTotal(250000,31)\n",
        "player2.printDetails()\n",
        "print(\"\\n**********************\")\n",
        "player3 = PlayerEarning('Cuadrado')\n",
        "player3.calculateTotal(250000,20)\n",
        "player3.printDetails()"
      ]
    },
    {
      "cell_type": "markdown",
      "source": [
        "# Task - 2"
      ],
      "metadata": {
        "id": "2T3ITFEDYDc1"
      }
    },
    {
      "cell_type": "code",
      "source": [
        "class myList:\n",
        "    def __init__(self, *num):\n",
        "        self.sum1 = 0\n",
        "        self.avg = 0\n",
        "        self.list1 = []\n",
        "        for i in num:\n",
        "            self.list1.append(i)\n",
        "\n",
        "    def merge(self, *num1):\n",
        "        for i in num1:\n",
        "            self.list1.append(i)\n",
        "\n",
        "    def sum(self):\n",
        "        self.sum1 = 0\n",
        "        for i in self.list1:\n",
        "            self.sum1+=i\n",
        "        print(f\"Sum: {self.sum1}\")\n",
        "\n",
        "    def average(self):\n",
        "        if len(self.list1)>0:\n",
        "            self.avg = self.sum1/len(self.list1)\n",
        "        else:\n",
        "            self.avg = 0\n",
        "        print(\"Average:\",self.avg)\n",
        "\n",
        "\n",
        "l1= myList(2,3,4,5,6) # you might need a list inside your class to store the values\n",
        "l1.sum()\n",
        "l1.merge(4,5,9)\n",
        "l1.sum()\n",
        "l1.average()\n",
        "print(\"-----------------------------\")\n",
        "l2= myList()\n",
        "l2.average()\n",
        "l2.merge(1,2,4,8)\n",
        "l2.sum()"
      ],
      "metadata": {
        "colab": {
          "base_uri": "https://localhost:8080/"
        },
        "id": "7d_Ck_rxNK6r",
        "outputId": "bf12c45f-3f8b-45a7-d359-2a4e3e3e85e1"
      },
      "execution_count": null,
      "outputs": [
        {
          "output_type": "stream",
          "name": "stdout",
          "text": [
            "Sum: 20\n",
            "Sum: 38\n",
            "Average: 4.75\n",
            "-----------------------------\n",
            "Average: 0\n",
            "Sum: 15\n"
          ]
        }
      ]
    },
    {
      "cell_type": "markdown",
      "source": [
        "# Task - 3"
      ],
      "metadata": {
        "id": "NftrvsufYDe0"
      }
    },
    {
      "cell_type": "code",
      "source": [
        "class Bird:\n",
        "    def __init__(self, name, canFly=False):\n",
        "        self.name = name\n",
        "        self.canFly = canFly\n",
        "        self.type = \"Flightless Birds\"\n",
        "\n",
        "    def fly(self):\n",
        "        if self.canFly:\n",
        "            print(f\"{self.name} can fly\")\n",
        "        else:\n",
        "            print(f\"{self.name} can't fly\")\n",
        "\n",
        "    def setType(self, type):\n",
        "        self.type = type\n",
        "\n",
        "    def printDetail(self):\n",
        "        print(f\"Name: {self.name}\")\n",
        "        print(f\"Type: {self.type}\")\n",
        "\n",
        "ostrich = Bird('Ostrich')\n",
        "duck = Bird(\"Duck\", True)\n",
        "owl = Bird('Owl', True)\n",
        "print(\"###########################\")\n",
        "ostrich.fly()\n",
        "duck.fly()\n",
        "owl.fly()\n",
        "duck.setType('Water Birds')\n",
        "owl.setType('Birds of Prey')\n",
        "print(\"=========================\")\n",
        "ostrich.printDetail()\n",
        "print(\"=========================\")\n",
        "duck.printDetail()\n",
        "print(\"=========================\")\n",
        "owl.printDetail()"
      ],
      "metadata": {
        "colab": {
          "base_uri": "https://localhost:8080/"
        },
        "id": "yGKWXHm2OtNf",
        "outputId": "441d7a36-5345-4532-ee42-48107ad77184"
      },
      "execution_count": null,
      "outputs": [
        {
          "output_type": "stream",
          "name": "stdout",
          "text": [
            "###########################\n",
            "Ostrich can't fly\n",
            "Duck can fly\n",
            "Owl can fly\n",
            "=========================\n",
            "Name: Ostrich\n",
            "Type: Flightless Birds\n",
            "=========================\n",
            "Name: Duck\n",
            "Type: Water Birds\n",
            "=========================\n",
            "Name: Owl\n",
            "Type: Birds of Prey\n"
          ]
        }
      ]
    },
    {
      "cell_type": "markdown",
      "source": [
        "# Task - 4"
      ],
      "metadata": {
        "id": "dgx_b4wDYDhR"
      }
    },
    {
      "cell_type": "code",
      "source": [
        "class Account:\n",
        "    count = 0\n",
        "    def __init__(self, name, age, occupation, balance):\n",
        "        self.name = name\n",
        "        self.age = age\n",
        "        self.occupation = occupation\n",
        "        self.balance = balance\n",
        "        Account.count += 1\n",
        "\n",
        "    def addMoney(self, amount):\n",
        "        self.balance+=amount\n",
        "\n",
        "    def withdrawMoney(self, amount):\n",
        "        if amount<=self.balance:\n",
        "            self.balance-=amount\n",
        "\n",
        "    def printDetails(self):\n",
        "        print(f\"Name: {self.name}\")\n",
        "        print(f\"Age: {self.age}\")\n",
        "        print(f\"Occupation: {self.occupation}\")\n",
        "        print(f\"Total Amount: {self.balance}\")\n",
        "\n",
        "print('No of account holders:', Account.count)\n",
        "print(\"=========================\")\n",
        "p1 = Account(\"Abdul\", 45, \"Service Holder\", 500000)\n",
        "p1.addMoney(300000)\n",
        "p1.printDetails()\n",
        "print(\"=========================\")\n",
        "p2 = Account(\"Rahim\", 55, \"Businessman\", 700000)\n",
        "p2.withdrawMoney(700000)\n",
        "p2.printDetails()\n",
        "print(\"=========================\")\n",
        "p3 = Account(\"Ashraf\", 62, \"Govt. Officer\", 200000)\n",
        "p3.withdrawMoney(250000)\n",
        "p3.printDetails()\n",
        "print(\"=========================\")\n",
        "print('No of account holders:', Account.count)"
      ],
      "metadata": {
        "colab": {
          "base_uri": "https://localhost:8080/"
        },
        "id": "1p-IacTNQMoP",
        "outputId": "05a23e4f-7f44-4fcb-e74a-f3a6c80288fd"
      },
      "execution_count": null,
      "outputs": [
        {
          "output_type": "stream",
          "name": "stdout",
          "text": [
            "No of account holders: 0\n",
            "=========================\n",
            "Name: Abdul\n",
            "Age: 45\n",
            "Occupation: Service Holder\n",
            "Total Amount: 800000\n",
            "=========================\n",
            "Name: Rahim\n",
            "Age: 55\n",
            "Occupation: Businessman\n",
            "Total Amount: 0\n",
            "=========================\n",
            "Name: Ashraf\n",
            "Age: 62\n",
            "Occupation: Govt. Officer\n",
            "Total Amount: 200000\n",
            "=========================\n",
            "No of account holders: 3\n"
          ]
        }
      ]
    },
    {
      "cell_type": "markdown",
      "source": [
        "# Task - 5"
      ],
      "metadata": {
        "id": "wvVd3H03YDje"
      }
    },
    {
      "cell_type": "code",
      "source": [
        "class Smartphone:\n",
        "    def __init__(self, name=None):\n",
        "        self.name = name\n",
        "        self.features = {}\n",
        "\n",
        "    def addFeature(self, feature, value):\n",
        "        if self.name == None:\n",
        "            print(\"Feature can not be added without phone name\")\n",
        "        else:\n",
        "             self.features[feature] = value\n",
        "\n",
        "    def setName(self, name):\n",
        "        self.name = name\n",
        "\n",
        "    def printDetail(self):\n",
        "        print(f\"Phone Name: {self.name}\")\n",
        "        for feature, value in self.features.items():\n",
        "            print(f\"{feature}: {value}\")\n",
        "\n",
        "\n",
        "s1 = Smartphone()\n",
        "print(\"=================================\")\n",
        "s1.addFeature(\"Display\", \"6.1 inch\")\n",
        "print(\"=================================\")\n",
        "s1.setName(\"Samsung Note 20\")\n",
        "s1.addFeature(\"Display\", \"6.1 inch\")\n",
        "s1.printDetail()\n",
        "print(\"=================================\")\n",
        "s2 = Smartphone(\"Iphone 12 Pro\")\n",
        "s2.addFeature(\"Display\", \"6.2 inch\")\n",
        "s2.addFeature(\"Ram\", \"6 GB\")\n",
        "print(\"=================================\")\n",
        "s2.printDetail()\n",
        "s2.addFeature(\"Display\", \"Amoled panel\")\n",
        "s2.addFeature(\"Ram\", \"DDR5\")\n",
        "print(\"=================================\")\n",
        "s2.printDetail()\n",
        "print(\"=================================\")"
      ],
      "metadata": {
        "colab": {
          "base_uri": "https://localhost:8080/"
        },
        "id": "Y2fcHTF1Q1ep",
        "outputId": "1b22726f-cc51-449c-bba4-88ab9f033a26"
      },
      "execution_count": null,
      "outputs": [
        {
          "output_type": "stream",
          "name": "stdout",
          "text": [
            "=================================\n",
            "Feature can not be added without phone name\n",
            "=================================\n",
            "Phone Name: Samsung Note 20\n",
            "Display: 6.1 inch\n",
            "=================================\n",
            "=================================\n",
            "Phone Name: Iphone 12 Pro\n",
            "Display: 6.2 inch\n",
            "Ram: 6 GB\n",
            "=================================\n",
            "Phone Name: Iphone 12 Pro\n",
            "Display: Amoled panel\n",
            "Ram: DDR5\n",
            "=================================\n"
          ]
        }
      ]
    },
    {
      "cell_type": "markdown",
      "source": [
        "# Task - 6"
      ],
      "metadata": {
        "id": "RAxJ8BE_Yf4c"
      }
    },
    {
      "cell_type": "code",
      "source": [
        "class Student:\n",
        "    total_student = 0\n",
        "    cse_student = 0\n",
        "    bba_student = 0\n",
        "    def __init__(self, name, dept):\n",
        "        self.name = name\n",
        "        self.dept = dept\n",
        "        Student.total_student += 1\n",
        "        if self.dept == \"CSE\":\n",
        "            Student.cse_student += 1\n",
        "        else:\n",
        "            Student.bba_student += 1\n",
        "\n",
        "        print(f\"Creating Student Number: {Student.total_student}\")\n",
        "\n",
        "    def individualInfo(self):\n",
        "        print(f\"{self.name} is from {self.dept} department.\")\n",
        "        print(f\"Serial of {self.name} among all students' is: {Student.total_student}\")\n",
        "        if self.dept == \"CSE\":\n",
        "            print(f\"Serial of {self.name} in CSE departmnent is: {Student.cse_student}\")\n",
        "        else:\n",
        "            print(f\"Serial of {self.name} in BBA departmnent is: {Student.bba_student}\")\n",
        "\n",
        "    def totalInfo(self):\n",
        "        print(f\"Total number of Student: {Student.total_student}\")\n",
        "        print(f\"Total number of CSE Student: {Student.cse_student}\")\n",
        "        print(f\"Total number of BBA Student: {Student.bba_student}\")\n",
        "\n",
        "s1 = Student(\"Naruto\", \"CSE\")\n",
        "print('----------------------')\n",
        "s1.individualInfo()\n",
        "print('#############################')\n",
        "s1.totalInfo()\n",
        "print('============================')\n",
        "s2 = Student(\"Sakura\", \"BBA\")\n",
        "print('----------------------')\n",
        "s2.individualInfo()\n",
        "print('#############################')\n",
        "s2.totalInfo()\n",
        "print('============================')\n",
        "s3 = Student(\"Shikamaru\", \"CSE\")\n",
        "print('----------------------')\n",
        "s3.individualInfo()\n",
        "print('#############################')\n",
        "s3.totalInfo()\n",
        "print('============================')\n",
        "s4 = Student(\"Deidara\", \"BBA\")\n",
        "print('----------------------')\n",
        "s4.individualInfo()\n",
        "print('#############################')\n",
        "s4.totalInfo()"
      ],
      "metadata": {
        "colab": {
          "base_uri": "https://localhost:8080/"
        },
        "id": "Fb0AJX5ySPc6",
        "outputId": "788eda46-3e0c-452b-9f07-1cf69e58c12b"
      },
      "execution_count": null,
      "outputs": [
        {
          "output_type": "stream",
          "name": "stdout",
          "text": [
            "Creating Student Number: 1\n",
            "----------------------\n",
            "Naruto is from CSE department.\n",
            "Serial of Naruto among all students' is: 1\n",
            "Serial of Naruto in CSE departmnent is: 1\n",
            "#############################\n",
            "Total number of Student: 1\n",
            "Total number of CSE Student: 1\n",
            "Total number of BBA Student: 0\n",
            "============================\n",
            "Creating Student Number: 2\n",
            "----------------------\n",
            "Sakura is from BBA department.\n",
            "Serial of Sakura among all students' is: 2\n",
            "Serial of Sakura in BBA departmnent is: 1\n",
            "#############################\n",
            "Total number of Student: 2\n",
            "Total number of CSE Student: 1\n",
            "Total number of BBA Student: 1\n",
            "============================\n",
            "Creating Student Number: 3\n",
            "----------------------\n",
            "Shikamaru is from CSE department.\n",
            "Serial of Shikamaru among all students' is: 3\n",
            "Serial of Shikamaru in CSE departmnent is: 2\n",
            "#############################\n",
            "Total number of Student: 3\n",
            "Total number of CSE Student: 2\n",
            "Total number of BBA Student: 1\n",
            "============================\n",
            "Creating Student Number: 4\n",
            "----------------------\n",
            "Deidara is from BBA department.\n",
            "Serial of Deidara among all students' is: 4\n",
            "Serial of Deidara in BBA departmnent is: 2\n",
            "#############################\n",
            "Total number of Student: 4\n",
            "Total number of CSE Student: 2\n",
            "Total number of BBA Student: 2\n"
          ]
        }
      ]
    },
    {
      "cell_type": "markdown",
      "source": [
        "# Task - 7"
      ],
      "metadata": {
        "id": "4AwXfP9-Yf60"
      }
    },
    {
      "cell_type": "code",
      "source": [
        "class book:\n",
        "    def __init__(self, name, genre='biography'):\n",
        "        self.name = name\n",
        "        self.genre= genre\n",
        "    def review(self):\n",
        "        print(f\"The {self.name} which is a {self.genre} is just out of the world, mind-blowing!\")\n",
        "\n",
        "class fiction(book):\n",
        "    def __init__(self, name, genre):\n",
        "        super().__init__(name)\n",
        "        self.genre = genre\n",
        "\n",
        "    def review(self):\n",
        "        print(f\"The {self.name} which is a {self.genre} is just out of the world, mind-blowing!\")\n",
        "\n",
        "class nonfiction(book):\n",
        "    def __init__(self, name):\n",
        "        super().__init__(name)\n",
        "\n",
        "    def review(self):\n",
        "        print(f\"The {self.name} which is a {self.genre} is just out of the world, mind-blowing!\")\n",
        "\n",
        "b1 = fiction('The Shining','Psychological horror')\n",
        "b2 = nonfiction('A Beautiful Mind')\n",
        "b1.review()\n",
        "print('=========================')\n",
        "b2.review()\n",
        "print('=========================')"
      ],
      "metadata": {
        "colab": {
          "base_uri": "https://localhost:8080/"
        },
        "id": "yjqmmO0fVrut",
        "outputId": "c9fade16-bc12-4f1a-f97a-4365116d7521"
      },
      "execution_count": null,
      "outputs": [
        {
          "output_type": "stream",
          "name": "stdout",
          "text": [
            "The The Shining which is a Psychological horror is just out of the world, mind-blowing!\n",
            "=========================\n",
            "The A Beautiful Mind which is a biography is just out of the world, mind-blowing!\n",
            "=========================\n"
          ]
        }
      ]
    },
    {
      "cell_type": "markdown",
      "source": [
        "# Task - 8"
      ],
      "metadata": {
        "id": "V4jM_8jvYf9K"
      }
    },
    {
      "cell_type": "code",
      "source": [
        "class Processor:\n",
        "    def __init__(self, model, thread, core):\n",
        "        self.model = model\n",
        "        self.core = core\n",
        "        self.thread = thread\n",
        "    def getInfo(self):\n",
        "        return \"Model: \"+self.model+ \"\\nCores: \"+str(self.core)+ \"\\nThreads: \"+ str(self.thread)\n",
        "\n",
        "class Intel(Processor):\n",
        "    def __init__(self, model, core, thread, price):\n",
        "        super().__init__(model, thread, core)\n",
        "        self.price = price\n",
        "\n",
        "    def getInfo(self):\n",
        "        print(super().getInfo())\n",
        "        print(f\"Price: {self.price} taka\")\n",
        "\n",
        "class AMD(Processor):\n",
        "    def __init__(self, model, core, thread, price):\n",
        "        super().__init__(model, thread, core)\n",
        "        self.price = price\n",
        "\n",
        "    def getInfo(self):\n",
        "        print(super().getInfo())\n",
        "        print(f\"Price: {self.price} taka\")\n",
        "\n",
        "p1 = Intel(\"Intel i5 10th Gen\",6,12,17000)\n",
        "p2 = AMD(\"Ryzen 5 3500X\",6,6,13800)\n",
        "p3 = AMD(\"Ryzen 5 3600\",6,12,16900)\n",
        "print('======================')\n",
        "p1.getInfo()\n",
        "print('======================')\n",
        "p2.getInfo()\n",
        "print('======================')\n",
        "p3.getInfo()"
      ],
      "metadata": {
        "colab": {
          "base_uri": "https://localhost:8080/"
        },
        "id": "nn9_KeIWX3UU",
        "outputId": "294e6739-bb04-49f9-80a8-e305d4ca11d4"
      },
      "execution_count": null,
      "outputs": [
        {
          "output_type": "stream",
          "name": "stdout",
          "text": [
            "======================\n",
            "Model: Intel i5 10th Gen\n",
            "Cores: 6\n",
            "Threads: 12\n",
            "Price: 17000 taka\n",
            "======================\n",
            "Model: Ryzen 5 3500X\n",
            "Cores: 6\n",
            "Threads: 6\n",
            "Price: 13800 taka\n",
            "======================\n",
            "Model: Ryzen 5 3600\n",
            "Cores: 6\n",
            "Threads: 12\n",
            "Price: 16900 taka\n"
          ]
        }
      ]
    },
    {
      "cell_type": "markdown",
      "source": [
        "# Task - 9"
      ],
      "metadata": {
        "id": "21vVp2RpYf_e"
      }
    },
    {
      "cell_type": "code",
      "source": [
        "class Fruit:\n",
        "    Total_order=0\n",
        "    def __init__(self, Order_ID, weight):\n",
        "        self.Order_ID=Order_ID\n",
        "        self.weight=weight\n",
        "        Fruit.Total_order=Fruit.Total_order+1\n",
        "    def __str__(self):\n",
        "        return self.Order_ID+\", Weight: \"+str(self.weight)\n",
        "\n",
        "class Mango(Fruit):\n",
        "    def __init__(self, Order_ID, weight, variety, price):\n",
        "        super().__init__(Order_ID, weight)\n",
        "        self.variety = variety\n",
        "        self.price = price*self.weight\n",
        "\n",
        "    def __add__(self, other):\n",
        "        return f\"The total Price of the orders are: {self.price+other.price}\"\n",
        "\n",
        "    def __str__(self):\n",
        "        return super().__str__()+\", Variety: \"+self.variety+\", Total Price: \"+str(self.price)\n",
        "\n",
        "class JackFruit(Fruit):\n",
        "    def __init__(self, Order_ID, weight, price):\n",
        "        super().__init__(Order_ID, weight)\n",
        "        self.price = price*self.weight\n",
        "\n",
        "    def __add__(self, other):\n",
        "        return f\"The total Price of the orders are: {self.price+other.price}\"\n",
        "\n",
        "    def __str__(self):\n",
        "        return super().__str__()+\", Total Price: \"+str(self.price)\n",
        "\n",
        "\n",
        "m1=Mango(\"Order Id 1\", 5,\"GopalVog\",250)\n",
        "print(m1)\n",
        "m2=Mango(\"Order Id 2\", 5,\"HariVanga\", 230)\n",
        "print(m2)\n",
        "j1=JackFruit(\"Order Id 3\", 5,250)\n",
        "print(j1)\n",
        "j2=JackFruit(\"Order Id 4\", 4,210)\n",
        "print(j2)\n",
        "print(\"Total number of Orders:\"+str(Fruit.Total_order))\n",
        "print(\"==================\")\n",
        "print(m1+m2)\n",
        "print(\"==================\")\n",
        "print(j1+j2)"
      ],
      "metadata": {
        "colab": {
          "base_uri": "https://localhost:8080/"
        },
        "id": "6wKdaxT9aVSz",
        "outputId": "21129664-def4-46fb-b98d-f23870ffd991"
      },
      "execution_count": null,
      "outputs": [
        {
          "output_type": "stream",
          "name": "stdout",
          "text": [
            "Order Id 1, Weight: 5, Variety: GopalVog, Total Price: 1250\n",
            "Order Id 2, Weight: 5, Variety: HariVanga, Total Price: 1150\n",
            "Order Id 3, Weight: 5, Total Price: 1250\n",
            "Order Id 4, Weight: 4, Total Price: 840\n",
            "Total number of Orders:4\n",
            "==================\n",
            "The total Price of the orders are: 2400\n",
            "==================\n",
            "The total Price of the orders are: 2090\n"
          ]
        }
      ]
    },
    {
      "cell_type": "markdown",
      "source": [
        "# Task - 10"
      ],
      "metadata": {
        "id": "EUweCIeFYgB3"
      }
    },
    {
      "cell_type": "code",
      "source": [
        "class Student:\n",
        "    def __init__(self,name,ID):\n",
        "        self.name = name\n",
        "        self.ID = ID\n",
        "    def Details(self):\n",
        "        return \"Name: \"+self.name+\"\\n\"+\"ID: \"+self.ID+\"\\n\"\n",
        "\n",
        "class CSEStudent(Student):\n",
        "    def __init__(self, name, ID, semester):\n",
        "        super().__init__(name, ID)\n",
        "        self.semester = semester\n",
        "        self.course = []\n",
        "        self.marks = []\n",
        "\n",
        "    def Details(self):\n",
        "        return super().Details() +\"Current semester: \"+self.semester+\"\\n\"\n",
        "\n",
        "    def addCourseWithMarks(self, *course):\n",
        "        for i in range(0, len(course), 2):\n",
        "            self.course.append(course[i])\n",
        "            self.marks.append(course[i+1])\n",
        "\n",
        "    def showGPA(self):\n",
        "        gpa = 0\n",
        "        cgpa = 0\n",
        "        total_credits = 3*len(self.course)\n",
        "        print(f\"{self.name} has taken {len(self.course)} courses.\")\n",
        "        for i in range(len(self.course)):\n",
        "            # print(f\"{self.course[i]}: {self.marks[i]}\")\n",
        "            if self.marks[i] >= 85:\n",
        "                gpa = 4.0\n",
        "                cgpa += 4*3\n",
        "            elif self.marks[i] >= 80:\n",
        "                gpa = 3.3\n",
        "                cgpa += 3.3*3\n",
        "            elif self.marks[i] >= 70:\n",
        "                gpa = 3.0\n",
        "                cgpa += 3.0*3\n",
        "            elif self.marks[i] >= 65:\n",
        "                gpa = 2.3\n",
        "                cgpa += 2.3*3\n",
        "            elif self.marks[i] >= 57:\n",
        "                gpa = 2.0\n",
        "                cgpa += 2.0*3\n",
        "            elif self.marks[i] >= 55:\n",
        "                gpa = 1.3\n",
        "                cgpa += 1.3*3\n",
        "            elif self.marks[i] >= 50:\n",
        "                gpa = 1.0\n",
        "                cgpa += 1.0*3\n",
        "            else:\n",
        "                gpa = 0.0\n",
        "                cgpa += 0.0*3\n",
        "\n",
        "            print(f\"{self.course[i]}: {gpa}\")\n",
        "\n",
        "        gpa2 = round((cgpa/total_credits),2)\n",
        "        print(f\"GPA of {self.name} is: {gpa2}\")\n",
        "\n",
        "Bob = CSEStudent(\"Bob\",\"20301018\",\"Fall 2020\")\n",
        "Carol = CSEStudent(\"Carol\",\"16301814\",\"Fall 2020\")\n",
        "Anny = CSEStudent(\"Anny\",\"18201234\",\"Fall 2020\")\n",
        "print(\"#########################\")\n",
        "print(Bob.Details())\n",
        "print(\"#########################\")\n",
        "print(Carol.Details())\n",
        "print(\"#########################\")\n",
        "print(Anny.Details())\n",
        "print(\"#########################\")\n",
        "Bob.addCourseWithMarks(\"CSE111\",83.5,\"CSE230\",73.0,\"CSE260\",92.5)\n",
        "Carol.addCourseWithMarks(\"CSE470\",62.5,\"CSE422\",69.0,\"CSE460\",76.5,\"CSE461\",87.0)\n",
        "Anny.addCourseWithMarks(\"CSE340\",45.5,\"CSE321\",95.0,\"CSE370\",91.0)\n",
        "print(\"----------------------------\")\n",
        "Bob.showGPA()\n",
        "print(\"----------------------------\")\n",
        "Carol.showGPA()\n",
        "print(\"----------------------------\")\n",
        "Anny.showGPA()"
      ],
      "metadata": {
        "colab": {
          "base_uri": "https://localhost:8080/"
        },
        "id": "O1arIzL8d5xO",
        "outputId": "39353bc2-5d8a-46a3-e5c9-32dacd6a58cf"
      },
      "execution_count": null,
      "outputs": [
        {
          "output_type": "stream",
          "name": "stdout",
          "text": [
            "#########################\n",
            "Name: Bob\n",
            "ID: 20301018\n",
            "Current semester: Fall 2020\n",
            "\n",
            "#########################\n",
            "Name: Carol\n",
            "ID: 16301814\n",
            "Current semester: Fall 2020\n",
            "\n",
            "#########################\n",
            "Name: Anny\n",
            "ID: 18201234\n",
            "Current semester: Fall 2020\n",
            "\n",
            "#########################\n",
            "----------------------------\n",
            "Bob has taken 3 courses.\n",
            "CSE111: 3.3\n",
            "CSE230: 3.0\n",
            "CSE260: 4.0\n",
            "GPA of Bob is: 3.43\n",
            "----------------------------\n",
            "Carol has taken 4 courses.\n",
            "CSE470: 2.0\n",
            "CSE422: 2.3\n",
            "CSE460: 3.0\n",
            "CSE461: 4.0\n",
            "GPA of Carol is: 2.82\n",
            "----------------------------\n",
            "Anny has taken 3 courses.\n",
            "CSE340: 0.0\n",
            "CSE321: 4.0\n",
            "CSE370: 4.0\n",
            "GPA of Anny is: 2.67\n"
          ]
        }
      ]
    },
    {
      "cell_type": "markdown",
      "source": [
        "# Task - 11"
      ],
      "metadata": {
        "id": "ixPgv_QZYgEQ"
      }
    },
    {
      "cell_type": "code",
      "source": [
        "class Transport:\n",
        "    total_traveller = 0\n",
        "    def __init__(self, name, fare):\n",
        "        self.name = name\n",
        "        self.baseFare = fare\n",
        "    def __str__(self):\n",
        "        s = \"Name: \"+self.name+\", Base fare: \"+str(self.baseFare)\n",
        "        return s\n",
        "\n",
        "class Bus(Transport):\n",
        "    def __init__(self, name, fare):\n",
        "        super().__init__(name, fare)\n",
        "        self.passenger = []\n",
        "        print(f\"Base-fare of {self.name} is {self.baseFare} Taka\")\n",
        "\n",
        "    def addPassengerWithBags(self, *data):\n",
        "        temp = []\n",
        "        for i in range(0, len(data), 2):\n",
        "            temp = [data[i], data[i+1]]\n",
        "            self.passenger.append(temp)\n",
        "        Transport.total_traveller+=len(self.passenger)\n",
        "\n",
        "    def __str__(self):\n",
        "        s = super().__str__()\n",
        "        s += f\"\\nTotal Passenger(s): {str(len(self.passenger))}\\nPassenger details:\"\n",
        "        fare = 0\n",
        "        for i in range(len(self.passenger)):\n",
        "            s += f\"\\nName: {self.passenger[i][0]}\"\n",
        "            if self.passenger[i][1] >= 3 and self.passenger[i][1] <= 5:\n",
        "                fare += 60\n",
        "            elif self.passenger[i][1] > 5:\n",
        "                fare += 105\n",
        "            else:\n",
        "                fare += 0\n",
        "            s += f\", Fare: {self.baseFare+fare}\"\n",
        "            fare = 0\n",
        "        return s\n",
        "\n",
        "class Train(Transport):\n",
        "    def __init__(self, name, fare):\n",
        "        super().__init__(name, fare)\n",
        "        self.passenger = []\n",
        "        print(f\"Base-fare of {self.name} is {self.baseFare} Taka\")\n",
        "\n",
        "    def addPassengerWithBags(self, *data):\n",
        "        temp = []\n",
        "        for i in range(0, len(data), 2):\n",
        "            temp = [data[i], data[i+1]]\n",
        "            self.passenger.append(temp)\n",
        "        Transport.total_traveller+=len(self.passenger)\n",
        "\n",
        "    def __str__(self):\n",
        "        s = super().__str__()\n",
        "        s += f\"\\nTotal Passenger(s): {str(len(self.passenger))}\\nPassenger details:\"\n",
        "        fare = 0\n",
        "        for i in range(len(self.passenger)):\n",
        "            s += f\"\\nName: {self.passenger[i][0]}\"\n",
        "            if self.passenger[i][1] >= 3 and self.passenger[i][1] <= 5:\n",
        "                fare += 60\n",
        "            elif self.passenger[i][1] > 5:\n",
        "                fare += 105\n",
        "            else:\n",
        "                fare += 0\n",
        "            s += f\", Fare: {self.baseFare+fare}\"\n",
        "            fare = 0\n",
        "        return s\n",
        "\n",
        "\n",
        "t1 = Bus(\"Volvo\", 950)\n",
        "print(\"=================================\")\n",
        "t1.addPassengerWithBags(\"David\", 6, \"Mike\", 1, \"Carol\", 3)\n",
        "print(\"=================================\")\n",
        "print(t1)\n",
        "print(\"=================================\")\n",
        "t2 = Train(\"Silk City\", 850)\n",
        "print(\"=================================\")\n",
        "t2.addPassengerWithBags(\"Bob\", 2, \"Simon\", 4)\n",
        "print(\"=================================\")\n",
        "print(t2)\n",
        "print(\"=================================\")\n",
        "print(\"Total Passengers in Transport: \", Transport.total_traveller )"
      ],
      "metadata": {
        "colab": {
          "base_uri": "https://localhost:8080/"
        },
        "id": "z9NAW1NcyKdB",
        "outputId": "d76e223b-3fc3-4b05-840c-00654ba5ba6d"
      },
      "execution_count": null,
      "outputs": [
        {
          "output_type": "stream",
          "name": "stdout",
          "text": [
            "Base-fare of Volvo is 950 Taka\n",
            "=================================\n",
            "=================================\n",
            "Name: Volvo, Base fare: 950\n",
            "Total Passenger(s): 3\n",
            "Passenger details:\n",
            "Name: David, Fare: 1055\n",
            "Name: Mike, Fare: 950\n",
            "Name: Carol, Fare: 1010\n",
            "=================================\n",
            "Base-fare of Silk City is 850 Taka\n",
            "=================================\n",
            "=================================\n",
            "Name: Silk City, Base fare: 850\n",
            "Total Passenger(s): 2\n",
            "Passenger details:\n",
            "Name: Bob, Fare: 850\n",
            "Name: Simon, Fare: 910\n",
            "=================================\n",
            "Total Passengers in Transport:  5\n"
          ]
        }
      ]
    },
    {
      "cell_type": "markdown",
      "source": [
        "# Task - 12"
      ],
      "metadata": {
        "id": "AdQIHpyxYria"
      }
    },
    {
      "cell_type": "code",
      "source": [
        "class AppleProduct:\n",
        "    def __init__(self, name, model,base_price):\n",
        "        self.name = name\n",
        "        self.model = model\n",
        "        self.base_price = base_price\n",
        "    def companyInfo(self):\n",
        "        st = (\"Company Name: Apple\\nFouder: Steve Jobs, Steve Wozniak, Ronald Wayne\\nCurrentCEO: Tim Cook\\nAddress: Apple Inc, 2511Laguna Blvd, Elk Grove, CA 95758, United States\")\n",
        "        return st\n",
        "    def feature(self):\n",
        "        st = (f\"Name: {self.name}\\nProduct Model: {self.model}\\nHardware Quality: Excellent Hardwares\\nGuarantee/ Warranty: Apple Care\")\n",
        "        return st\n",
        "    def __str__(self):\n",
        "        print('This is apple product.')\n",
        "    def calculatePrice(self):\n",
        "        print('Total Price:', self.base_price)\n",
        "\n",
        "class MacBookPro2020(AppleProduct):\n",
        "    def __init__(self, name, model, ram, chip, tax):\n",
        "        super().__init__(name, model, base_price=1299)\n",
        "        self.ram = ram\n",
        "        self.chip = chip\n",
        "        self.tax = tax\n",
        "        self.total_price = 0\n",
        "\n",
        "    def __str__(self):\n",
        "        return f\"Product Details:\\n{super().feature()}\\nRAM: {self.ram}GB\\nChip: {self.chip}\\nCompany Details:\\n{super().companyInfo()}\"\n",
        "\n",
        "    def calculatePrice(self):\n",
        "        print(\"Calculating Total Price:\")\n",
        "        self.total_price = self.base_price + ((self.base_price * self.tax)/100)\n",
        "        print(f\"Base Price: {self.base_price}\\nTax: {self.tax}%\\nTotal Price: {self.total_price}\")\n",
        "\n",
        "    def __add__(self, other):\n",
        "        return self.total_price + other.total_price\n",
        "\n",
        "class iPhone12(AppleProduct):\n",
        "    def __init__(self, name, model, ram, chip, tax):\n",
        "        super().__init__(name, model, base_price=799)\n",
        "        self.ram = ram\n",
        "        self.chip = chip\n",
        "        self.tax = tax\n",
        "        self.total_price = 0\n",
        "\n",
        "    def __str__(self):\n",
        "        return f\"Product Details:\\n{super().feature()}\\nRAM: {self.ram}GB\\nChip: {self.chip}\\nCompany Details:\\n{super().companyInfo()}\"\n",
        "\n",
        "    def calculatePrice(self):\n",
        "        print(\"Calculating Total Price:\")\n",
        "        self.total_price = self.base_price + ((self.base_price * self.tax)/100)\n",
        "        print(f\"Base Price: {self.base_price}\\nTax: {self.tax}%\\nTotal Price: {self.total_price}\")\n",
        "\n",
        "m1 = MacBookPro2020('MacBook','MacBookPro2020', 8, 'M1', 10)\n",
        "print(m1)\n",
        "print('====================================')\n",
        "m1.calculatePrice()\n",
        "print('###################################')\n",
        "iphone = iPhone12('iPhone', 'iPhone 12', 8,'A14', 5)\n",
        "print(iphone)\n",
        "print('====================================')\n",
        "iphone.calculatePrice()\n",
        "print('###################################')\n",
        "print('Total Price of these two products: ',end='')\n",
        "print('%.2f Dollars'%(m1 + iphone))"
      ],
      "metadata": {
        "colab": {
          "base_uri": "https://localhost:8080/"
        },
        "id": "MkCdUenkxIAm",
        "outputId": "9de3737f-8c28-49ec-cae2-e7a6927a1dec"
      },
      "execution_count": 15,
      "outputs": [
        {
          "output_type": "stream",
          "name": "stdout",
          "text": [
            "Product Details:\n",
            "Name: MacBook\n",
            "Product Model: MacBookPro2020\n",
            "Hardware Quality: Excellent Hardwares\n",
            "Guarantee/ Warranty: Apple Care\n",
            "RAM: 8GB\n",
            "Chip: M1\n",
            "Company Details:\n",
            "Company Name: Apple\n",
            "Fouder: Steve Jobs, Steve Wozniak, Ronald Wayne\n",
            "CurrentCEO: Tim Cook\n",
            "Address: Apple Inc, 2511Laguna Blvd, Elk Grove, CA 95758, United States\n",
            "====================================\n",
            "Calculating Total Price:\n",
            "Base Price: 1299\n",
            "Tax: 10%\n",
            "Total Price: 1428.9\n",
            "###################################\n",
            "Product Details:\n",
            "Name: iPhone\n",
            "Product Model: iPhone 12\n",
            "Hardware Quality: Excellent Hardwares\n",
            "Guarantee/ Warranty: Apple Care\n",
            "RAM: 8GB\n",
            "Chip: A14\n",
            "Company Details:\n",
            "Company Name: Apple\n",
            "Fouder: Steve Jobs, Steve Wozniak, Ronald Wayne\n",
            "CurrentCEO: Tim Cook\n",
            "Address: Apple Inc, 2511Laguna Blvd, Elk Grove, CA 95758, United States\n",
            "====================================\n",
            "Calculating Total Price:\n",
            "Base Price: 799\n",
            "Tax: 5%\n",
            "Total Price: 838.95\n",
            "###################################\n",
            "Total Price of these two products: 2267.85 Dollars\n"
          ]
        }
      ]
    },
    {
      "cell_type": "markdown",
      "source": [
        "# Task - 13"
      ],
      "metadata": {
        "id": "GQrDxrxVYrlT"
      }
    },
    {
      "cell_type": "code",
      "source": [
        "class University:\n",
        "    name = \"ABC University\"\n",
        "    numberOfStudents = 0\n",
        "    admissionFee = 28000\n",
        "    Library = 2000\n",
        "    def __init__(self, n,i):\n",
        "        self.stName = n\n",
        "        self.stId = i\n",
        "    def payment(self):\n",
        "        return self.admissionFee + self.Library\n",
        "    def __str__(self):\n",
        "        return \"Student Name: {}, ID: {}\\nFee: {}\".format(self.stName, self.stId, self.payment())\n",
        "\n",
        "class CSE_dept(University):\n",
        "    PerCreditFee = 6600\n",
        "    SemesterFee = 7700\n",
        "    LabFee = 2750\n",
        "    def __init__(self, name, id, credit = 6):\n",
        "        University.numberOfStudents+=1\n",
        "        super().__init__(name, id)\n",
        "        self.credit = credit\n",
        "    def payment(self):\n",
        "        return super().payment() + self.SemesterFee + (self.PerCreditFee*self.credit) + self.LabFee\n",
        "    def payment_details(self):\n",
        "        print(f\"\\nDETAILS:\\nAdmission Fee: {University.admissionFee}\\nLibrary Fee: {University.Library}\\nSemester Fee: {self.SemesterFee}\\nPer Credit Fee: {self.PerCreditFee}\\nNumber of credits: {self.credit}\\nLab fee: {self.LabFee}\")\n",
        "    def __add__(self, other):\n",
        "        return self.payment()+other.payment()\n",
        "\n",
        "class PHR_dept(University):\n",
        "    PerCreditFee = 6600\n",
        "    SemesterFee = 11000\n",
        "    def __init__(self, name, id, credit = 9):\n",
        "        University.numberOfStudents+=1\n",
        "        super().__init__(name, id)\n",
        "        self.credit = credit\n",
        "    def payment(self):\n",
        "        return super().payment() + self.SemesterFee + (self.PerCreditFee*self.credit)\n",
        "    def payment_details(self):\n",
        "        print(f\"\\nDETAILS:\\nAdmission Fee: {University.admissionFee}\\nLibrary Fee: {University.Library}\\nSemester Fee: {self.SemesterFee}\\nPer Credit Fee:{self.PerCreditFee}\\nNumber of credits: {self.credit}\")\n",
        "    def __add__(self, other):\n",
        "        return self.payment()+other.payment()\n",
        "\n",
        "c1 = CSE_dept(\"Mary\",\"5678\")\n",
        "print(c1)\n",
        "c1.payment_details()\n",
        "print(\"===========================\")\n",
        "p1 = PHR_dept(\"Simon\",\"91011\")\n",
        "print(p1)\n",
        "p1.payment_details()\n",
        "print(\"===========================\")\n",
        "c2 = CSE_dept(\"Adam\",\"1234\", 12)\n",
        "print(c2)\n",
        "c2.payment_details()\n",
        "print(\"===========================\")\n",
        "p2 = PHR_dept(\"David\",\"121314\", 15)\n",
        "print(p2)\n",
        "p2.payment_details()\n",
        "print(\"===========================\")\n",
        "print(\"Total Number of Students:\", University.numberOfStudents)\n",
        "print(\"Total University Revenue:\", (c1 + c2) + (p1 + p2))\n",
        "print(\"===========================\")\n",
        "print(\"Due to the pandemic, admission and library fees have been reduced for all departments. \")\n",
        "University.admissionFee -= 1000\n",
        "University.Library -= 100\n",
        "print(\"The credit, semester and lab fees have been reduced for the CSE department. \")\n",
        "CSE_dept.PerCreditFee -= 100\n",
        "CSE_dept.SemesterFee -= 100\n",
        "CSE_dept.LabFee -=100\n",
        "print(\"The credit and semester fees have been reduced for the PHR department.\\n \")\n",
        "PHR_dept.PerCreditFee -= 100\n",
        "PHR_dept.SemesterFee -= 1000\n",
        "print(c1)\n",
        "print(p1)\n",
        "print(c2)\n",
        "print(p2)\n",
        "print(\"===========================\")\n",
        "print(\"Total Number of Students:\", University.numberOfStudents)\n",
        "print(\"Total University Revenue:\", (c1 + c2) + (p1 + p2))"
      ],
      "metadata": {
        "id": "8J6YGUekYq4D",
        "colab": {
          "base_uri": "https://localhost:8080/"
        },
        "outputId": "94bafc33-ded5-4aae-94bd-3b48bf22887a"
      },
      "execution_count": 23,
      "outputs": [
        {
          "output_type": "stream",
          "name": "stdout",
          "text": [
            "Student Name: Mary, ID: 5678\n",
            "Fee: 80050\n",
            "\n",
            "DETAILS:\n",
            "Admission Fee: 28000\n",
            "Library Fee: 2000\n",
            "Semester Fee: 7700\n",
            "Per Credit Fee: 6600\n",
            "Number of credits: 6\n",
            "Lab fee: 2750\n",
            "===========================\n",
            "Student Name: Simon, ID: 91011\n",
            "Fee: 100400\n",
            "\n",
            "DETAILS:\n",
            "Admission Fee: 28000\n",
            "Library Fee: 2000\n",
            "Semester Fee: 11000\n",
            "Per Credit Fee:6600\n",
            "Number of credits: 9\n",
            "===========================\n",
            "Student Name: Adam, ID: 1234\n",
            "Fee: 119650\n",
            "\n",
            "DETAILS:\n",
            "Admission Fee: 28000\n",
            "Library Fee: 2000\n",
            "Semester Fee: 7700\n",
            "Per Credit Fee: 6600\n",
            "Number of credits: 12\n",
            "Lab fee: 2750\n",
            "===========================\n",
            "Student Name: David, ID: 121314\n",
            "Fee: 140000\n",
            "\n",
            "DETAILS:\n",
            "Admission Fee: 28000\n",
            "Library Fee: 2000\n",
            "Semester Fee: 11000\n",
            "Per Credit Fee:6600\n",
            "Number of credits: 15\n",
            "===========================\n",
            "Total Number of Students: 4\n",
            "Total University Revenue: 440100\n",
            "===========================\n",
            "Due to the pandemic, admission and library fees have been reduced for all departments. \n",
            "The credit, semester and lab fees have been reduced for the CSE department. \n",
            "The credit and semester fees have been reduced for the PHR department.\n",
            " \n",
            "Student Name: Mary, ID: 5678\n",
            "Fee: 78150\n",
            "Student Name: Simon, ID: 91011\n",
            "Fee: 97400\n",
            "Student Name: Adam, ID: 1234\n",
            "Fee: 117150\n",
            "Student Name: David, ID: 121314\n",
            "Fee: 136400\n",
            "===========================\n",
            "Total Number of Students: 4\n",
            "Total University Revenue: 429100\n"
          ]
        }
      ]
    },
    {
      "cell_type": "markdown",
      "source": [
        "# Task - 14"
      ],
      "metadata": {
        "id": "chm8WB3MYrnt"
      }
    },
    {
      "cell_type": "code",
      "source": [
        "#Task 14\n",
        "class Library:\n",
        "    Total_book = 1000\n",
        "    borrow_data = {}\n",
        "    def __init__(self,n,id):\n",
        "        self.student_name = n\n",
        "        self.student_id = id\n",
        "    def borrowbook(self):\n",
        "        print(\"A book is borrowed!\")\n",
        "    def __str__(self):\n",
        "        return \"Library: XYZ\"\n",
        "\n",
        "class Student(Library):\n",
        "    book_borrowed = []\n",
        "    def __init__(self, name, id):\n",
        "        super().__init__(name, id)\n",
        "    def borrowbook(self, *arg):\n",
        "        if arg[0] not in Library.borrow_data:\n",
        "            super().borrowbook()\n",
        "            self.book_borrowed.append(arg[0])\n",
        "            if len(arg)==1:\n",
        "                print(f\"'{arg[0]}' book is borrowed by {self.student_name}({self.student_id})\")\n",
        "            elif len(arg)==2:\n",
        "                print(f\"'{arg[0]}' book with the unique id {arg[1]} is borrowed by {self.student_name}({self.student_id})\")\n",
        "            Library.borrow_data[arg[0]] = [self.student_name]\n",
        "            Library.Total_book-=1\n",
        "            print(f\"Number of books available for borrowing = {Library.Total_book}\")\n",
        "        else:\n",
        "            print(f\"Sorry {self.student_name} ! {arg[0]} book is brrowed by {Library.borrow_data[arg[0]][0]}\")\n",
        "    def __str__(self):\n",
        "        print(super().__str__())\n",
        "        print(f\"Student Name: {self.student_name} ID: {self.student_id}\\nBooks borrowed\",end=\": \")\n",
        "        for i in range(0, len(self.book_borrowed)):\n",
        "            if i!=len(self.book_borrowed)-1:\n",
        "                print(self.book_borrowed[i], end = \", \")\n",
        "            else:\n",
        "                return self.book_borrowed[i]\n",
        "    def returnAllBooks(self):\n",
        "        dict_copy = Library.borrow_data.copy()\n",
        "        for i in dict_copy:\n",
        "            if Library.borrow_data[i] == [self.student_name]:\n",
        "                Library.borrow_data.pop(i)\n",
        "        self.book_borrowed = []\n",
        "        print(f\"All Books are returned by {self.student_name}\")\n",
        "\n",
        "s1 = Student(\"Alice\",18101259)\n",
        "s1.borrowbook(\"The Alchemist\", \"Hdw652\")\n",
        "print(\"===============\")\n",
        "print(s1)\n",
        "print(\"===============\")\n",
        "print(Library.borrow_data)\n",
        "print(\"===============\")\n",
        "s1.borrowbook(\"Wuthering Heights\")\n",
        "print(\"===============\")\n",
        "print(s1)\n",
        "print(\"===============\")\n",
        "s2= Student(\"David\",18141777)\n",
        "s2.borrowbook(\"The Alchemist\", \"Hdw652\")\n",
        "print(\"===============\")\n",
        "s2.borrowbook(\"The Vampyre\")\n",
        "print(\"===============\")\n",
        "print(Library.borrow_data)\n",
        "print(\"===============\")\n",
        "s1.returnAllBooks()\n",
        "print(\"===============\")\n",
        "print(Library.borrow_data)"
      ],
      "metadata": {
        "id": "xKouiscFYq9R",
        "colab": {
          "base_uri": "https://localhost:8080/"
        },
        "outputId": "2dfd1ef0-fdaf-4ca5-9789-fdca1d366423"
      },
      "execution_count": 24,
      "outputs": [
        {
          "output_type": "stream",
          "name": "stdout",
          "text": [
            "A book is borrowed!\n",
            "'The Alchemist' book with the unique id Hdw652 is borrowed by Alice(18101259)\n",
            "Number of books available for borrowing = 999\n",
            "===============\n",
            "Library: XYZ\n",
            "Student Name: Alice ID: 18101259\n",
            "Books borrowed: The Alchemist\n",
            "===============\n",
            "{'The Alchemist': ['Alice']}\n",
            "===============\n",
            "A book is borrowed!\n",
            "'Wuthering Heights' book is borrowed by Alice(18101259)\n",
            "Number of books available for borrowing = 998\n",
            "===============\n",
            "Library: XYZ\n",
            "Student Name: Alice ID: 18101259\n",
            "Books borrowed: The Alchemist, Wuthering Heights\n",
            "===============\n",
            "Sorry David ! The Alchemist book is brrowed by Alice\n",
            "===============\n",
            "A book is borrowed!\n",
            "'The Vampyre' book is borrowed by David(18141777)\n",
            "Number of books available for borrowing = 997\n",
            "===============\n",
            "{'The Alchemist': ['Alice'], 'Wuthering Heights': ['Alice'], 'The Vampyre': ['David']}\n",
            "===============\n",
            "All Books are returned by Alice\n",
            "===============\n",
            "{'The Vampyre': ['David']}\n"
          ]
        }
      ]
    },
    {
      "cell_type": "markdown",
      "source": [
        "# Task - 15"
      ],
      "metadata": {
        "id": "SNimROnbYsVh"
      }
    },
    {
      "cell_type": "code",
      "source": [
        "class Player:\n",
        "    database = {}\n",
        "    playerNo = 0\n",
        "    def __init__(self, name, team, jerseyNo):\n",
        "        self.name = name\n",
        "        self.team = team\n",
        "        self.jerseyNo = jerseyNo\n",
        "    def __str__(self):\n",
        "        return \"Name:{}\\nTeam:{}\\nJersey No:{}\".format(self.name,self.team,self.jerseyNo)\n",
        "\n",
        "class FootballPlayer(Player):\n",
        "    def __init__(self, name, team, jerseyNo, goals, retirement = \"Not yet retired\"):\n",
        "        super().__init__(name, team, jerseyNo)\n",
        "        self.goals = goals\n",
        "        self.retirement = retirement\n",
        "        Player.playerNo+=1\n",
        "        id = self.name.split(\" \")\n",
        "        self.id = str(Player.playerNo) + id[0][0]+id[1][0] + str(jerseyNo)\n",
        "        Player.database[self.id] = [self.name, self.team, self.jerseyNo, self.goals, self.retirement]\n",
        "\n",
        "    def createPlayer(name, team, jerseyNo, goals, retirement = \"Not yet retired\"):\n",
        "        return FootballPlayer(name, team, jerseyNo, goals, retirement)\n",
        "\n",
        "    def __str__(self):\n",
        "        return f\"Player ID: {self.id}\\n\" + super().__str__()+f\"\\nGoals Scored:{self.goals}\\nRetirement date:{self.retirement}\"\n",
        "\n",
        "\n",
        "\n",
        "print(\"Number of players:\", Player.playerNo)\n",
        "print(\"Player Database:\", Player.database)\n",
        "print(\"#################################\")\n",
        "p1 = FootballPlayer(\"Lionel Messi\",\"Barcelona\",10,231)\n",
        "print(\"------Details of the player------\")\n",
        "print(p1)\n",
        "print(\"#################################\")\n",
        "p2 = FootballPlayer(\"Cristiano Ronaldo\",\"Juventus\",7,215)\n",
        "print(\"------Details of the player------\")\n",
        "print(p2)\n",
        "print(\"#################################\")\n",
        "p3 = FootballPlayer.createPlayer(\"Miroslav Klose\",\"Lazio\",11, 71,\"11 Aug,2014\")\n",
        "print(\"------Details of the player------\")\n",
        "print(p3)\n",
        "print(\"#################################\")\n",
        "print(\"Number of players:\",Player.playerNo)\n",
        "print(\"Player Database:\",Player.database)"
      ],
      "metadata": {
        "id": "2kRKZewnYq6l",
        "colab": {
          "base_uri": "https://localhost:8080/"
        },
        "outputId": "4d441dfa-b83f-4070-dcec-af3703ae713a"
      },
      "execution_count": 26,
      "outputs": [
        {
          "output_type": "stream",
          "name": "stdout",
          "text": [
            "Number of players: 0\n",
            "Player Database: {}\n",
            "#################################\n",
            "------Details of the player------\n",
            "Player ID: 1LM10\n",
            "Name:Lionel Messi\n",
            "Team:Barcelona\n",
            "Jersey No:10\n",
            "Goals Scored:231\n",
            "Retirement date:Not yet retired\n",
            "#################################\n",
            "------Details of the player------\n",
            "Player ID: 2CR7\n",
            "Name:Cristiano Ronaldo\n",
            "Team:Juventus\n",
            "Jersey No:7\n",
            "Goals Scored:215\n",
            "Retirement date:Not yet retired\n",
            "#################################\n",
            "------Details of the player------\n",
            "Player ID: 3MK11\n",
            "Name:Miroslav Klose\n",
            "Team:Lazio\n",
            "Jersey No:11\n",
            "Goals Scored:71\n",
            "Retirement date:11 Aug,2014\n",
            "#################################\n",
            "Number of players: 3\n",
            "Player Database: {'1LM10': ['Lionel Messi', 'Barcelona', 10, 231, 'Not yet retired'], '2CR7': ['Cristiano Ronaldo', 'Juventus', 7, 215, 'Not yet retired'], '3MK11': ['Miroslav Klose', 'Lazio', 11, 71, '11 Aug,2014']}\n"
          ]
        }
      ]
    },
    {
      "cell_type": "markdown",
      "source": [
        "# Task - 16"
      ],
      "metadata": {
        "id": "l1GZ2HSxxKU8"
      }
    },
    {
      "cell_type": "code",
      "source": [
        "'''**There is no Task- 16 on the question***'''"
      ],
      "metadata": {
        "id": "ZGyWeCSmxMzq",
        "colab": {
          "base_uri": "https://localhost:8080/",
          "height": 36
        },
        "outputId": "1860402f-ef00-4d83-9e52-b2e0d49d8f1c"
      },
      "execution_count": 27,
      "outputs": [
        {
          "output_type": "execute_result",
          "data": {
            "text/plain": [
              "'**There is no Task- 16 on the question***'"
            ],
            "application/vnd.google.colaboratory.intrinsic+json": {
              "type": "string"
            }
          },
          "metadata": {},
          "execution_count": 27
        }
      ]
    },
    {
      "cell_type": "markdown",
      "source": [
        "# Task -17"
      ],
      "metadata": {
        "id": "5si8s7arxNGR"
      }
    },
    {
      "cell_type": "code",
      "source": [
        "class Magical_SportsPerson:\n",
        "    database = {}\n",
        "    playerNo = 0\n",
        "    def __init__(self,name,team,jerseyNo):\n",
        "        self.name = name\n",
        "        self.team = team\n",
        "        self.jerseyNo = jerseyNo\n",
        "\n",
        "    def __str__(self):\n",
        "        return \"Name:{}\\nTeam:{}\\nJerseyNo:{}\".format(self.name,     self.team, self.jerseyNo)\n",
        "\n",
        "class Quidditch_Player(Magical_SportsPerson):\n",
        "    def __init__(self, name, team, jerseyNo, goals, retirement = \"Not yet retired\"):\n",
        "        super().__init__(name, team, jerseyNo)\n",
        "        self.goals = goals\n",
        "        self.retirement = retirement\n",
        "        Magical_SportsPerson.playerNo+=1\n",
        "        id = self.name.split(\" \")\n",
        "        self.id = str(Magical_SportsPerson.playerNo) + id[0][0]+id[1][0] + str(jerseyNo)\n",
        "        Magical_SportsPerson.database[self.id] = [self.name, self.team, self.jerseyNo, self.goals, self.retirement]\n",
        "\n",
        "    def createPlayer(name, team, jerseyNo, goals, retirement = \"Not yet retired\"):\n",
        "        return Quidditch_Player(name, team, jerseyNo, goals, retirement)\n",
        "\n",
        "    def __str__(self):\n",
        "        return f\"Player ID:{self.id}\\n\" + super().__str__()+f\"\\nGoals Scored:{self.goals}\\nRetirement date:{self.retirement}\"\n",
        "\n",
        "print(\"Number of players:\",Magical_SportsPerson.playerNo)\n",
        "print(\"Player Database:\",Magical_SportsPerson.database)\n",
        "print(\"#################################\")\n",
        "p1 = Quidditch_Player(\"Harry Potter\",\"Gryffindor\", 8, 523)\n",
        "print(\"------Details of the player------\")\n",
        "print(p1)\n",
        "print(\"#################################\")\n",
        "p2 = Quidditch_Player(\"Ronald Weasley\",\"Gryffindor\", 13, 5)\n",
        "print(\"------Details of the player------\")\n",
        "print(p2)\n",
        "print(\"#################################\")\n",
        "p3 = Quidditch_Player.createPlayer(\"George Weasley\",\"Gryffindor\", 12, 11, \"11 Magical Year, 1886\")\n",
        "print(\"------Details of the player------\")\n",
        "print(p3)\n",
        "print(\"#################################\")\n",
        "print(\"Number of players:\",Magical_SportsPerson.playerNo)\n",
        "print(\"Player Database:\",Magical_SportsPerson.database)\n"
      ],
      "metadata": {
        "id": "-oJgdbI7xO2R",
        "colab": {
          "base_uri": "https://localhost:8080/"
        },
        "outputId": "d10df509-cfca-4fe1-d780-ba0f8d88dfc9"
      },
      "execution_count": 28,
      "outputs": [
        {
          "output_type": "stream",
          "name": "stdout",
          "text": [
            "Number of players: 0\n",
            "Player Database: {}\n",
            "#################################\n",
            "------Details of the player------\n",
            "Player ID:1HP8\n",
            "Name:Harry Potter\n",
            "Team:Gryffindor\n",
            "JerseyNo:8\n",
            "Goals Scored:523\n",
            "Retirement date:Not yet retired\n",
            "#################################\n",
            "------Details of the player------\n",
            "Player ID:2RW13\n",
            "Name:Ronald Weasley\n",
            "Team:Gryffindor\n",
            "JerseyNo:13\n",
            "Goals Scored:5\n",
            "Retirement date:Not yet retired\n",
            "#################################\n",
            "------Details of the player------\n",
            "Player ID:3GW12\n",
            "Name:George Weasley\n",
            "Team:Gryffindor\n",
            "JerseyNo:12\n",
            "Goals Scored:11\n",
            "Retirement date:11 Magical Year, 1886\n",
            "#################################\n",
            "Number of players: 3\n",
            "Player Database: {'1HP8': ['Harry Potter', 'Gryffindor', 8, 523, 'Not yet retired'], '2RW13': ['Ronald Weasley', 'Gryffindor', 13, 5, 'Not yet retired'], '3GW12': ['George Weasley', 'Gryffindor', 12, 11, '11 Magical Year, 1886']}\n"
          ]
        }
      ]
    },
    {
      "cell_type": "markdown",
      "source": [
        "# Task -18"
      ],
      "metadata": {
        "id": "EbP6dvP0xPME"
      }
    },
    {
      "cell_type": "code",
      "source": [
        "class User:\n",
        "    def __init__(self, name, place, ride_type = \"Single\"):\n",
        "        self.name = name\n",
        "        self.place = place\n",
        "        self.ride_type = ride_type\n",
        "        self.car = None\n",
        "\n",
        "    def status(self):\n",
        "        if self.car:\n",
        "            print(f\"Status: {self.name} boarded in car {self.car}!\")\n",
        "        else:\n",
        "            print(f\"Status: {self.name} is looking for a {self.ride_type} ride!\")\n",
        "\n",
        "    def board_car(self, car_number):\n",
        "        self.car = car_number\n",
        "\n",
        "class Uber:\n",
        "    def __init__(self, car_number, ride_type, *places):\n",
        "        self.car_number = car_number\n",
        "        self.ride_type = ride_type\n",
        "        self.places = places\n",
        "\n",
        "    def details(self):\n",
        "        s = \"\"\n",
        "        for i in range(len(self.places)):\n",
        "            if i!=len(self.places)-1:\n",
        "                s+=self.places[i]+\" --> \"\n",
        "            else:\n",
        "                s+=self.places[i]\n",
        "\n",
        "        print(f\"Car number: {self.car_number}\")\n",
        "        print(f\"Type: {self.ride_type}\")\n",
        "        print(f\"Routes: {s}\")\n",
        "\n",
        "    def pick(self, *users):\n",
        "        for i in users:\n",
        "            if i.ride_type != self.ride_type:\n",
        "                print(f\"{i.name} is looking for a different ride.\")\n",
        "            # elif self.ride_type == \"Shared\" and i.place in self.places:\n",
        "            #     print(f\"{i.name} has been picked up.\")\n",
        "            #     i.board_car(self.car_number)\n",
        "            elif i.place in self.places:\n",
        "                print(f\"{i.name} has been picked up.\")\n",
        "                i.board_car(self.car_number)\n",
        "            # elif self.ride_type == \"Single\":\n",
        "            #     other_users_have_car = False\n",
        "            #     for u in users:\n",
        "            #         if u is not i and u.car:\n",
        "            #             other_users_have_car = True\n",
        "            #             break\n",
        "            #     if not other_users_have_car:\n",
        "            #         print(f\"{i.name} has been picked up.\")\n",
        "            #         i.board_car(self.car_number)\n",
        "            else:\n",
        "                print(f\"{i.name}'s destination is different from this car's route.\")\n",
        "\n",
        "\n",
        "user1 = User(\"Brooks\", \"Banani\", \"Shared\")\n",
        "user2 = User(\"Jocelyn\", \"Uttara\")\n",
        "user3 = User(\"Robert\", \"Gulshan\", \"Shared\")\n",
        "user4 = User(\"Langdon\", \"Mohakhali\", \"Shared\")\n",
        "\n",
        "\n",
        "user1.status()\n",
        "user2.status()\n",
        "user3.status()\n",
        "user4.status()\n",
        "print(\"----------------------------------\")\n",
        "car1 = Uber(\"0K32BH\", \"Shared\", \"Mohakhali\", \"Banani\", \"Nikunja\", \"Uttara\")\n",
        "car1.details()\n",
        "print(\"----------------------------------\")\n",
        "car1.pick(user1,user2,user3,user4)\n",
        "print(\"----------------------------------\")\n",
        "user1.status()\n",
        "user2.status()\n",
        "user3.status()\n",
        "user4.status()\n",
        "print(\"----------------------------------\")\n",
        "car2 = Uber(\"5GD2BD\", \"Single\", \"Uttara\")\n",
        "car3 = Uber(\"4T12FR\", \"Shared\", \"Gulshan\", \"Bashundhara\")\n",
        "car2.details()\n",
        "car3.details()\n",
        "print(\"----------------------------------\")\n",
        "car2.pick(user2, user3)\n",
        "print(\"----------------------------------\")\n",
        "car3.pick(user3)\n",
        "print(\"----------------------------------\")\n",
        "user2.status()\n",
        "user3.status()"
      ],
      "metadata": {
        "colab": {
          "base_uri": "https://localhost:8080/"
        },
        "id": "c5PnGJO2E0Rx",
        "outputId": "e1632be8-c520-460c-d37e-09be55a3fe64"
      },
      "execution_count": 26,
      "outputs": [
        {
          "output_type": "stream",
          "name": "stdout",
          "text": [
            "Status: Brooks is looking for a Shared ride!\n",
            "Status: Jocelyn is looking for a Single ride!\n",
            "Status: Robert is looking for a Shared ride!\n",
            "Status: Langdon is looking for a Shared ride!\n",
            "----------------------------------\n",
            "Car number: 0K32BH\n",
            "Type: Shared\n",
            "Routes: Mohakhali --> Banani --> Nikunja --> Uttara\n",
            "----------------------------------\n",
            "Brooks has been picked up.\n",
            "Jocelyn is looking for a different ride.\n",
            "Robert's destination is different from this car's route.\n",
            "Langdon has been picked up.\n",
            "----------------------------------\n",
            "Status: Brooks boarded in car 0K32BH!\n",
            "Status: Jocelyn is looking for a Single ride!\n",
            "Status: Robert is looking for a Shared ride!\n",
            "Status: Langdon boarded in car 0K32BH!\n",
            "----------------------------------\n",
            "Car number: 5GD2BD\n",
            "Type: Single\n",
            "Routes: Uttara\n",
            "Car number: 4T12FR\n",
            "Type: Shared\n",
            "Routes: Gulshan --> Bashundhara\n",
            "----------------------------------\n",
            "Jocelyn has been picked up.\n",
            "Robert is looking for a different ride.\n",
            "----------------------------------\n",
            "Robert has been picked up.\n",
            "----------------------------------\n",
            "Status: Jocelyn boarded in car 5GD2BD!\n",
            "Status: Robert boarded in car 4T12FR!\n"
          ]
        }
      ]
    }
  ]
}
