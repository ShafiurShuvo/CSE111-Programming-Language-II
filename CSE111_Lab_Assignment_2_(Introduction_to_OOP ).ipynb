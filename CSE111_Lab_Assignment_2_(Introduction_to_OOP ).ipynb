{
  "nbformat": 4,
  "nbformat_minor": 0,
  "metadata": {
    "colab": {
      "provenance": []
    },
    "kernelspec": {
      "name": "python3",
      "display_name": "Python 3"
    },
    "language_info": {
      "name": "python"
    }
  },
  "cells": [
    {
      "cell_type": "markdown",
      "source": [
        "***Task-1:***"
      ],
      "metadata": {
        "id": "WNwiHYMmzgaG"
      }
    },
    {
      "cell_type": "code",
      "execution_count": null,
      "metadata": {
        "colab": {
          "base_uri": "https://localhost:8080/"
        },
        "id": "BkyBipi5u9By",
        "outputId": "9e4b997d-a27f-459b-c8ff-176f6025aa8a"
      },
      "outputs": [
        {
          "output_type": "stream",
          "name": "stdout",
          "text": [
            "Integer\n",
            "1234\n",
            "=====================\n",
            "String\n",
            "Hello\n",
            "=====================\n",
            "Float\n",
            "4.0\n"
          ]
        }
      ],
      "source": [
        "class DataType:\n",
        "    def __init__(self, name, value):\n",
        "        self.name = name\n",
        "        self.value = value\n",
        "\n",
        "data_type1 = DataType('Integer', 1234)\n",
        "print(data_type1.name)\n",
        "print(data_type1.value)\n",
        "print('=====================')\n",
        "data_type2 = DataType('String', 'Hello')\n",
        "print(data_type2.name)\n",
        "print(data_type2.value)\n",
        "print('=====================')\n",
        "data_type3 = DataType('Float', 4.0)\n",
        "print(data_type3.name)\n",
        "print(data_type3.value)"
      ]
    },
    {
      "cell_type": "markdown",
      "source": [
        "***Task-2:***"
      ],
      "metadata": {
        "id": "ZYBph1mYzgdQ"
      }
    },
    {
      "cell_type": "code",
      "source": [
        "#subtask 1\n",
        "class Flower:\n",
        "    def __init__(self):\n",
        "        self.name = \"\"\n",
        "        self.color = \"\"\n",
        "        self.num_of_petal = 0\n",
        "\n",
        "flower1 = Flower()\n",
        "flower1.name=\"Rose\"\n",
        "flower1.color=\"Red\"\n",
        "flower1.num_of_petal=6\n",
        "print(\"Name of this flower:\", flower1.name)\n",
        "print(\"Color of this flower:\",flower1.color)\n",
        "print(\"Number of petal:\",flower1.num_of_petal)\n",
        "print(\"=====================\")\n",
        "flower2 = Flower()\n",
        "flower2.name=\"Orchid\"\n",
        "flower2.color=\"Purple\"\n",
        "flower2.num_of_petal=4\n",
        "print(\"Name of this flower:\",flower2.name)\n",
        "print(\"Color of this flower:\",flower2.color)\n",
        "print (\"Number of petal:\",flower2. num_of_petal)\n",
        "#subtask 2\n",
        "print()\n",
        "print(\"Addresses:\")\n",
        "print(flower1)\n",
        "print(flower2)\n",
        "#subtask3\n",
        "print()\n",
        "if flower1 == flower2:\n",
        "    print(\"They are same\")\n",
        "else:\n",
        "    print(\"They are different\")"
      ],
      "metadata": {
        "colab": {
          "base_uri": "https://localhost:8080/"
        },
        "id": "m637g29w0mmL",
        "outputId": "524d3dae-8fa1-46da-d493-5519aa4e255e"
      },
      "execution_count": 2,
      "outputs": [
        {
          "output_type": "stream",
          "name": "stdout",
          "text": [
            "Name of this flower: Rose\n",
            "Color of this flower: Red\n",
            "Number of petal: 6\n",
            "=====================\n",
            "Name of this flower: Orchid\n",
            "Color of this flower: Purple\n",
            "Number of petal: 4\n",
            "\n",
            "Addresses:\n",
            "<__main__.Flower object at 0x7dfabb5f4fa0>\n",
            "<__main__.Flower object at 0x7dfabb4a4160>\n",
            "\n",
            "They are different\n"
          ]
        }
      ]
    },
    {
      "cell_type": "markdown",
      "source": [
        "***Task-3:***"
      ],
      "metadata": {
        "id": "qUSNcZH6zge3"
      }
    },
    {
      "cell_type": "code",
      "source": [
        "#subtask 1\n",
        "class Joker:\n",
        "    def __init__(self, name, power, is_he_psycho):\n",
        "        self.name = name\n",
        "        self.power = power\n",
        "        self.is_he_psycho = is_he_psycho\n",
        "\n",
        "j1 = Joker('Heath Ledger', 'Mind Game', False)\n",
        "print(j1.name)\n",
        "print(j1.power)\n",
        "print(j1.is_he_psycho)\n",
        "print(\"=====================\")\n",
        "j2 = Joker('Joaquin Phoenix', 'Laughing out Loud', True)\n",
        "print(j2.name)\n",
        "print(j2.power)\n",
        "print(j2.is_he_psycho)\n",
        "print(\"=====================\")\n",
        "if j1 == j2:\n",
        "    print('same')\n",
        "else:\n",
        "    print('different')\n",
        "j2.name = 'Heath Ledger'\n",
        "if j1.name == j2.name:\n",
        "    print('same')\n",
        "else:\n",
        "    print('different')\n",
        "\n",
        "print()\n",
        "#subtask_2\n",
        "print('They are different because they are different objects of the Joker class. And the if statement mainly checks their memory location which are different')\n",
        "#subtask_3\n",
        "print('It is same because in line 22 we changed the j2.name which is same as j1.name')"
      ],
      "metadata": {
        "colab": {
          "base_uri": "https://localhost:8080/"
        },
        "id": "RvGR9uLs0mpJ",
        "outputId": "4589c17b-930c-4bc4-df7f-46386a04243a"
      },
      "execution_count": 3,
      "outputs": [
        {
          "output_type": "stream",
          "name": "stdout",
          "text": [
            "Heath Ledger\n",
            "Mind Game\n",
            "False\n",
            "=====================\n",
            "Joaquin Phoenix\n",
            "Laughing out Loud\n",
            "True\n",
            "=====================\n",
            "different\n",
            "same\n",
            "\n",
            "They are different because they are different objects of the Joker class. And the if statement mainly checks their memory location which are different\n",
            "It is same because in line 22 we changed the j2.name which is same as j1.name\n"
          ]
        }
      ]
    },
    {
      "cell_type": "markdown",
      "source": [
        "**Task-4**"
      ],
      "metadata": {
        "id": "DUyqZB47zghX"
      }
    },
    {
      "cell_type": "code",
      "source": [
        "#subtask 1\n",
        "class Pokemon:\n",
        "    def __init__(self, pokemon1_name, pokemon2_name, pokemon1_power, pokemon2_power, damage_rate):\n",
        "      self.pokemon1_name = pokemon1_name\n",
        "      self.pokemon2_name = pokemon2_name\n",
        "      self.pokemon1_power = pokemon1_power\n",
        "      self.pokemon2_power = pokemon2_power\n",
        "      self.damage_rate = damage_rate\n",
        "\n",
        "team_pika = Pokemon('pikachu', 'charmander', 90, 60, 10)\n",
        "print('=======Team 1=======')\n",
        "print('Pokemon 1:',team_pika.pokemon1_name, team_pika.pokemon1_power)\n",
        "print('Pokemon 2:',team_pika.pokemon2_name, team_pika.pokemon2_power)\n",
        "pika_combined_power = (team_pika.pokemon1_power + team_pika.pokemon2_power) * team_pika.damage_rate\n",
        "print('Combined Power:', pika_combined_power)\n",
        "\n",
        "#subtask 2\n",
        "team_bulb = Pokemon('bulbasaur', 'squirtale', 80, 70, 9)\n",
        "#subtask 3\n",
        "print('=======Team 2=======')\n",
        "print('Pokemon 1:',team_bulb.pokemon1_name, team_bulb.pokemon1_power)\n",
        "print('Pokemon 2:',team_bulb.pokemon2_name, team_bulb.pokemon2_power)\n",
        "bulb_combined_power = (team_bulb.pokemon1_power + team_bulb.pokemon2_power) * team_bulb.damage_rate\n",
        "print('Combined Power:', bulb_combined_power)"
      ],
      "metadata": {
        "colab": {
          "base_uri": "https://localhost:8080/"
        },
        "id": "RIzQqQ6z0mrk",
        "outputId": "c353f1ff-4a0c-44c3-916c-3190e50d9e5d"
      },
      "execution_count": null,
      "outputs": [
        {
          "output_type": "stream",
          "name": "stdout",
          "text": [
            "=======Team 1=======\n",
            "Pokemon 1: pikachu 90\n",
            "Pokemon 2: charmander 60\n",
            "Combined Power: 1500\n",
            "=======Team 2=======\n",
            "Pokemon 1: bulbasaur 80\n",
            "Pokemon 2: squirtale 70\n",
            "Combined Power: 1350\n"
          ]
        }
      ]
    },
    {
      "cell_type": "markdown",
      "source": [
        "***Task-5:***"
      ],
      "metadata": {
        "id": "hkRxfmsazgkI"
      }
    },
    {
      "cell_type": "code",
      "source": [
        "class Player:\n",
        "    def __init__(self):\n",
        "        self.name = ''\n",
        "        self.jersy = ''\n",
        "        self.position = ''\n",
        "\n",
        "player1 = Player()\n",
        "player1.name = \"Ronaldo\"\n",
        "player1.jersy_number = 9\n",
        "player1.position = \"Striker\"\n",
        "print(\"Name of the Player:\", player1.name)\n",
        "print(\"Jersey Number of player:\", player1.jersy_number)\n",
        "print(\"Position of player:\", player1.position)\n",
        "print(\"===========================\")\n",
        "player2 = Player()\n",
        "player2.name = \"Neuer\"\n",
        "player2.jersy_number = 1\n",
        "player2.position = \"Goal Keeper\"\n",
        "print(\"Name of the player:\", player2.name)\n",
        "print(\"Jersey Number of player:\", player2.jersy_number)\n",
        "print(\"Position of player:\", player2.position)"
      ],
      "metadata": {
        "id": "2Wshdxc00muP",
        "colab": {
          "base_uri": "https://localhost:8080/"
        },
        "outputId": "47b9c8d0-228d-462b-910d-24e8656f0200"
      },
      "execution_count": 5,
      "outputs": [
        {
          "output_type": "stream",
          "name": "stdout",
          "text": [
            "Name of the Player: Ronaldo\n",
            "Jersey Number of player: 9\n",
            "Position of player: Striker\n",
            "===========================\n",
            "Name of the player: Neuer\n",
            "Jersey Number of player: 1\n",
            "Position of player: Goal Keeper\n"
          ]
        }
      ]
    },
    {
      "cell_type": "markdown",
      "source": [
        "***Task-6:***"
      ],
      "metadata": {
        "id": "M0a_NhXOzgmd"
      }
    },
    {
      "cell_type": "code",
      "source": [
        "class Country:\n",
        "    def __init__(self):\n",
        "        self.name = \"Bangladesh\"\n",
        "        self.continent = \"Asia\"\n",
        "        self.capital = \"Dhaka\"\n",
        "        self.fifa_ranking = 187\n",
        "\n",
        "country = Country()\n",
        "print('Name:',country.name)\n",
        "print('Continent:',country.continent)\n",
        "print('Capital:',country.capital)\n",
        "print('Fifa Ranking:',country.fifa_ranking)\n",
        "print('===================')\n",
        "country.name = \"Belgium\"\n",
        "country.continent = \"Europe\"\n",
        "country.capital = \"Brussels\"\n",
        "country.fifa_ranking = 1\n",
        "print('Name:',country.name)\n",
        "print('Continent:',country.continent)\n",
        "print('Capital:',country.capital)\n",
        "print('Fifa Ranking:',country.fifa_ranking)"
      ],
      "metadata": {
        "id": "0X4ddaxP0mw6",
        "colab": {
          "base_uri": "https://localhost:8080/"
        },
        "outputId": "7cba3f3f-3a8f-473c-9922-98a546d25aa5"
      },
      "execution_count": null,
      "outputs": [
        {
          "output_type": "stream",
          "name": "stdout",
          "text": [
            "Name: Bangladesh\n",
            "Continent: Asia\n",
            "Capital: Dhaka\n",
            "Fifa Ranking: 187\n",
            "===================\n",
            "Name: Belgium\n",
            "Continent: Europe\n",
            "Capital: Brussels\n",
            "Fifa Ranking: 1\n"
          ]
        }
      ]
    },
    {
      "cell_type": "markdown",
      "source": [
        "***Task-7:***"
      ],
      "metadata": {
        "id": "hZ4ifw7DzgpI"
      }
    },
    {
      "cell_type": "code",
      "source": [
        "class DemonSlayer:\n",
        "    def __init__(self, name, style, number_of_technique, kill):\n",
        "        self.name = name\n",
        "        self.style = style\n",
        "        self.number_of_technique = number_of_technique\n",
        "        self.kill = kill\n",
        "\n",
        "\n",
        "tanjiro = DemonSlayer(\"Tanjiro\", \"Water Breathing\", 10, 10)\n",
        "print('Name:',tanjiro.name)\n",
        "print('Fighting Style:',tanjiro.style)\n",
        "print(f'Knows {tanjiro.number_of_technique} technique(s) and has killed {tanjiro.kill} demon(s)')\n",
        "print('===================')\n",
        "zenitsu = DemonSlayer(\"Zenitsu\", \"Thunder Breathing\", 1, 4)\n",
        "print('Name:',zenitsu.name)\n",
        "print('Fighting Style:',zenitsu.style)\n",
        "print(f'Knows {zenitsu.number_of_technique} technique(s) and has killed {zenitsu.kill} demon(s)')\n",
        "print('===================')\n",
        "inosuke = DemonSlayer(\"Inosuke\", \"Beast Breathing\", 5, 7)\n",
        "print('Name:',inosuke.name)\n",
        "print('Fighting Style:',inosuke.style)\n",
        "print(f'Knows {inosuke.number_of_technique} technique(s) and has killed {inosuke.kill} demon(s)')\n",
        "print('===================')\n",
        "print(f'{tanjiro.name}, {zenitsu.name}, {inosuke.name} knows total {tanjiro.number_of_technique + zenitsu.number_of_technique + inosuke.number_of_technique} techniques')\n",
        "print(f'They have killed total {tanjiro.kill + zenitsu.kill + inosuke.kill} demons')"
      ],
      "metadata": {
        "id": "4DpwNzJ00m39",
        "colab": {
          "base_uri": "https://localhost:8080/"
        },
        "outputId": "03d19b7f-4d42-476c-e402-040982e08ec0"
      },
      "execution_count": null,
      "outputs": [
        {
          "output_type": "stream",
          "name": "stdout",
          "text": [
            "Name: Tanjiro\n",
            "Fighting Style: Water Breathing\n",
            "Knows 10 technique(s) and has killed 10 demon(s)\n",
            "===================\n",
            "Name: Zenitsu\n",
            "Fighting Style: Thunder Breathing\n",
            "Knows 1 technique(s) and has killed 4 demon(s)\n",
            "===================\n",
            "Name: Inosuke\n",
            "Fighting Style: Beast Breathing\n",
            "Knows 5 technique(s) and has killed 7 demon(s)\n",
            "===================\n",
            "Tanjiro, Zenitsu, Inosuke knows total 16 techniques\n",
            "They have killed total 21 demons\n"
          ]
        }
      ]
    },
    {
      "cell_type": "markdown",
      "source": [
        "***Task-8:***"
      ],
      "metadata": {
        "id": "1nTxA4QIzgsm"
      }
    },
    {
      "cell_type": "code",
      "source": [
        "class box:\n",
        "    def __init__(self, info):\n",
        "        self.height = info[0]\n",
        "        self.width = info[1]\n",
        "        self.breadth = info[2]\n",
        "        print(\"Creating a box!\")\n",
        "        print(f\"Volume of the box is {self.height*self.width*self.breadth} cubic units.\")\n",
        "\n",
        "        #print(f\"Volume of the box is {b1.height*b1.width*b1.breadth} cubic units.\")\n",
        "\n",
        "print(\"Box 1\")\n",
        "#print(\"Creating a box\")\n",
        "b1 = box([10,10,10])\n",
        "#print(f\"Volume of the box is {b1.height*b1.width*b1.breadth} cubic units.\")\n",
        "print(\"=========================\")\n",
        "print(\"Height:\", b1.height)\n",
        "print(\"Width:\", b1.width)\n",
        "print(\"Breadth:\", b1.breadth)\n",
        "print(\"-------------------------\")\n",
        "print(\"Box 2\")\n",
        "b2 = box((30,10,10))\n",
        "#print(f\"Volume of the box is {b2.height*b2.width*b2.breadth} cubic units.\")\n",
        "print(\"=========================\")\n",
        "print(\"Height:\", b2.height)\n",
        "print(\"Width:\", b2.width)\n",
        "print(\"Breadth:\", b2.breadth)\n",
        "b2.height = 300\n",
        "print(\"Updating Box 2!\")\n",
        "print(\"Height:\", b2.height)\n",
        "print(\"Width:\", b2.width)\n",
        "print(\"Breadth:\", b2.breadth)\n",
        "print(\"-------------------------\")\n",
        "print(\"Box 3\")\n",
        "b3 = b2\n",
        "print(\"Height:\", b3.height)\n",
        "print(\"Width:\", b3.width)\n",
        "print(\"Breadth:\", b3.breadth)"
      ],
      "metadata": {
        "id": "eUIOLn-S0mzQ",
        "colab": {
          "base_uri": "https://localhost:8080/"
        },
        "outputId": "99c5b125-4db7-4b23-8671-a88a1b302caa"
      },
      "execution_count": null,
      "outputs": [
        {
          "output_type": "stream",
          "name": "stdout",
          "text": [
            "Box 1\n",
            "Creating a box!\n",
            "Volume of the box is 1000 cubic units.\n",
            "=========================\n",
            "Height: 10\n",
            "Width: 10\n",
            "Breadth: 10\n",
            "-------------------------\n",
            "Box 2\n",
            "Creating a box!\n",
            "Volume of the box is 3000 cubic units.\n",
            "=========================\n",
            "Height: 30\n",
            "Width: 10\n",
            "Breadth: 10\n",
            "Updating Box 2!\n",
            "Height: 300\n",
            "Width: 10\n",
            "Breadth: 10\n",
            "-------------------------\n",
            "Box 3\n",
            "Height: 300\n",
            "Width: 10\n",
            "Breadth: 10\n"
          ]
        }
      ]
    },
    {
      "cell_type": "markdown",
      "source": [
        "***Task-9:***"
      ],
      "metadata": {
        "id": "7IVd3Zfp0dZ-"
      }
    },
    {
      "cell_type": "code",
      "source": [
        "class buttons:\n",
        "    def __init__(self, word, spaces, border):\n",
        "\n",
        "        self.word = word\n",
        "        self.spaces = spaces\n",
        "        self.border = border\n",
        "\n",
        "        print(f\"{self.word} Button Specifications:\")\n",
        "        print(f\"Button name: {self.word}\")\n",
        "        print(f\"Number of the border characters for the top and the bottom: {self.border}\")\n",
        "        print(f\"Number of spaces between the left side border and the first character of the button name: {self.spaces}\")\n",
        "        print(f\"Number of spaces between the right side border and the last character of the button name: {self.spaces}\")\n",
        "        print(f\"Characters representing the borders: {self.border}\")\n",
        "\n",
        "        print(str(self.border)*(1+len(self.word)+1+(2*spaces)))\n",
        "        print(self.border + \" \" * self.spaces + self.word + \" \"*(self.spaces) + self.border)\n",
        "        print(str(self.border)*(1+len(self.word)+1+(2*spaces)))\n",
        "\n",
        "word = \"CANCEL\"\n",
        "spaces = 10\n",
        "border = 'x'\n",
        "b1 = buttons(word, spaces, border)\n",
        "print(\"=======================================================\")\n",
        "b2 = buttons(\"Notify\",3, '!')\n",
        "print(\"=======================================================\")\n",
        "b3 = buttons('SAVE PROGRESS', 5, '$')"
      ],
      "metadata": {
        "id": "_2mY0LzW0m1p",
        "colab": {
          "base_uri": "https://localhost:8080/"
        },
        "outputId": "54634315-91d8-45c5-8dc9-efba1881d4ea"
      },
      "execution_count": null,
      "outputs": [
        {
          "output_type": "stream",
          "name": "stdout",
          "text": [
            "CANCEL Button Specifications:\n",
            "Button name: CANCEL\n",
            "Number of the border characters for the top and the bottom: x\n",
            "Number of spaces between the left side border and the first character of the button name: 10\n",
            "Number of spaces between the right side border and the last character of the button name: 10\n",
            "Characters representing the borders: x\n",
            "xxxxxxxxxxxxxxxxxxxxxxxxxxxx\n",
            "x          CANCEL          x\n",
            "xxxxxxxxxxxxxxxxxxxxxxxxxxxx\n",
            "=======================================================\n",
            "Notify Button Specifications:\n",
            "Button name: Notify\n",
            "Number of the border characters for the top and the bottom: !\n",
            "Number of spaces between the left side border and the first character of the button name: 3\n",
            "Number of spaces between the right side border and the last character of the button name: 3\n",
            "Characters representing the borders: !\n",
            "!!!!!!!!!!!!!!\n",
            "!   Notify   !\n",
            "!!!!!!!!!!!!!!\n",
            "=======================================================\n",
            "SAVE PROGRESS Button Specifications:\n",
            "Button name: SAVE PROGRESS\n",
            "Number of the border characters for the top and the bottom: $\n",
            "Number of spaces between the left side border and the first character of the button name: 5\n",
            "Number of spaces between the right side border and the last character of the button name: 5\n",
            "Characters representing the borders: $\n",
            "$$$$$$$$$$$$$$$$$$$$$$$$$\n",
            "$     SAVE PROGRESS     $\n",
            "$$$$$$$$$$$$$$$$$$$$$$$$$\n"
          ]
        }
      ]
    },
    {
      "cell_type": "markdown",
      "source": [
        "***Task-10:***"
      ],
      "metadata": {
        "id": "wKnR4xcT0dok"
      }
    },
    {
      "cell_type": "code",
      "source": [
        "class Wadiya():\n",
        "    def __init__(self):\n",
        "        self.name = 'Aladeen'\n",
        "        self.designation = 'President Prime Minister Admiral General'\n",
        "        self.num_of_wife = 100\n",
        "        self.dictator = True\n",
        "\n",
        "#subtask 1\n",
        "wadiya = Wadiya()\n",
        "#subtask 2\n",
        "print(\"Part 1: \")\n",
        "print(f\"Name of President: {wadiya.name}\")\n",
        "print(f\"Designation: {wadiya.designation}\")\n",
        "print(f\"Number of wife: {wadiya.num_of_wife}\")\n",
        "print(f\"Is he/she a dictator: {wadiya.dictator}\")\n",
        "\n",
        "#subtask 3\n",
        "wadiya.name = 'Donald Trump'\n",
        "wadiya.designation = 'President'\n",
        "wadiya.num_of_wife = 1\n",
        "wadiya.dictator = False\n",
        "\n",
        "print(\"Part 2: \")\n",
        "print(f\"Name of President: {wadiya.name}\")\n",
        "print(f\"Designation: {wadiya.designation}\")\n",
        "print(f\"Number of wife: {wadiya.num_of_wife}\")\n",
        "print(f\"Is he/she a dictator: {wadiya.dictator}\")\n",
        "\n",
        "#subtask 4\n",
        "print(\"No, changing had no effect on previous value\")"
      ],
      "metadata": {
        "colab": {
          "base_uri": "https://localhost:8080/"
        },
        "id": "velTn_Wz0m7a",
        "outputId": "2e051c0a-2216-4f57-9840-521e52376e6b"
      },
      "execution_count": null,
      "outputs": [
        {
          "output_type": "stream",
          "name": "stdout",
          "text": [
            "Part 1: \n",
            "Name of President: Aladeen\n",
            "Designation: President Prime Minister Admiral General\n",
            "Number of wife: 100\n",
            "Is he/she a dictator: True\n",
            "Part 2: \n",
            "Name of President: Donald Trump\n",
            "Designation: President\n",
            "Number of wife: 1\n",
            "Is he/she a dictator: False\n",
            "No, changing had no effect on previous value\n"
          ]
        }
      ]
    }
  ]
}
